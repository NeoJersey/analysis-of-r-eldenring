{
 "cells": [
  {
   "cell_type": "code",
   "execution_count": 2,
   "metadata": {},
   "outputs": [],
   "source": [
    "import requests\n",
    "import bs4 as bs\n",
    "from psaw import PushshiftAPI\n",
    "import datetime as dt\n",
    "import pandas as pd\n",
    "\n",
    "api = PushshiftAPI()\n",
    "\n",
    "ULTRA_BEFORE = int(dt.datetime(2022, 3, 26).timestamp())\n",
    "BEFORE = int(dt.datetime(2022, 3, 26).timestamp())\n",
    "AFTER = int(dt.datetime(2019, 1, 1).timestamp())"
   ]
  },
  {
   "cell_type": "code",
   "execution_count": null,
   "metadata": {},
   "outputs": [],
   "source": [
    "# getting comments\n",
    "from psaw import PushshiftAPI\n",
    "import datetime as dt\n",
    "import pandas as pd\n",
    "\n",
    "BEFORE = int(dt.datetime(2022, 3, 26).timestamp())\n",
    "AFTER = int(dt.datetime(2019, 1, 1).timestamp())\n",
    "\n",
    "NUM_BLOCKS = 100\n",
    "\n",
    "def period_to_blocks(before:int, after:int, num_blocks) -> list:\n",
    "    \"\"\"\n",
    "    Converts a time period to a list of blocks.\n",
    "    \"\"\"\n",
    "    blocks = []\n",
    "    distance = int((before-after)/num_blocks)\n",
    "    intervals = [after + i*distance for i in range(num_blocks)]\n",
    "\n",
    "    blocks = [(interval, interval + distance) for interval in intervals]\n",
    "    return blocks\n",
    "\n",
    "blocks = period_to_blocks(BEFORE, AFTER, NUM_BLOCKS)\n",
    "\n",
    "for block in blocks:\n",
    "    try:\n",
    "        comments = list(api.search_comments(\n",
    "        subreddit = \"eldenring\",\n",
    "        before = block[1],\n",
    "        after = block[0],\n",
    "        filter = [\n",
    "            \"id\", \n",
    "            \"author\", \n",
    "            \"created_utc\", \n",
    "            \"permalink\", # https://reddit.com/<url>\n",
    "            \"body\",\n",
    "            \"score\", # number of upvotes\n",
    "            ],\n",
    "        # limit =1, \n",
    "        ))\n",
    "        df = pd.DataFrame(comments)\n",
    "        df.to_csv(f\"comments_after_{block[0]}.csv\")\n",
    "\n",
    "        print(f\"{block} is finished!\")\n",
    "    except:\n",
    "        print(block)\n",
    "        pass"
   ]
  },
  {
   "cell_type": "code",
   "execution_count": 3,
   "metadata": {},
   "outputs": [
    {
     "name": "stdout",
     "output_type": "stream",
     "text": [
      "(1646212186, 1646213332) is finished!\n",
      "(1646213332, 1646214478) is finished!\n",
      "(1646214478, 1646215624) is finished!\n",
      "(1646215624, 1646216770) is finished!\n",
      "(1646216770, 1646217916) is finished!\n",
      "(1646217916, 1646219062) is finished!\n",
      "(1646219062, 1646220208) is finished!\n",
      "(1646220208, 1646221354) is finished!\n",
      "(1646221354, 1646222500) is finished!\n",
      "(1646222500, 1646223646) is finished!\n",
      "(1646223646, 1646224792) is finished!\n",
      "(1646224792, 1646225938) is finished!\n",
      "(1646225938, 1646227084) is finished!\n",
      "(1646227084, 1646228230) is finished!\n",
      "(1646228230, 1646229376) is finished!\n",
      "(1646229376, 1646230522) is finished!\n",
      "(1646230522, 1646231668) is finished!\n",
      "(1646231668, 1646232814) is finished!\n",
      "(1646232814, 1646233960) is finished!\n",
      "(1646233960, 1646235106) is finished!\n"
     ]
    },
    {
     "name": "stderr",
     "output_type": "stream",
     "text": [
      "/Users/jersey/Library/Caches/pypoetry/virtualenvs/analysis-of-r-eldenring-n2W_eMD4-py3.8/lib/python3.8/site-packages/psaw/PushshiftAPI.py:192: UserWarning: Got non 200 code 522\n",
      "  warnings.warn(\"Got non 200 code %s\" % response.status_code)\n",
      "/Users/jersey/Library/Caches/pypoetry/virtualenvs/analysis-of-r-eldenring-n2W_eMD4-py3.8/lib/python3.8/site-packages/psaw/PushshiftAPI.py:180: UserWarning: Unable to connect to pushshift.io. Retrying after backoff.\n",
      "  warnings.warn(\"Unable to connect to pushshift.io. Retrying after backoff.\")\n"
     ]
    },
    {
     "name": "stdout",
     "output_type": "stream",
     "text": [
      "(1646235106, 1646236252) is finished!\n",
      "(1646236252, 1646237398) is finished!\n",
      "(1646237398, 1646238544) is finished!\n",
      "(1646238544, 1646239690) is finished!\n",
      "(1647698644, 1647710113) is finished!\n",
      "(1647710113, 1647721582) is finished!\n"
     ]
    },
    {
     "name": "stderr",
     "output_type": "stream",
     "text": [
      "/Users/jersey/Library/Caches/pypoetry/virtualenvs/analysis-of-r-eldenring-n2W_eMD4-py3.8/lib/python3.8/site-packages/psaw/PushshiftAPI.py:192: UserWarning: Got non 200 code 429\n",
      "  warnings.warn(\"Got non 200 code %s\" % response.status_code)\n",
      "/Users/jersey/Library/Caches/pypoetry/virtualenvs/analysis-of-r-eldenring-n2W_eMD4-py3.8/lib/python3.8/site-packages/psaw/PushshiftAPI.py:180: UserWarning: Unable to connect to pushshift.io. Retrying after backoff.\n",
      "  warnings.warn(\"Unable to connect to pushshift.io. Retrying after backoff.\")\n"
     ]
    },
    {
     "name": "stdout",
     "output_type": "stream",
     "text": [
      "(1647721582, 1647733051) is finished!\n",
      "(1647733051, 1647744520) is finished!\n",
      "(1647744520, 1647755989) is finished!\n",
      "(1647755989, 1647767458) is finished!\n",
      "(1647767458, 1647778927) is finished!\n",
      "(1647778927, 1647790396) is finished!\n"
     ]
    },
    {
     "name": "stderr",
     "output_type": "stream",
     "text": [
      "/Users/jersey/Library/Caches/pypoetry/virtualenvs/analysis-of-r-eldenring-n2W_eMD4-py3.8/lib/python3.8/site-packages/psaw/PushshiftAPI.py:192: UserWarning: Got non 200 code 502\n",
      "  warnings.warn(\"Got non 200 code %s\" % response.status_code)\n",
      "/Users/jersey/Library/Caches/pypoetry/virtualenvs/analysis-of-r-eldenring-n2W_eMD4-py3.8/lib/python3.8/site-packages/psaw/PushshiftAPI.py:180: UserWarning: Unable to connect to pushshift.io. Retrying after backoff.\n",
      "  warnings.warn(\"Unable to connect to pushshift.io. Retrying after backoff.\")\n"
     ]
    },
    {
     "name": "stdout",
     "output_type": "stream",
     "text": [
      "(1647790396, 1647801865) is finished!\n"
     ]
    },
    {
     "name": "stderr",
     "output_type": "stream",
     "text": [
      "/Users/jersey/Library/Caches/pypoetry/virtualenvs/analysis-of-r-eldenring-n2W_eMD4-py3.8/lib/python3.8/site-packages/psaw/PushshiftAPI.py:192: UserWarning: Got non 200 code 502\n",
      "  warnings.warn(\"Got non 200 code %s\" % response.status_code)\n",
      "/Users/jersey/Library/Caches/pypoetry/virtualenvs/analysis-of-r-eldenring-n2W_eMD4-py3.8/lib/python3.8/site-packages/psaw/PushshiftAPI.py:180: UserWarning: Unable to connect to pushshift.io. Retrying after backoff.\n",
      "  warnings.warn(\"Unable to connect to pushshift.io. Retrying after backoff.\")\n"
     ]
    },
    {
     "name": "stdout",
     "output_type": "stream",
     "text": [
      "(1647801865, 1647813334) is finished!\n",
      "(1647813334, 1647824803) is finished!\n",
      "(1647824803, 1647836272) is finished!\n",
      "(1647836272, 1647847741) is finished!\n",
      "(1647847741, 1647859210) is finished!\n"
     ]
    },
    {
     "name": "stderr",
     "output_type": "stream",
     "text": [
      "/Users/jersey/Library/Caches/pypoetry/virtualenvs/analysis-of-r-eldenring-n2W_eMD4-py3.8/lib/python3.8/site-packages/psaw/PushshiftAPI.py:192: UserWarning: Got non 200 code 522\n",
      "  warnings.warn(\"Got non 200 code %s\" % response.status_code)\n",
      "/Users/jersey/Library/Caches/pypoetry/virtualenvs/analysis-of-r-eldenring-n2W_eMD4-py3.8/lib/python3.8/site-packages/psaw/PushshiftAPI.py:180: UserWarning: Unable to connect to pushshift.io. Retrying after backoff.\n",
      "  warnings.warn(\"Unable to connect to pushshift.io. Retrying after backoff.\")\n"
     ]
    },
    {
     "name": "stdout",
     "output_type": "stream",
     "text": [
      "(1647859210, 1647870679) is finished!\n",
      "(1647870679, 1647882148) is finished!\n",
      "(1647882148, 1647893617) is finished!\n",
      "(1647893617, 1647905086) is finished!\n",
      "(1647905086, 1647916555) is finished!\n",
      "(1647916555, 1647928024) is finished!\n",
      "(1647928024, 1647939493) is finished!\n",
      "(1647939493, 1647950962) is finished!\n"
     ]
    },
    {
     "name": "stderr",
     "output_type": "stream",
     "text": [
      "/Users/jersey/Library/Caches/pypoetry/virtualenvs/analysis-of-r-eldenring-n2W_eMD4-py3.8/lib/python3.8/site-packages/psaw/PushshiftAPI.py:192: UserWarning: Got non 200 code 502\n",
      "  warnings.warn(\"Got non 200 code %s\" % response.status_code)\n",
      "/Users/jersey/Library/Caches/pypoetry/virtualenvs/analysis-of-r-eldenring-n2W_eMD4-py3.8/lib/python3.8/site-packages/psaw/PushshiftAPI.py:180: UserWarning: Unable to connect to pushshift.io. Retrying after backoff.\n",
      "  warnings.warn(\"Unable to connect to pushshift.io. Retrying after backoff.\")\n"
     ]
    },
    {
     "name": "stdout",
     "output_type": "stream",
     "text": [
      "(1647950962, 1647962431) is finished!\n"
     ]
    },
    {
     "name": "stderr",
     "output_type": "stream",
     "text": [
      "/Users/jersey/Library/Caches/pypoetry/virtualenvs/analysis-of-r-eldenring-n2W_eMD4-py3.8/lib/python3.8/site-packages/psaw/PushshiftAPI.py:192: UserWarning: Got non 200 code 522\n",
      "  warnings.warn(\"Got non 200 code %s\" % response.status_code)\n",
      "/Users/jersey/Library/Caches/pypoetry/virtualenvs/analysis-of-r-eldenring-n2W_eMD4-py3.8/lib/python3.8/site-packages/psaw/PushshiftAPI.py:180: UserWarning: Unable to connect to pushshift.io. Retrying after backoff.\n",
      "  warnings.warn(\"Unable to connect to pushshift.io. Retrying after backoff.\")\n",
      "/Users/jersey/Library/Caches/pypoetry/virtualenvs/analysis-of-r-eldenring-n2W_eMD4-py3.8/lib/python3.8/site-packages/psaw/PushshiftAPI.py:192: UserWarning: Got non 200 code 502\n",
      "  warnings.warn(\"Got non 200 code %s\" % response.status_code)\n"
     ]
    },
    {
     "name": "stdout",
     "output_type": "stream",
     "text": [
      "(1647962431, 1647973900) is finished!\n",
      "(1647973914, 1647985383) is finished!\n",
      "(1647985383, 1647996852) is finished!\n",
      "(1647996852, 1648008321) is finished!\n",
      "(1648008321, 1648019790) is finished!\n"
     ]
    },
    {
     "name": "stderr",
     "output_type": "stream",
     "text": [
      "/Users/jersey/Library/Caches/pypoetry/virtualenvs/analysis-of-r-eldenring-n2W_eMD4-py3.8/lib/python3.8/site-packages/psaw/PushshiftAPI.py:192: UserWarning: Got non 200 code 521\n",
      "  warnings.warn(\"Got non 200 code %s\" % response.status_code)\n",
      "/Users/jersey/Library/Caches/pypoetry/virtualenvs/analysis-of-r-eldenring-n2W_eMD4-py3.8/lib/python3.8/site-packages/psaw/PushshiftAPI.py:180: UserWarning: Unable to connect to pushshift.io. Retrying after backoff.\n",
      "  warnings.warn(\"Unable to connect to pushshift.io. Retrying after backoff.\")\n",
      "/Users/jersey/Library/Caches/pypoetry/virtualenvs/analysis-of-r-eldenring-n2W_eMD4-py3.8/lib/python3.8/site-packages/psaw/PushshiftAPI.py:192: UserWarning: Got non 200 code 522\n",
      "  warnings.warn(\"Got non 200 code %s\" % response.status_code)\n",
      "/Users/jersey/Library/Caches/pypoetry/virtualenvs/analysis-of-r-eldenring-n2W_eMD4-py3.8/lib/python3.8/site-packages/psaw/PushshiftAPI.py:192: UserWarning: Got non 200 code 429\n",
      "  warnings.warn(\"Got non 200 code %s\" % response.status_code)\n"
     ]
    },
    {
     "name": "stdout",
     "output_type": "stream",
     "text": [
      "(1648019790, 1648031259) is finished!\n"
     ]
    },
    {
     "name": "stderr",
     "output_type": "stream",
     "text": [
      "/Users/jersey/Library/Caches/pypoetry/virtualenvs/analysis-of-r-eldenring-n2W_eMD4-py3.8/lib/python3.8/site-packages/psaw/PushshiftAPI.py:192: UserWarning: Got non 200 code 429\n",
      "  warnings.warn(\"Got non 200 code %s\" % response.status_code)\n",
      "/Users/jersey/Library/Caches/pypoetry/virtualenvs/analysis-of-r-eldenring-n2W_eMD4-py3.8/lib/python3.8/site-packages/psaw/PushshiftAPI.py:180: UserWarning: Unable to connect to pushshift.io. Retrying after backoff.\n",
      "  warnings.warn(\"Unable to connect to pushshift.io. Retrying after backoff.\")\n"
     ]
    },
    {
     "name": "stdout",
     "output_type": "stream",
     "text": [
      "(1648031259, 1648042728) is finished!\n"
     ]
    },
    {
     "name": "stderr",
     "output_type": "stream",
     "text": [
      "/Users/jersey/Library/Caches/pypoetry/virtualenvs/analysis-of-r-eldenring-n2W_eMD4-py3.8/lib/python3.8/site-packages/psaw/PushshiftAPI.py:192: UserWarning: Got non 200 code 429\n",
      "  warnings.warn(\"Got non 200 code %s\" % response.status_code)\n",
      "/Users/jersey/Library/Caches/pypoetry/virtualenvs/analysis-of-r-eldenring-n2W_eMD4-py3.8/lib/python3.8/site-packages/psaw/PushshiftAPI.py:180: UserWarning: Unable to connect to pushshift.io. Retrying after backoff.\n",
      "  warnings.warn(\"Unable to connect to pushshift.io. Retrying after backoff.\")\n",
      "/Users/jersey/Library/Caches/pypoetry/virtualenvs/analysis-of-r-eldenring-n2W_eMD4-py3.8/lib/python3.8/site-packages/psaw/PushshiftAPI.py:192: UserWarning: Got non 200 code 502\n",
      "  warnings.warn(\"Got non 200 code %s\" % response.status_code)\n"
     ]
    },
    {
     "name": "stdout",
     "output_type": "stream",
     "text": [
      "(1648042728, 1648054197) is finished!\n",
      "(1648054197, 1648065666) is finished!\n"
     ]
    },
    {
     "name": "stderr",
     "output_type": "stream",
     "text": [
      "/Users/jersey/Library/Caches/pypoetry/virtualenvs/analysis-of-r-eldenring-n2W_eMD4-py3.8/lib/python3.8/site-packages/psaw/PushshiftAPI.py:192: UserWarning: Got non 200 code 429\n",
      "  warnings.warn(\"Got non 200 code %s\" % response.status_code)\n",
      "/Users/jersey/Library/Caches/pypoetry/virtualenvs/analysis-of-r-eldenring-n2W_eMD4-py3.8/lib/python3.8/site-packages/psaw/PushshiftAPI.py:180: UserWarning: Unable to connect to pushshift.io. Retrying after backoff.\n",
      "  warnings.warn(\"Unable to connect to pushshift.io. Retrying after backoff.\")\n"
     ]
    },
    {
     "name": "stdout",
     "output_type": "stream",
     "text": [
      "(1648065666, 1648077135) is finished!\n"
     ]
    },
    {
     "name": "stderr",
     "output_type": "stream",
     "text": [
      "/Users/jersey/Library/Caches/pypoetry/virtualenvs/analysis-of-r-eldenring-n2W_eMD4-py3.8/lib/python3.8/site-packages/psaw/PushshiftAPI.py:192: UserWarning: Got non 200 code 502\n",
      "  warnings.warn(\"Got non 200 code %s\" % response.status_code)\n",
      "/Users/jersey/Library/Caches/pypoetry/virtualenvs/analysis-of-r-eldenring-n2W_eMD4-py3.8/lib/python3.8/site-packages/psaw/PushshiftAPI.py:180: UserWarning: Unable to connect to pushshift.io. Retrying after backoff.\n",
      "  warnings.warn(\"Unable to connect to pushshift.io. Retrying after backoff.\")\n",
      "/Users/jersey/Library/Caches/pypoetry/virtualenvs/analysis-of-r-eldenring-n2W_eMD4-py3.8/lib/python3.8/site-packages/psaw/PushshiftAPI.py:192: UserWarning: Got non 200 code 429\n",
      "  warnings.warn(\"Got non 200 code %s\" % response.status_code)\n"
     ]
    },
    {
     "name": "stdout",
     "output_type": "stream",
     "text": [
      "(1648077135, 1648088604) is finished!\n",
      "(1648088604, 1648100073) is finished!\n",
      "(1648100073, 1648111542) is finished!\n",
      "(1648111542, 1648123011) is finished!\n"
     ]
    },
    {
     "name": "stderr",
     "output_type": "stream",
     "text": [
      "/Users/jersey/Library/Caches/pypoetry/virtualenvs/analysis-of-r-eldenring-n2W_eMD4-py3.8/lib/python3.8/site-packages/psaw/PushshiftAPI.py:192: UserWarning: Got non 200 code 429\n",
      "  warnings.warn(\"Got non 200 code %s\" % response.status_code)\n",
      "/Users/jersey/Library/Caches/pypoetry/virtualenvs/analysis-of-r-eldenring-n2W_eMD4-py3.8/lib/python3.8/site-packages/psaw/PushshiftAPI.py:180: UserWarning: Unable to connect to pushshift.io. Retrying after backoff.\n",
      "  warnings.warn(\"Unable to connect to pushshift.io. Retrying after backoff.\")\n"
     ]
    },
    {
     "name": "stdout",
     "output_type": "stream",
     "text": [
      "(1648123011, 1648134480) is finished!\n",
      "(1648134480, 1648145949) is finished!\n"
     ]
    },
    {
     "name": "stderr",
     "output_type": "stream",
     "text": [
      "/Users/jersey/Library/Caches/pypoetry/virtualenvs/analysis-of-r-eldenring-n2W_eMD4-py3.8/lib/python3.8/site-packages/psaw/PushshiftAPI.py:192: UserWarning: Got non 200 code 502\n",
      "  warnings.warn(\"Got non 200 code %s\" % response.status_code)\n",
      "/Users/jersey/Library/Caches/pypoetry/virtualenvs/analysis-of-r-eldenring-n2W_eMD4-py3.8/lib/python3.8/site-packages/psaw/PushshiftAPI.py:180: UserWarning: Unable to connect to pushshift.io. Retrying after backoff.\n",
      "  warnings.warn(\"Unable to connect to pushshift.io. Retrying after backoff.\")\n"
     ]
    },
    {
     "name": "stdout",
     "output_type": "stream",
     "text": [
      "(1648145949, 1648157418) is finished!\n",
      "(1648157418, 1648168887) is finished!\n",
      "(1648168887, 1648180356) is finished!\n",
      "(1648180356, 1648191825) is finished!\n",
      "(1648191825, 1648203294) is finished!\n",
      "(1648203294, 1648214763) is finished!\n",
      "(1648214763, 1648226232) is finished!\n",
      "(1648226232, 1648237701) is finished!\n",
      "(1648237701, 1648249170) is finished!\n"
     ]
    }
   ],
   "source": [
    "# getting comments\n",
    "for period in unfinished:\n",
    "\n",
    "    # divide periods into n parts to avoid waste of time if a big period fails\n",
    "    AFTER = period[0]\n",
    "    BEFORE = period[1]\n",
    "    n = 24\n",
    "    distance = int((BEFORE-AFTER)/n)\n",
    "    intervals = [AFTER + i*distance for i in range(n)]\n",
    "\n",
    "\n",
    "    B_A_pairs = [(i, i+distance) for i in intervals]\n",
    "    \n",
    "    for i in B_A_pairs:\n",
    "        try:\n",
    "            comments = list(api.search_comments(\n",
    "            subreddit = \"eldenring\",\n",
    "            before = i[1],\n",
    "            after = i[0],\n",
    "            filter = [\n",
    "                \"id\", \n",
    "                \"author\", \n",
    "                \"created_utc\", \n",
    "                \"permalink\", # https://reddit.com/<url>\n",
    "                \"body\",\n",
    "                \"score\", # number of upvotes?\n",
    "                ],\n",
    "            # limit =1, \n",
    "            ))\n",
    "            df = pd.DataFrame(comments)\n",
    "            df.to_csv(f\"comments_after_{i[0]}.csv\")\n",
    "\n",
    "            print(f\"{i} is finished!\")\n",
    "        except:\n",
    "            print(i)\n",
    "            pass"
   ]
  },
  {
   "cell_type": "code",
   "execution_count": 3,
   "metadata": {},
   "outputs": [
    {
     "name": "stderr",
     "output_type": "stream",
     "text": [
      "/Users/jersey/Library/Caches/pypoetry/virtualenvs/analysis-of-r-eldenring-n2W_eMD4-py3.10/lib/python3.10/site-packages/psaw/PushshiftAPI.py:252: UserWarning: Not all PushShift shards are active. Query results may be incomplete\n",
      "  warnings.warn(shards_down_message)\n",
      "/Users/jersey/Library/Caches/pypoetry/virtualenvs/analysis-of-r-eldenring-n2W_eMD4-py3.10/lib/python3.10/site-packages/psaw/PushshiftAPI.py:192: UserWarning: Got non 200 code 429\n",
      "  warnings.warn(\"Got non 200 code %s\" % response.status_code)\n",
      "/Users/jersey/Library/Caches/pypoetry/virtualenvs/analysis-of-r-eldenring-n2W_eMD4-py3.10/lib/python3.10/site-packages/psaw/PushshiftAPI.py:180: UserWarning: Unable to connect to pushshift.io. Retrying after backoff.\n",
      "  warnings.warn(\"Unable to connect to pushshift.io. Retrying after backoff.\")\n"
     ]
    }
   ],
   "source": [
    "# getting posts\n",
    "import pandas as pd\n",
    "from psaw import PushshiftAPI\n",
    "\n",
    "api = PushshiftAPI()\n",
    "\n",
    "posts = list(api.search_submissions(\n",
    "    subreddit = \"eldenring\",\n",
    "    # before = END_OF_PERIOD, now if before is null\n",
    "    # after = START_OF_PERIOD, the start of the subreddit if after is null \n",
    "    filter = [\n",
    "        \"id\", \n",
    "        \"author\", \n",
    "        \"created_utc\", \n",
    "        \"url\", # urls starts with https://i.redd.it/ has pictures\n",
    "        \"full_link\", # https://reddit.com/<url>\n",
    "        \"title\",\n",
    "        \"selftext\", # content of post\n",
    "        \"num_comments\",\n",
    "        \"score\" # number of upvotes\n",
    "        ],\n",
    "    # limit = 200,\n",
    "))\n",
    "\n",
    "df = pd.DataFrame(posts)\n",
    "df.to_csv(\"posts.csv\", index=None)\n"
   ]
  },
  {
   "cell_type": "code",
   "execution_count": 74,
   "metadata": {},
   "outputs": [
    {
     "data": {
      "text/plain": [
       "<AxesSubplot:xlabel='create_date'>"
      ]
     },
     "execution_count": 74,
     "metadata": {},
     "output_type": "execute_result"
    },
    {
     "data": {
      "image/png": "[encoded data removed]",
      "text/plain": [
       "<Figure size 432x288 with 1 Axes>"
      ]
     },
     "metadata": {
      "needs_background": "light"
     },
     "output_type": "display_data"
    }
   ],
   "source": [
    "from matplotlib import pyplot as plt\n",
    "\n",
    "df.groupby(\"create_date\").count().plot(y=\"id\")\n",
    "plt.xlim()"
   ]
  }
 ],
 "metadata": {
  "interpreter": {
   "hash": "54e1aeb505744e311e5873f090d91ec9e4ced6b90ff09b7e9cd6c0d274df0a46"
  },
  "kernelspec": {
   "display_name": "kernel-poetry-eldenring",
   "language": "python",
   "name": "python3"
  },
  "language_info": {
   "codemirror_mode": {
    "name": "ipython",
    "version": 3
   },
   "file_extension": ".py",
   "mimetype": "text/x-python",
   "name": "python",
   "nbconvert_exporter": "python",
   "pygments_lexer": "ipython3",
   "version": "3.10.4"
  },
  "orig_nbformat": 4
 },
 "nbformat": 4,
 "nbformat_minor": 2
}
