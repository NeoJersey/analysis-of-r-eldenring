{
 "cells": [
  {
   "cell_type": "code",
   "execution_count": 2,
   "metadata": {},
   "outputs": [],
   "source": [
    "import requests\n",
    "import bs4 as bs\n",
    "from psaw import PushshiftAPI\n",
    "import datetime as dt\n",
    "import pandas as pd\n",
    "\n",
    "api = PushshiftAPI()\n",
    "\n",
    "ULTRA_BEFORE = int(dt.datetime(2022, 3, 26).timestamp())\n",
    "BEFORE = int(dt.datetime(2022, 3, 26).timestamp())\n",
    "AFTER = int(dt.datetime(2019, 1, 1).timestamp())"
   ]
  },
  {
   "cell_type": "code",
   "execution_count": 3,
   "metadata": {},
   "outputs": [
    {
     "name": "stdout",
     "output_type": "stream",
     "text": [
      "(1646212186, 1646213332) is finished!\n",
      "(1646213332, 1646214478) is finished!\n",
      "(1646214478, 1646215624) is finished!\n",
      "(1646215624, 1646216770) is finished!\n",
      "(1646216770, 1646217916) is finished!\n",
      "(1646217916, 1646219062) is finished!\n",
      "(1646219062, 1646220208) is finished!\n",
      "(1646220208, 1646221354) is finished!\n",
      "(1646221354, 1646222500) is finished!\n",
      "(1646222500, 1646223646) is finished!\n",
      "(1646223646, 1646224792) is finished!\n",
      "(1646224792, 1646225938) is finished!\n",
      "(1646225938, 1646227084) is finished!\n",
      "(1646227084, 1646228230) is finished!\n",
      "(1646228230, 1646229376) is finished!\n",
      "(1646229376, 1646230522) is finished!\n",
      "(1646230522, 1646231668) is finished!\n",
      "(1646231668, 1646232814) is finished!\n",
      "(1646232814, 1646233960) is finished!\n",
      "(1646233960, 1646235106) is finished!\n"
     ]
    },
    {
     "name": "stderr",
     "output_type": "stream",
     "text": [
      "/Users/jersey/Library/Caches/pypoetry/virtualenvs/analysis-of-r-eldenring-n2W_eMD4-py3.8/lib/python3.8/site-packages/psaw/PushshiftAPI.py:192: UserWarning: Got non 200 code 522\n",
      "  warnings.warn(\"Got non 200 code %s\" % response.status_code)\n",
      "/Users/jersey/Library/Caches/pypoetry/virtualenvs/analysis-of-r-eldenring-n2W_eMD4-py3.8/lib/python3.8/site-packages/psaw/PushshiftAPI.py:180: UserWarning: Unable to connect to pushshift.io. Retrying after backoff.\n",
      "  warnings.warn(\"Unable to connect to pushshift.io. Retrying after backoff.\")\n"
     ]
    },
    {
     "name": "stdout",
     "output_type": "stream",
     "text": [
      "(1646235106, 1646236252) is finished!\n",
      "(1646236252, 1646237398) is finished!\n",
      "(1646237398, 1646238544) is finished!\n",
      "(1646238544, 1646239690) is finished!\n",
      "(1647698644, 1647710113) is finished!\n",
      "(1647710113, 1647721582) is finished!\n"
     ]
    },
    {
     "name": "stderr",
     "output_type": "stream",
     "text": [
      "/Users/jersey/Library/Caches/pypoetry/virtualenvs/analysis-of-r-eldenring-n2W_eMD4-py3.8/lib/python3.8/site-packages/psaw/PushshiftAPI.py:192: UserWarning: Got non 200 code 429\n",
      "  warnings.warn(\"Got non 200 code %s\" % response.status_code)\n",
      "/Users/jersey/Library/Caches/pypoetry/virtualenvs/analysis-of-r-eldenring-n2W_eMD4-py3.8/lib/python3.8/site-packages/psaw/PushshiftAPI.py:180: UserWarning: Unable to connect to pushshift.io. Retrying after backoff.\n",
      "  warnings.warn(\"Unable to connect to pushshift.io. Retrying after backoff.\")\n"
     ]
    },
    {
     "name": "stdout",
     "output_type": "stream",
     "text": [
      "(1647721582, 1647733051) is finished!\n",
      "(1647733051, 1647744520) is finished!\n",
      "(1647744520, 1647755989) is finished!\n",
      "(1647755989, 1647767458) is finished!\n",
      "(1647767458, 1647778927) is finished!\n",
      "(1647778927, 1647790396) is finished!\n"
     ]
    },
    {
     "name": "stderr",
     "output_type": "stream",
     "text": [
      "/Users/jersey/Library/Caches/pypoetry/virtualenvs/analysis-of-r-eldenring-n2W_eMD4-py3.8/lib/python3.8/site-packages/psaw/PushshiftAPI.py:192: UserWarning: Got non 200 code 502\n",
      "  warnings.warn(\"Got non 200 code %s\" % response.status_code)\n",
      "/Users/jersey/Library/Caches/pypoetry/virtualenvs/analysis-of-r-eldenring-n2W_eMD4-py3.8/lib/python3.8/site-packages/psaw/PushshiftAPI.py:180: UserWarning: Unable to connect to pushshift.io. Retrying after backoff.\n",
      "  warnings.warn(\"Unable to connect to pushshift.io. Retrying after backoff.\")\n"
     ]
    },
    {
     "name": "stdout",
     "output_type": "stream",
     "text": [
      "(1647790396, 1647801865) is finished!\n"
     ]
    },
    {
     "name": "stderr",
     "output_type": "stream",
     "text": [
      "/Users/jersey/Library/Caches/pypoetry/virtualenvs/analysis-of-r-eldenring-n2W_eMD4-py3.8/lib/python3.8/site-packages/psaw/PushshiftAPI.py:192: UserWarning: Got non 200 code 502\n",
      "  warnings.warn(\"Got non 200 code %s\" % response.status_code)\n",
      "/Users/jersey/Library/Caches/pypoetry/virtualenvs/analysis-of-r-eldenring-n2W_eMD4-py3.8/lib/python3.8/site-packages/psaw/PushshiftAPI.py:180: UserWarning: Unable to connect to pushshift.io. Retrying after backoff.\n",
      "  warnings.warn(\"Unable to connect to pushshift.io. Retrying after backoff.\")\n"
     ]
    },
    {
     "name": "stdout",
     "output_type": "stream",
     "text": [
      "(1647801865, 1647813334) is finished!\n",
      "(1647813334, 1647824803) is finished!\n",
      "(1647824803, 1647836272) is finished!\n",
      "(1647836272, 1647847741) is finished!\n",
      "(1647847741, 1647859210) is finished!\n"
     ]
    },
    {
     "name": "stderr",
     "output_type": "stream",
     "text": [
      "/Users/jersey/Library/Caches/pypoetry/virtualenvs/analysis-of-r-eldenring-n2W_eMD4-py3.8/lib/python3.8/site-packages/psaw/PushshiftAPI.py:192: UserWarning: Got non 200 code 522\n",
      "  warnings.warn(\"Got non 200 code %s\" % response.status_code)\n",
      "/Users/jersey/Library/Caches/pypoetry/virtualenvs/analysis-of-r-eldenring-n2W_eMD4-py3.8/lib/python3.8/site-packages/psaw/PushshiftAPI.py:180: UserWarning: Unable to connect to pushshift.io. Retrying after backoff.\n",
      "  warnings.warn(\"Unable to connect to pushshift.io. Retrying after backoff.\")\n"
     ]
    },
    {
     "name": "stdout",
     "output_type": "stream",
     "text": [
      "(1647859210, 1647870679) is finished!\n",
      "(1647870679, 1647882148) is finished!\n",
      "(1647882148, 1647893617) is finished!\n",
      "(1647893617, 1647905086) is finished!\n",
      "(1647905086, 1647916555) is finished!\n",
      "(1647916555, 1647928024) is finished!\n",
      "(1647928024, 1647939493) is finished!\n",
      "(1647939493, 1647950962) is finished!\n"
     ]
    },
    {
     "name": "stderr",
     "output_type": "stream",
     "text": [
      "/Users/jersey/Library/Caches/pypoetry/virtualenvs/analysis-of-r-eldenring-n2W_eMD4-py3.8/lib/python3.8/site-packages/psaw/PushshiftAPI.py:192: UserWarning: Got non 200 code 502\n",
      "  warnings.warn(\"Got non 200 code %s\" % response.status_code)\n",
      "/Users/jersey/Library/Caches/pypoetry/virtualenvs/analysis-of-r-eldenring-n2W_eMD4-py3.8/lib/python3.8/site-packages/psaw/PushshiftAPI.py:180: UserWarning: Unable to connect to pushshift.io. Retrying after backoff.\n",
      "  warnings.warn(\"Unable to connect to pushshift.io. Retrying after backoff.\")\n"
     ]
    },
    {
     "name": "stdout",
     "output_type": "stream",
     "text": [
      "(1647950962, 1647962431) is finished!\n"
     ]
    },
    {
     "name": "stderr",
     "output_type": "stream",
     "text": [
      "/Users/jersey/Library/Caches/pypoetry/virtualenvs/analysis-of-r-eldenring-n2W_eMD4-py3.8/lib/python3.8/site-packages/psaw/PushshiftAPI.py:192: UserWarning: Got non 200 code 522\n",
      "  warnings.warn(\"Got non 200 code %s\" % response.status_code)\n",
      "/Users/jersey/Library/Caches/pypoetry/virtualenvs/analysis-of-r-eldenring-n2W_eMD4-py3.8/lib/python3.8/site-packages/psaw/PushshiftAPI.py:180: UserWarning: Unable to connect to pushshift.io. Retrying after backoff.\n",
      "  warnings.warn(\"Unable to connect to pushshift.io. Retrying after backoff.\")\n",
      "/Users/jersey/Library/Caches/pypoetry/virtualenvs/analysis-of-r-eldenring-n2W_eMD4-py3.8/lib/python3.8/site-packages/psaw/PushshiftAPI.py:192: UserWarning: Got non 200 code 502\n",
      "  warnings.warn(\"Got non 200 code %s\" % response.status_code)\n"
     ]
    },
    {
     "name": "stdout",
     "output_type": "stream",
     "text": [
      "(1647962431, 1647973900) is finished!\n",
      "(1647973914, 1647985383) is finished!\n",
      "(1647985383, 1647996852) is finished!\n",
      "(1647996852, 1648008321) is finished!\n",
      "(1648008321, 1648019790) is finished!\n"
     ]
    },
    {
     "name": "stderr",
     "output_type": "stream",
     "text": [
      "/Users/jersey/Library/Caches/pypoetry/virtualenvs/analysis-of-r-eldenring-n2W_eMD4-py3.8/lib/python3.8/site-packages/psaw/PushshiftAPI.py:192: UserWarning: Got non 200 code 521\n",
      "  warnings.warn(\"Got non 200 code %s\" % response.status_code)\n",
      "/Users/jersey/Library/Caches/pypoetry/virtualenvs/analysis-of-r-eldenring-n2W_eMD4-py3.8/lib/python3.8/site-packages/psaw/PushshiftAPI.py:180: UserWarning: Unable to connect to pushshift.io. Retrying after backoff.\n",
      "  warnings.warn(\"Unable to connect to pushshift.io. Retrying after backoff.\")\n",
      "/Users/jersey/Library/Caches/pypoetry/virtualenvs/analysis-of-r-eldenring-n2W_eMD4-py3.8/lib/python3.8/site-packages/psaw/PushshiftAPI.py:192: UserWarning: Got non 200 code 522\n",
      "  warnings.warn(\"Got non 200 code %s\" % response.status_code)\n",
      "/Users/jersey/Library/Caches/pypoetry/virtualenvs/analysis-of-r-eldenring-n2W_eMD4-py3.8/lib/python3.8/site-packages/psaw/PushshiftAPI.py:192: UserWarning: Got non 200 code 429\n",
      "  warnings.warn(\"Got non 200 code %s\" % response.status_code)\n"
     ]
    },
    {
     "name": "stdout",
     "output_type": "stream",
     "text": [
      "(1648019790, 1648031259) is finished!\n"
     ]
    },
    {
     "name": "stderr",
     "output_type": "stream",
     "text": [
      "/Users/jersey/Library/Caches/pypoetry/virtualenvs/analysis-of-r-eldenring-n2W_eMD4-py3.8/lib/python3.8/site-packages/psaw/PushshiftAPI.py:192: UserWarning: Got non 200 code 429\n",
      "  warnings.warn(\"Got non 200 code %s\" % response.status_code)\n",
      "/Users/jersey/Library/Caches/pypoetry/virtualenvs/analysis-of-r-eldenring-n2W_eMD4-py3.8/lib/python3.8/site-packages/psaw/PushshiftAPI.py:180: UserWarning: Unable to connect to pushshift.io. Retrying after backoff.\n",
      "  warnings.warn(\"Unable to connect to pushshift.io. Retrying after backoff.\")\n"
     ]
    },
    {
     "name": "stdout",
     "output_type": "stream",
     "text": [
      "(1648031259, 1648042728) is finished!\n"
     ]
    },
    {
     "name": "stderr",
     "output_type": "stream",
     "text": [
      "/Users/jersey/Library/Caches/pypoetry/virtualenvs/analysis-of-r-eldenring-n2W_eMD4-py3.8/lib/python3.8/site-packages/psaw/PushshiftAPI.py:192: UserWarning: Got non 200 code 429\n",
      "  warnings.warn(\"Got non 200 code %s\" % response.status_code)\n",
      "/Users/jersey/Library/Caches/pypoetry/virtualenvs/analysis-of-r-eldenring-n2W_eMD4-py3.8/lib/python3.8/site-packages/psaw/PushshiftAPI.py:180: UserWarning: Unable to connect to pushshift.io. Retrying after backoff.\n",
      "  warnings.warn(\"Unable to connect to pushshift.io. Retrying after backoff.\")\n",
      "/Users/jersey/Library/Caches/pypoetry/virtualenvs/analysis-of-r-eldenring-n2W_eMD4-py3.8/lib/python3.8/site-packages/psaw/PushshiftAPI.py:192: UserWarning: Got non 200 code 502\n",
      "  warnings.warn(\"Got non 200 code %s\" % response.status_code)\n"
     ]
    },
    {
     "name": "stdout",
     "output_type": "stream",
     "text": [
      "(1648042728, 1648054197) is finished!\n",
      "(1648054197, 1648065666) is finished!\n"
     ]
    },
    {
     "name": "stderr",
     "output_type": "stream",
     "text": [
      "/Users/jersey/Library/Caches/pypoetry/virtualenvs/analysis-of-r-eldenring-n2W_eMD4-py3.8/lib/python3.8/site-packages/psaw/PushshiftAPI.py:192: UserWarning: Got non 200 code 429\n",
      "  warnings.warn(\"Got non 200 code %s\" % response.status_code)\n",
      "/Users/jersey/Library/Caches/pypoetry/virtualenvs/analysis-of-r-eldenring-n2W_eMD4-py3.8/lib/python3.8/site-packages/psaw/PushshiftAPI.py:180: UserWarning: Unable to connect to pushshift.io. Retrying after backoff.\n",
      "  warnings.warn(\"Unable to connect to pushshift.io. Retrying after backoff.\")\n"
     ]
    },
    {
     "name": "stdout",
     "output_type": "stream",
     "text": [
      "(1648065666, 1648077135) is finished!\n"
     ]
    },
    {
     "name": "stderr",
     "output_type": "stream",
     "text": [
      "/Users/jersey/Library/Caches/pypoetry/virtualenvs/analysis-of-r-eldenring-n2W_eMD4-py3.8/lib/python3.8/site-packages/psaw/PushshiftAPI.py:192: UserWarning: Got non 200 code 502\n",
      "  warnings.warn(\"Got non 200 code %s\" % response.status_code)\n",
      "/Users/jersey/Library/Caches/pypoetry/virtualenvs/analysis-of-r-eldenring-n2W_eMD4-py3.8/lib/python3.8/site-packages/psaw/PushshiftAPI.py:180: UserWarning: Unable to connect to pushshift.io. Retrying after backoff.\n",
      "  warnings.warn(\"Unable to connect to pushshift.io. Retrying after backoff.\")\n",
      "/Users/jersey/Library/Caches/pypoetry/virtualenvs/analysis-of-r-eldenring-n2W_eMD4-py3.8/lib/python3.8/site-packages/psaw/PushshiftAPI.py:192: UserWarning: Got non 200 code 429\n",
      "  warnings.warn(\"Got non 200 code %s\" % response.status_code)\n"
     ]
    },
    {
     "name": "stdout",
     "output_type": "stream",
     "text": [
      "(1648077135, 1648088604) is finished!\n",
      "(1648088604, 1648100073) is finished!\n",
      "(1648100073, 1648111542) is finished!\n",
      "(1648111542, 1648123011) is finished!\n"
     ]
    },
    {
     "name": "stderr",
     "output_type": "stream",
     "text": [
      "/Users/jersey/Library/Caches/pypoetry/virtualenvs/analysis-of-r-eldenring-n2W_eMD4-py3.8/lib/python3.8/site-packages/psaw/PushshiftAPI.py:192: UserWarning: Got non 200 code 429\n",
      "  warnings.warn(\"Got non 200 code %s\" % response.status_code)\n",
      "/Users/jersey/Library/Caches/pypoetry/virtualenvs/analysis-of-r-eldenring-n2W_eMD4-py3.8/lib/python3.8/site-packages/psaw/PushshiftAPI.py:180: UserWarning: Unable to connect to pushshift.io. Retrying after backoff.\n",
      "  warnings.warn(\"Unable to connect to pushshift.io. Retrying after backoff.\")\n"
     ]
    },
    {
     "name": "stdout",
     "output_type": "stream",
     "text": [
      "(1648123011, 1648134480) is finished!\n",
      "(1648134480, 1648145949) is finished!\n"
     ]
    },
    {
     "name": "stderr",
     "output_type": "stream",
     "text": [
      "/Users/jersey/Library/Caches/pypoetry/virtualenvs/analysis-of-r-eldenring-n2W_eMD4-py3.8/lib/python3.8/site-packages/psaw/PushshiftAPI.py:192: UserWarning: Got non 200 code 502\n",
      "  warnings.warn(\"Got non 200 code %s\" % response.status_code)\n",
      "/Users/jersey/Library/Caches/pypoetry/virtualenvs/analysis-of-r-eldenring-n2W_eMD4-py3.8/lib/python3.8/site-packages/psaw/PushshiftAPI.py:180: UserWarning: Unable to connect to pushshift.io. Retrying after backoff.\n",
      "  warnings.warn(\"Unable to connect to pushshift.io. Retrying after backoff.\")\n"
     ]
    },
    {
     "name": "stdout",
     "output_type": "stream",
     "text": [
      "(1648145949, 1648157418) is finished!\n",
      "(1648157418, 1648168887) is finished!\n",
      "(1648168887, 1648180356) is finished!\n",
      "(1648180356, 1648191825) is finished!\n",
      "(1648191825, 1648203294) is finished!\n",
      "(1648203294, 1648214763) is finished!\n",
      "(1648214763, 1648226232) is finished!\n",
      "(1648226232, 1648237701) is finished!\n",
      "(1648237701, 1648249170) is finished!\n"
     ]
    }
   ],
   "source": [
    "# getting comments\n",
    "\n",
    "for period in unfinished:\n",
    "\n",
    "    # divide periods into n parts to avoid waste of time if a big period fails\n",
    "    AFTER = period[0]\n",
    "    BEFORE = period[1]\n",
    "    n = 24\n",
    "    distance = int((BEFORE-AFTER)/n)\n",
    "    intervals = [AFTER + i*distance for i in range(n)]\n",
    "\n",
    "\n",
    "    B_A_pairs = [(i, i+distance) for i in intervals]\n",
    "    \n",
    "    for i in B_A_pairs:\n",
    "        try:\n",
    "            comments = list(api.search_comments(\n",
    "            subreddit = \"eldenring\",\n",
    "            before = i[1],\n",
    "            after = i[0],\n",
    "            filter = [\n",
    "                \"id\", \n",
    "                \"author\", \n",
    "                \"created_utc\", \n",
    "                \"permalink\", # https://reddit.com/<url>\n",
    "                \"body\",\n",
    "                \"score\", # number of upvotes?\n",
    "                ],\n",
    "            # limit =1, \n",
    "            ))\n",
    "            df = pd.DataFrame(comments)\n",
    "            df.to_csv(f\"comments_after_{i[0]}.csv\")\n",
    "\n",
    "            print(f\"{i} is finished!\")\n",
    "        except:\n",
    "            print(i)\n",
    "            pass"
   ]
  },
  {
   "cell_type": "code",
   "execution_count": 12,
   "metadata": {},
   "outputs": [
    {
     "name": "stdout",
     "output_type": "stream",
     "text": [
      "(1637238384, 1637513654) is finished!\n"
     ]
    },
    {
     "name": "stderr",
     "output_type": "stream",
     "text": [
      "/Users/jersey/Library/Caches/pypoetry/virtualenvs/analysis-of-r-eldenring-n2W_eMD4-py3.8/lib/python3.8/site-packages/psaw/PushshiftAPI.py:192: UserWarning: Got non 200 code 521\n",
      "  warnings.warn(\"Got non 200 code %s\" % response.status_code)\n",
      "/Users/jersey/Library/Caches/pypoetry/virtualenvs/analysis-of-r-eldenring-n2W_eMD4-py3.8/lib/python3.8/site-packages/psaw/PushshiftAPI.py:180: UserWarning: Unable to connect to pushshift.io. Retrying after backoff.\n",
      "  warnings.warn(\"Unable to connect to pushshift.io. Retrying after backoff.\")\n",
      "/Users/jersey/Library/Caches/pypoetry/virtualenvs/analysis-of-r-eldenring-n2W_eMD4-py3.8/lib/python3.8/site-packages/psaw/PushshiftAPI.py:192: UserWarning: Got non 200 code 522\n",
      "  warnings.warn(\"Got non 200 code %s\" % response.status_code)\n"
     ]
    },
    {
     "name": "stdout",
     "output_type": "stream",
     "text": [
      "(1637513654, 1637788924) is finished!\n",
      "(1637788924, 1638064194) is finished!\n",
      "(1638064194, 1638339464) is finished!\n",
      "(1638339464, 1638614734) is finished!\n",
      "(1638614734, 1638890004) is finished!\n",
      "(1638890004, 1639165274) is finished!\n",
      "(1639165274, 1639440544) is finished!\n"
     ]
    },
    {
     "name": "stderr",
     "output_type": "stream",
     "text": [
      "/Users/jersey/Library/Caches/pypoetry/virtualenvs/analysis-of-r-eldenring-n2W_eMD4-py3.8/lib/python3.8/site-packages/psaw/PushshiftAPI.py:192: UserWarning: Got non 200 code 502\n",
      "  warnings.warn(\"Got non 200 code %s\" % response.status_code)\n",
      "/Users/jersey/Library/Caches/pypoetry/virtualenvs/analysis-of-r-eldenring-n2W_eMD4-py3.8/lib/python3.8/site-packages/psaw/PushshiftAPI.py:180: UserWarning: Unable to connect to pushshift.io. Retrying after backoff.\n",
      "  warnings.warn(\"Unable to connect to pushshift.io. Retrying after backoff.\")\n"
     ]
    },
    {
     "name": "stdout",
     "output_type": "stream",
     "text": [
      "(1639440544, 1639715814) is finished!\n",
      "(1639715814, 1639991084) is finished!\n",
      "(1639991084, 1640266354) is finished!\n",
      "(1640266354, 1640541624) is finished!\n"
     ]
    },
    {
     "name": "stderr",
     "output_type": "stream",
     "text": [
      "/Users/jersey/Library/Caches/pypoetry/virtualenvs/analysis-of-r-eldenring-n2W_eMD4-py3.8/lib/python3.8/site-packages/psaw/PushshiftAPI.py:192: UserWarning: Got non 200 code 525\n",
      "  warnings.warn(\"Got non 200 code %s\" % response.status_code)\n",
      "/Users/jersey/Library/Caches/pypoetry/virtualenvs/analysis-of-r-eldenring-n2W_eMD4-py3.8/lib/python3.8/site-packages/psaw/PushshiftAPI.py:180: UserWarning: Unable to connect to pushshift.io. Retrying after backoff.\n",
      "  warnings.warn(\"Unable to connect to pushshift.io. Retrying after backoff.\")\n"
     ]
    },
    {
     "name": "stdout",
     "output_type": "stream",
     "text": [
      "(1640541624, 1640816894) is finished!\n",
      "(1640816894, 1641092164) is finished!\n",
      "(1641092164, 1641367434) is finished!\n",
      "(1641367434, 1641642704) is finished!\n",
      "(1641642704, 1641917974) is finished!\n",
      "(1641917974, 1642193244) is finished!\n",
      "(1642193244, 1642468514) is finished!\n",
      "(1642468514, 1642743784) is finished!\n",
      "(1642743784, 1643019054) is finished!\n",
      "(1643019054, 1643294324) is finished!\n",
      "(1643294324, 1643569594) is finished!\n"
     ]
    },
    {
     "name": "stderr",
     "output_type": "stream",
     "text": [
      "/Users/jersey/Library/Caches/pypoetry/virtualenvs/analysis-of-r-eldenring-n2W_eMD4-py3.8/lib/python3.8/site-packages/psaw/PushshiftAPI.py:192: UserWarning: Got non 200 code 522\n",
      "  warnings.warn(\"Got non 200 code %s\" % response.status_code)\n",
      "/Users/jersey/Library/Caches/pypoetry/virtualenvs/analysis-of-r-eldenring-n2W_eMD4-py3.8/lib/python3.8/site-packages/psaw/PushshiftAPI.py:180: UserWarning: Unable to connect to pushshift.io. Retrying after backoff.\n",
      "  warnings.warn(\"Unable to connect to pushshift.io. Retrying after backoff.\")\n"
     ]
    },
    {
     "name": "stdout",
     "output_type": "stream",
     "text": [
      "(1643569594, 1643844864) is finished!\n",
      "(1643844864, 1644120134)\n",
      "(1644120134, 1644395404) is finished!\n",
      "(1644395404, 1644670674) is finished!\n"
     ]
    },
    {
     "name": "stderr",
     "output_type": "stream",
     "text": [
      "/Users/jersey/Library/Caches/pypoetry/virtualenvs/analysis-of-r-eldenring-n2W_eMD4-py3.8/lib/python3.8/site-packages/psaw/PushshiftAPI.py:192: UserWarning: Got non 200 code 522\n",
      "  warnings.warn(\"Got non 200 code %s\" % response.status_code)\n",
      "/Users/jersey/Library/Caches/pypoetry/virtualenvs/analysis-of-r-eldenring-n2W_eMD4-py3.8/lib/python3.8/site-packages/psaw/PushshiftAPI.py:180: UserWarning: Unable to connect to pushshift.io. Retrying after backoff.\n",
      "  warnings.warn(\"Unable to connect to pushshift.io. Retrying after backoff.\")\n"
     ]
    },
    {
     "name": "stdout",
     "output_type": "stream",
     "text": [
      "(1644670674, 1644945944)\n",
      "(1644945944, 1645221214) is finished!\n",
      "(1645221214, 1645496484) is finished!\n"
     ]
    },
    {
     "name": "stderr",
     "output_type": "stream",
     "text": [
      "/Users/jersey/Library/Caches/pypoetry/virtualenvs/analysis-of-r-eldenring-n2W_eMD4-py3.8/lib/python3.8/site-packages/psaw/PushshiftAPI.py:192: UserWarning: Got non 200 code 525\n",
      "  warnings.warn(\"Got non 200 code %s\" % response.status_code)\n",
      "/Users/jersey/Library/Caches/pypoetry/virtualenvs/analysis-of-r-eldenring-n2W_eMD4-py3.8/lib/python3.8/site-packages/psaw/PushshiftAPI.py:180: UserWarning: Unable to connect to pushshift.io. Retrying after backoff.\n",
      "  warnings.warn(\"Unable to connect to pushshift.io. Retrying after backoff.\")\n"
     ]
    },
    {
     "name": "stdout",
     "output_type": "stream",
     "text": [
      "(1645496484, 1645771754) is finished!\n",
      "(1645771754, 1646047024)\n"
     ]
    },
    {
     "name": "stderr",
     "output_type": "stream",
     "text": [
      "/Users/jersey/Library/Caches/pypoetry/virtualenvs/analysis-of-r-eldenring-n2W_eMD4-py3.8/lib/python3.8/site-packages/psaw/PushshiftAPI.py:192: UserWarning: Got non 200 code 522\n",
      "  warnings.warn(\"Got non 200 code %s\" % response.status_code)\n",
      "/Users/jersey/Library/Caches/pypoetry/virtualenvs/analysis-of-r-eldenring-n2W_eMD4-py3.8/lib/python3.8/site-packages/psaw/PushshiftAPI.py:180: UserWarning: Unable to connect to pushshift.io. Retrying after backoff.\n",
      "  warnings.warn(\"Unable to connect to pushshift.io. Retrying after backoff.\")\n"
     ]
    },
    {
     "name": "stdout",
     "output_type": "stream",
     "text": [
      "(1646047024, 1646322294)\n"
     ]
    },
    {
     "name": "stderr",
     "output_type": "stream",
     "text": [
      "/Users/jersey/Library/Caches/pypoetry/virtualenvs/analysis-of-r-eldenring-n2W_eMD4-py3.8/lib/python3.8/site-packages/psaw/PushshiftAPI.py:192: UserWarning: Got non 200 code 525\n",
      "  warnings.warn(\"Got non 200 code %s\" % response.status_code)\n"
     ]
    },
    {
     "name": "stdout",
     "output_type": "stream",
     "text": [
      "(1646322294, 1646597564) is finished!\n"
     ]
    },
    {
     "name": "stderr",
     "output_type": "stream",
     "text": [
      "/Users/jersey/Library/Caches/pypoetry/virtualenvs/analysis-of-r-eldenring-n2W_eMD4-py3.8/lib/python3.8/site-packages/psaw/PushshiftAPI.py:192: UserWarning: Got non 200 code 522\n",
      "  warnings.warn(\"Got non 200 code %s\" % response.status_code)\n",
      "/Users/jersey/Library/Caches/pypoetry/virtualenvs/analysis-of-r-eldenring-n2W_eMD4-py3.8/lib/python3.8/site-packages/psaw/PushshiftAPI.py:180: UserWarning: Unable to connect to pushshift.io. Retrying after backoff.\n",
      "  warnings.warn(\"Unable to connect to pushshift.io. Retrying after backoff.\")\n",
      "/Users/jersey/Library/Caches/pypoetry/virtualenvs/analysis-of-r-eldenring-n2W_eMD4-py3.8/lib/python3.8/site-packages/psaw/PushshiftAPI.py:192: UserWarning: Got non 200 code 524\n",
      "  warnings.warn(\"Got non 200 code %s\" % response.status_code)\n"
     ]
    },
    {
     "name": "stdout",
     "output_type": "stream",
     "text": [
      "(1646597564, 1646872834) is finished!\n"
     ]
    },
    {
     "name": "stderr",
     "output_type": "stream",
     "text": [
      "/Users/jersey/Library/Caches/pypoetry/virtualenvs/analysis-of-r-eldenring-n2W_eMD4-py3.8/lib/python3.8/site-packages/psaw/PushshiftAPI.py:192: UserWarning: Got non 200 code 524\n",
      "  warnings.warn(\"Got non 200 code %s\" % response.status_code)\n",
      "/Users/jersey/Library/Caches/pypoetry/virtualenvs/analysis-of-r-eldenring-n2W_eMD4-py3.8/lib/python3.8/site-packages/psaw/PushshiftAPI.py:180: UserWarning: Unable to connect to pushshift.io. Retrying after backoff.\n",
      "  warnings.warn(\"Unable to connect to pushshift.io. Retrying after backoff.\")\n"
     ]
    },
    {
     "name": "stdout",
     "output_type": "stream",
     "text": [
      "(1646872834, 1647148104) is finished!\n"
     ]
    },
    {
     "name": "stderr",
     "output_type": "stream",
     "text": [
      "/Users/jersey/Library/Caches/pypoetry/virtualenvs/analysis-of-r-eldenring-n2W_eMD4-py3.8/lib/python3.8/site-packages/psaw/PushshiftAPI.py:192: UserWarning: Got non 200 code 429\n",
      "  warnings.warn(\"Got non 200 code %s\" % response.status_code)\n",
      "/Users/jersey/Library/Caches/pypoetry/virtualenvs/analysis-of-r-eldenring-n2W_eMD4-py3.8/lib/python3.8/site-packages/psaw/PushshiftAPI.py:180: UserWarning: Unable to connect to pushshift.io. Retrying after backoff.\n",
      "  warnings.warn(\"Unable to connect to pushshift.io. Retrying after backoff.\")\n"
     ]
    },
    {
     "name": "stdout",
     "output_type": "stream",
     "text": [
      "(1647148104, 1647423374) is finished!\n"
     ]
    },
    {
     "name": "stderr",
     "output_type": "stream",
     "text": [
      "/Users/jersey/Library/Caches/pypoetry/virtualenvs/analysis-of-r-eldenring-n2W_eMD4-py3.8/lib/python3.8/site-packages/psaw/PushshiftAPI.py:192: UserWarning: Got non 200 code 525\n",
      "  warnings.warn(\"Got non 200 code %s\" % response.status_code)\n",
      "/Users/jersey/Library/Caches/pypoetry/virtualenvs/analysis-of-r-eldenring-n2W_eMD4-py3.8/lib/python3.8/site-packages/psaw/PushshiftAPI.py:180: UserWarning: Unable to connect to pushshift.io. Retrying after backoff.\n",
      "  warnings.warn(\"Unable to connect to pushshift.io. Retrying after backoff.\")\n",
      "/Users/jersey/Library/Caches/pypoetry/virtualenvs/analysis-of-r-eldenring-n2W_eMD4-py3.8/lib/python3.8/site-packages/psaw/PushshiftAPI.py:192: UserWarning: Got non 200 code 522\n",
      "  warnings.warn(\"Got non 200 code %s\" % response.status_code)\n"
     ]
    },
    {
     "name": "stdout",
     "output_type": "stream",
     "text": [
      "(1647423374, 1647698644) is finished!\n"
     ]
    },
    {
     "name": "stderr",
     "output_type": "stream",
     "text": [
      "/Users/jersey/Library/Caches/pypoetry/virtualenvs/analysis-of-r-eldenring-n2W_eMD4-py3.8/lib/python3.8/site-packages/psaw/PushshiftAPI.py:192: UserWarning: Got non 200 code 522\n",
      "  warnings.warn(\"Got non 200 code %s\" % response.status_code)\n",
      "/Users/jersey/Library/Caches/pypoetry/virtualenvs/analysis-of-r-eldenring-n2W_eMD4-py3.8/lib/python3.8/site-packages/psaw/PushshiftAPI.py:180: UserWarning: Unable to connect to pushshift.io. Retrying after backoff.\n",
      "  warnings.warn(\"Unable to connect to pushshift.io. Retrying after backoff.\")\n"
     ]
    },
    {
     "name": "stdout",
     "output_type": "stream",
     "text": [
      "(1647698644, 1647973914)\n",
      "(1647973914, 1648249184)\n"
     ]
    }
   ],
   "source": [
    "for i in B_A_pairs:\n",
    "    try:\n",
    "        comments = list(api.search_comments(\n",
    "        subreddit = \"eldenring\",\n",
    "        before = i[1],\n",
    "        after = i[0],\n",
    "        filter = [\n",
    "            \"id\", \n",
    "            \"author\", \n",
    "            \"created_utc\", \n",
    "            \"permalink\", # https://reddit.com/<url>\n",
    "            \"body\",\n",
    "            \"score\", # number of upvotes?\n",
    "            ],\n",
    "        # limit =1,\n",
    "        ))\n",
    "        df = pd.DataFrame(comments)\n",
    "        df.to_csv(f\"comments_after_{i[0]}.csv\")\n",
    "\n",
    "        print(f\"{i} is finished!\")\n",
    "    except:\n",
    "        print(i)\n",
    "        pass\n",
    "        "
   ]
  },
  {
   "cell_type": "code",
   "execution_count": 2,
   "metadata": {},
   "outputs": [
    {
     "data": {
      "text/plain": [
       "[(1546297200, 1556492400),\n",
       " (1556492400, 1566687600),\n",
       " (1566687600, 1576882800),\n",
       " (1576882800, 1587078000),\n",
       " (1587078000, 1597273200),\n",
       " (1597273200, 1607468400),\n",
       " (1607468400, 1617663600),\n",
       " (1617663600, 1627858800),\n",
       " (1627858800, 1638054000),\n",
       " (1638054000, 1648249200)]"
      ]
     },
     "execution_count": 2,
     "metadata": {},
     "output_type": "execute_result"
    }
   ],
   "source": [
    "n = 10\n",
    "distance = int((BEFORE-AFTER)/n)\n",
    "intervals = [AFTER + i*distance for i in range(n)]\n",
    "# intervals.append(BEFORE)\n",
    "\n",
    "B_A_pairs = [(i, i+distance) for i in intervals]\n",
    "B_A_pairs"
   ]
  },
  {
   "cell_type": "code",
   "execution_count": 54,
   "metadata": {},
   "outputs": [
    {
     "data": {
      "text/plain": [
       "[1, 2, 3]"
      ]
     },
     "execution_count": 54,
     "metadata": {},
     "output_type": "execute_result"
    }
   ],
   "source": [
    "a = [1,2]\n",
    "a.append(3)\n",
    "a"
   ]
  },
  {
   "cell_type": "code",
   "execution_count": 19,
   "metadata": {},
   "outputs": [],
   "source": [
    "# getting posts\n",
    "\n",
    "posts = list(api.search_submissions(\n",
    "    subreddit = \"eldenring\",\n",
    "    before = BEFORE,\n",
    "    after = 1648059051,\n",
    "    filter = [\n",
    "        \"id\", \n",
    "        \"author\", \n",
    "        \"created_utc\", \n",
    "        \"url\", # urls starts with https://i.redd.it/ has pictures\n",
    "        \"full_link\", # https://reddit.com/<url>\n",
    "        \"title\",\n",
    "        \"selftext\", # content of post\n",
    "        \"upvote_ratio\",\n",
    "        \"num_comments\",\n",
    "        \"score\" # number of upvotes?\n",
    "        ],\n",
    "    # limit = 200,\n",
    "))\n",
    "\n",
    "df = pd.DataFrame(posts)\n",
    "df.to_csv(\"posts_later.csv\", index=None)\n",
    "# df.to_clipboard()"
   ]
  },
  {
   "cell_type": "code",
   "execution_count": 9,
   "metadata": {},
   "outputs": [
    {
     "name": "stderr",
     "output_type": "stream",
     "text": [
      "/var/folders/c3/kx181pz56w1b4srjcjx18y1c0000gn/T/ipykernel_89172/436495287.py:1: DtypeWarning: Columns (9,11) have mixed types. Specify dtype option on import or set low_memory=False.\n",
      "  posts_df = pd.read_csv(\"posts.csv\")\n"
     ]
    },
    {
     "data": {
      "text/html": [
       "<div>\n",
       "<style scoped>\n",
       "    .dataframe tbody tr th:only-of-type {\n",
       "        vertical-align: middle;\n",
       "    }\n",
       "\n",
       "    .dataframe tbody tr th {\n",
       "        vertical-align: top;\n",
       "    }\n",
       "\n",
       "    .dataframe thead th {\n",
       "        text-align: right;\n",
       "    }\n",
       "</style>\n",
       "<table border=\"1\" class=\"dataframe\">\n",
       "  <thead>\n",
       "    <tr style=\"text-align: right;\">\n",
       "      <th></th>\n",
       "      <th>Unnamed: 0</th>\n",
       "      <th>author</th>\n",
       "      <th>created_utc</th>\n",
       "      <th>full_link</th>\n",
       "      <th>id</th>\n",
       "      <th>num_comments</th>\n",
       "      <th>score</th>\n",
       "      <th>thumbnail</th>\n",
       "      <th>title</th>\n",
       "      <th>upvote_ratio</th>\n",
       "      <th>url</th>\n",
       "      <th>created</th>\n",
       "      <th>d_</th>\n",
       "    </tr>\n",
       "  </thead>\n",
       "  <tbody>\n",
       "    <tr>\n",
       "      <th>0</th>\n",
       "      <td>0</td>\n",
       "      <td>Us3l3ssZ3D</td>\n",
       "      <td>1648059051</td>\n",
       "      <td>https://www.reddit.com/r/Eldenring/comments/tl...</td>\n",
       "      <td>tl4xj3</td>\n",
       "      <td>0</td>\n",
       "      <td>1</td>\n",
       "      <td>self</td>\n",
       "      <td>Question on how to make my Weapon Stronger</td>\n",
       "      <td>1.0</td>\n",
       "      <td>https://www.reddit.com/r/Eldenring/comments/tl...</td>\n",
       "      <td>1648055451.0</td>\n",
       "      <td>{'author': 'Us3l3ssZ3D', 'created_utc': 164805...</td>\n",
       "    </tr>\n",
       "    <tr>\n",
       "      <th>1</th>\n",
       "      <td>1</td>\n",
       "      <td>Key-College-4290</td>\n",
       "      <td>1648059048</td>\n",
       "      <td>https://www.reddit.com/r/Eldenring/comments/tl...</td>\n",
       "      <td>tl4xd9</td>\n",
       "      <td>0</td>\n",
       "      <td>1</td>\n",
       "      <td>self</td>\n",
       "      <td>Anyone else get bored after they get to mounta...</td>\n",
       "      <td>1.0</td>\n",
       "      <td>https://www.reddit.com/r/Eldenring/comments/tl...</td>\n",
       "      <td>1648055448.0</td>\n",
       "      <td>{'author': 'Key-College-4290', 'created_utc': ...</td>\n",
       "    </tr>\n",
       "    <tr>\n",
       "      <th>2</th>\n",
       "      <td>2</td>\n",
       "      <td>Zoiwillxxx</td>\n",
       "      <td>1648059039</td>\n",
       "      <td>https://www.reddit.com/r/Eldenring/comments/tl...</td>\n",
       "      <td>tl4wvb</td>\n",
       "      <td>0</td>\n",
       "      <td>1</td>\n",
       "      <td>https://a.thumbs.redditmedia.com/4Ptpw2_r2JQDM...</td>\n",
       "      <td>Welcome champions, to the Radahn Festival!!!</td>\n",
       "      <td>1.0</td>\n",
       "      <td>https://i.redd.it/607ofk61c6p81.jpg</td>\n",
       "      <td>1648055439.0</td>\n",
       "      <td>{'author': 'Zoiwillxxx', 'created_utc': 164805...</td>\n",
       "    </tr>\n",
       "    <tr>\n",
       "      <th>3</th>\n",
       "      <td>3</td>\n",
       "      <td>LuneMiester</td>\n",
       "      <td>1648059036</td>\n",
       "      <td>https://www.reddit.com/r/Eldenring/comments/tl...</td>\n",
       "      <td>tl4wpl</td>\n",
       "      <td>0</td>\n",
       "      <td>1</td>\n",
       "      <td>self</td>\n",
       "      <td>Can’t find player I invaded now I’m stuck</td>\n",
       "      <td>1.0</td>\n",
       "      <td>https://www.reddit.com/r/Eldenring/comments/tl...</td>\n",
       "      <td>1648055436.0</td>\n",
       "      <td>{'author': 'LuneMiester', 'created_utc': 16480...</td>\n",
       "    </tr>\n",
       "    <tr>\n",
       "      <th>4</th>\n",
       "      <td>4</td>\n",
       "      <td>Epickartoffelz</td>\n",
       "      <td>1648058994</td>\n",
       "      <td>https://www.reddit.com/r/Eldenring/comments/tl...</td>\n",
       "      <td>tl4vt6</td>\n",
       "      <td>0</td>\n",
       "      <td>1</td>\n",
       "      <td>https://b.thumbs.redditmedia.com/PT5SacNXCW4Hf...</td>\n",
       "      <td>:’)</td>\n",
       "      <td>1.0</td>\n",
       "      <td>https://i.redd.it/21h38yc0c6p81.jpg</td>\n",
       "      <td>1648055394.0</td>\n",
       "      <td>{'author': 'Epickartoffelz', 'created_utc': 16...</td>\n",
       "    </tr>\n",
       "  </tbody>\n",
       "</table>\n",
       "</div>"
      ],
      "text/plain": [
       "   Unnamed: 0            author  created_utc  \\\n",
       "0           0        Us3l3ssZ3D   1648059051   \n",
       "1           1  Key-College-4290   1648059048   \n",
       "2           2        Zoiwillxxx   1648059039   \n",
       "3           3       LuneMiester   1648059036   \n",
       "4           4    Epickartoffelz   1648058994   \n",
       "\n",
       "                                           full_link      id  num_comments  \\\n",
       "0  https://www.reddit.com/r/Eldenring/comments/tl...  tl4xj3             0   \n",
       "1  https://www.reddit.com/r/Eldenring/comments/tl...  tl4xd9             0   \n",
       "2  https://www.reddit.com/r/Eldenring/comments/tl...  tl4wvb             0   \n",
       "3  https://www.reddit.com/r/Eldenring/comments/tl...  tl4wpl             0   \n",
       "4  https://www.reddit.com/r/Eldenring/comments/tl...  tl4vt6             0   \n",
       "\n",
       "   score                                          thumbnail  \\\n",
       "0      1                                               self   \n",
       "1      1                                               self   \n",
       "2      1  https://a.thumbs.redditmedia.com/4Ptpw2_r2JQDM...   \n",
       "3      1                                               self   \n",
       "4      1  https://b.thumbs.redditmedia.com/PT5SacNXCW4Hf...   \n",
       "\n",
       "                                               title upvote_ratio  \\\n",
       "0         Question on how to make my Weapon Stronger          1.0   \n",
       "1  Anyone else get bored after they get to mounta...          1.0   \n",
       "2       Welcome champions, to the Radahn Festival!!!          1.0   \n",
       "3          Can’t find player I invaded now I’m stuck          1.0   \n",
       "4                                                :’)          1.0   \n",
       "\n",
       "                                                 url       created  \\\n",
       "0  https://www.reddit.com/r/Eldenring/comments/tl...  1648055451.0   \n",
       "1  https://www.reddit.com/r/Eldenring/comments/tl...  1648055448.0   \n",
       "2                https://i.redd.it/607ofk61c6p81.jpg  1648055439.0   \n",
       "3  https://www.reddit.com/r/Eldenring/comments/tl...  1648055436.0   \n",
       "4                https://i.redd.it/21h38yc0c6p81.jpg  1648055394.0   \n",
       "\n",
       "                                                  d_  \n",
       "0  {'author': 'Us3l3ssZ3D', 'created_utc': 164805...  \n",
       "1  {'author': 'Key-College-4290', 'created_utc': ...  \n",
       "2  {'author': 'Zoiwillxxx', 'created_utc': 164805...  \n",
       "3  {'author': 'LuneMiester', 'created_utc': 16480...  \n",
       "4  {'author': 'Epickartoffelz', 'created_utc': 16...  "
      ]
     },
     "execution_count": 9,
     "metadata": {},
     "output_type": "execute_result"
    }
   ],
   "source": [
    "\n",
    "posts_df = pd.read_csv(\"posts.csv\")\n",
    "comments_df = pd.read_csv(\"comments.csv\")\n",
    "posts_df.head()"
   ]
  },
  {
   "cell_type": "code",
   "execution_count": 23,
   "metadata": {},
   "outputs": [
    {
     "data": {
      "text/html": [
       "<div>\n",
       "<style scoped>\n",
       "    .dataframe tbody tr th:only-of-type {\n",
       "        vertical-align: middle;\n",
       "    }\n",
       "\n",
       "    .dataframe tbody tr th {\n",
       "        vertical-align: top;\n",
       "    }\n",
       "\n",
       "    .dataframe thead th {\n",
       "        text-align: right;\n",
       "    }\n",
       "</style>\n",
       "<table border=\"1\" class=\"dataframe\">\n",
       "  <thead>\n",
       "    <tr style=\"text-align: right;\">\n",
       "      <th></th>\n",
       "      <th>Unnamed: 0</th>\n",
       "      <th>author</th>\n",
       "      <th>created_utc</th>\n",
       "      <th>id</th>\n",
       "      <th>permalink</th>\n",
       "      <th>score</th>\n",
       "      <th>selftext</th>\n",
       "      <th>title</th>\n",
       "      <th>created</th>\n",
       "      <th>d_</th>\n",
       "    </tr>\n",
       "  </thead>\n",
       "  <tbody>\n",
       "    <tr>\n",
       "      <th>0</th>\n",
       "      <td>0</td>\n",
       "      <td>JordanJames__</td>\n",
       "      <td>1648078335</td>\n",
       "      <td>tllean</td>\n",
       "      <td>/r/Eldenring/comments/tllean/to_those_hackers/</td>\n",
       "      <td>1</td>\n",
       "      <td>Thanks for ruining the Elden Ring experience f...</td>\n",
       "      <td>To THOSE hackers… ❌</td>\n",
       "      <td>1648074735.0</td>\n",
       "      <td>{'author': 'JordanJames__', 'created_utc': 164...</td>\n",
       "    </tr>\n",
       "    <tr>\n",
       "      <th>1</th>\n",
       "      <td>1</td>\n",
       "      <td>oneethan</td>\n",
       "      <td>1648078334</td>\n",
       "      <td>tlle8s</td>\n",
       "      <td>/r/Eldenring/comments/tlle8s/opinion_of_respec...</td>\n",
       "      <td>1</td>\n",
       "      <td>im about halfway through the game ( just befor...</td>\n",
       "      <td>opinion of respecing into arcane</td>\n",
       "      <td>1648074734.0</td>\n",
       "      <td>{'author': 'oneethan', 'created_utc': 16480783...</td>\n",
       "    </tr>\n",
       "    <tr>\n",
       "      <th>2</th>\n",
       "      <td>2</td>\n",
       "      <td>ElPolloLoco391</td>\n",
       "      <td>1648078321</td>\n",
       "      <td>tlldja</td>\n",
       "      <td>/r/Eldenring/comments/tlldja/was_this_suppose_...</td>\n",
       "      <td>1</td>\n",
       "      <td>NaN</td>\n",
       "      <td>Was this suppose happen ?</td>\n",
       "      <td>1648074721.0</td>\n",
       "      <td>{'author': 'ElPolloLoco391', 'created_utc': 16...</td>\n",
       "    </tr>\n",
       "    <tr>\n",
       "      <th>3</th>\n",
       "      <td>3</td>\n",
       "      <td>farron__keep</td>\n",
       "      <td>1648078320</td>\n",
       "      <td>tlldhs</td>\n",
       "      <td>/r/Eldenring/comments/tlldhs/melina_and_millic...</td>\n",
       "      <td>1</td>\n",
       "      <td>spoilers for millicent's questline &amp;amp; frenz...</td>\n",
       "      <td>melina and millicent</td>\n",
       "      <td>1648074720.0</td>\n",
       "      <td>{'author': 'farron__keep', 'created_utc': 1648...</td>\n",
       "    </tr>\n",
       "    <tr>\n",
       "      <th>4</th>\n",
       "      <td>4</td>\n",
       "      <td>SadLittleWizard</td>\n",
       "      <td>1648078319</td>\n",
       "      <td>tlldfk</td>\n",
       "      <td>/r/Eldenring/comments/tlldfk/i_did_a_thing/</td>\n",
       "      <td>1</td>\n",
       "      <td>NaN</td>\n",
       "      <td>I did a thing</td>\n",
       "      <td>1648074719.0</td>\n",
       "      <td>{'author': 'SadLittleWizard', 'created_utc': 1...</td>\n",
       "    </tr>\n",
       "  </tbody>\n",
       "</table>\n",
       "</div>"
      ],
      "text/plain": [
       "   Unnamed: 0           author  created_utc      id  \\\n",
       "0           0    JordanJames__   1648078335  tllean   \n",
       "1           1         oneethan   1648078334  tlle8s   \n",
       "2           2   ElPolloLoco391   1648078321  tlldja   \n",
       "3           3     farron__keep   1648078320  tlldhs   \n",
       "4           4  SadLittleWizard   1648078319  tlldfk   \n",
       "\n",
       "                                           permalink  score  \\\n",
       "0     /r/Eldenring/comments/tllean/to_those_hackers/      1   \n",
       "1  /r/Eldenring/comments/tlle8s/opinion_of_respec...      1   \n",
       "2  /r/Eldenring/comments/tlldja/was_this_suppose_...      1   \n",
       "3  /r/Eldenring/comments/tlldhs/melina_and_millic...      1   \n",
       "4        /r/Eldenring/comments/tlldfk/i_did_a_thing/      1   \n",
       "\n",
       "                                            selftext  \\\n",
       "0  Thanks for ruining the Elden Ring experience f...   \n",
       "1  im about halfway through the game ( just befor...   \n",
       "2                                                NaN   \n",
       "3  spoilers for millicent's questline &amp; frenz...   \n",
       "4                                                NaN   \n",
       "\n",
       "                              title       created  \\\n",
       "0               To THOSE hackers… ❌  1648074735.0   \n",
       "1  opinion of respecing into arcane  1648074734.0   \n",
       "2         Was this suppose happen ?  1648074721.0   \n",
       "3              melina and millicent  1648074720.0   \n",
       "4                     I did a thing  1648074719.0   \n",
       "\n",
       "                                                  d_  \n",
       "0  {'author': 'JordanJames__', 'created_utc': 164...  \n",
       "1  {'author': 'oneethan', 'created_utc': 16480783...  \n",
       "2  {'author': 'ElPolloLoco391', 'created_utc': 16...  \n",
       "3  {'author': 'farron__keep', 'created_utc': 1648...  \n",
       "4  {'author': 'SadLittleWizard', 'created_utc': 1...  "
      ]
     },
     "execution_count": 23,
     "metadata": {},
     "output_type": "execute_result"
    }
   ],
   "source": [
    "comments_df.head()"
   ]
  },
  {
   "cell_type": "code",
   "execution_count": 31,
   "metadata": {},
   "outputs": [
    {
     "data": {
      "text/plain": [
       "Index(['Unnamed: 0', 'author', 'created_utc', 'full_link', 'id',\n",
       "       'num_comments', 'score', 'thumbnail', 'title', 'upvote_ratio', 'url',\n",
       "       'created', 'd_', 'Unnamed: 0_c', 'author_c', 'created_utc_c',\n",
       "       'permalink', 'score_c', 'selftext', 'title_c', 'created_c', 'd__c'],\n",
       "      dtype='object')"
      ]
     },
     "execution_count": 31,
     "metadata": {},
     "output_type": "execute_result"
    }
   ],
   "source": [
    "filter = [\n",
    "        \"id\", \n",
    "        \"author\", \n",
    "        \"created_utc\", \n",
    "        \"url\", # urls starts with https://i.redd.it/ has pictures\n",
    "        \"full_link\", # https://reddit.com/<url>\n",
    "        \"title\",\n",
    "        \"selftext\", # content of post\n",
    "        \"upvote_ratio\",\n",
    "        \"num_comments\",\n",
    "        \"score\" # number of upvotes?\n",
    "        ]\n",
    "# posts_pre = posts_df.join(comments_df.set_index(\"id\"), how=\"left\", on=\"id\", rsuffix=\"_c\")\n",
    "posts_pre.columns\n"
   ]
  },
  {
   "cell_type": "code",
   "execution_count": 37,
   "metadata": {},
   "outputs": [
    {
     "data": {
      "text/plain": [
       "360394"
      ]
     },
     "execution_count": 37,
     "metadata": {},
     "output_type": "execute_result"
    }
   ],
   "source": [
    "len(posts_df)"
   ]
  },
  {
   "cell_type": "code",
   "execution_count": 33,
   "metadata": {},
   "outputs": [],
   "source": [
    "posts_pre = posts_pre[filter]"
   ]
  },
  {
   "cell_type": "code",
   "execution_count": 38,
   "metadata": {},
   "outputs": [
    {
     "name": "stderr",
     "output_type": "stream",
     "text": [
      "/var/folders/c3/kx181pz56w1b4srjcjx18y1c0000gn/T/ipykernel_89172/4011661051.py:1: FutureWarning: The frame.append method is deprecated and will be removed from pandas in a future version. Use pandas.concat instead.\n",
      "  posts = posts_pre.append(df)\n"
     ]
    }
   ],
   "source": [
    "posts = posts_pre.append(df)"
   ]
  },
  {
   "cell_type": "code",
   "execution_count": 41,
   "metadata": {},
   "outputs": [],
   "source": [
    "posts.to_csv(\"posts.csv\", index=None)"
   ]
  },
  {
   "cell_type": "code",
   "execution_count": 10,
   "metadata": {},
   "outputs": [
    {
     "data": {
      "text/html": [
       "<div>\n",
       "<style scoped>\n",
       "    .dataframe tbody tr th:only-of-type {\n",
       "        vertical-align: middle;\n",
       "    }\n",
       "\n",
       "    .dataframe tbody tr th {\n",
       "        vertical-align: top;\n",
       "    }\n",
       "\n",
       "    .dataframe thead th {\n",
       "        text-align: right;\n",
       "    }\n",
       "</style>\n",
       "<table border=\"1\" class=\"dataframe\">\n",
       "  <thead>\n",
       "    <tr style=\"text-align: right;\">\n",
       "      <th></th>\n",
       "      <th>Unnamed: 0</th>\n",
       "      <th>author</th>\n",
       "      <th>created_utc</th>\n",
       "      <th>id</th>\n",
       "      <th>permalink</th>\n",
       "      <th>score</th>\n",
       "      <th>selftext</th>\n",
       "      <th>title</th>\n",
       "      <th>created</th>\n",
       "      <th>d_</th>\n",
       "    </tr>\n",
       "  </thead>\n",
       "  <tbody>\n",
       "    <tr>\n",
       "      <th>0</th>\n",
       "      <td>0</td>\n",
       "      <td>JordanJames__</td>\n",
       "      <td>1648078335</td>\n",
       "      <td>tllean</td>\n",
       "      <td>/r/Eldenring/comments/tllean/to_those_hackers/</td>\n",
       "      <td>1</td>\n",
       "      <td>Thanks for ruining the Elden Ring experience f...</td>\n",
       "      <td>To THOSE hackers… ❌</td>\n",
       "      <td>1648074735.0</td>\n",
       "      <td>{'author': 'JordanJames__', 'created_utc': 164...</td>\n",
       "    </tr>\n",
       "    <tr>\n",
       "      <th>1</th>\n",
       "      <td>1</td>\n",
       "      <td>oneethan</td>\n",
       "      <td>1648078334</td>\n",
       "      <td>tlle8s</td>\n",
       "      <td>/r/Eldenring/comments/tlle8s/opinion_of_respec...</td>\n",
       "      <td>1</td>\n",
       "      <td>im about halfway through the game ( just befor...</td>\n",
       "      <td>opinion of respecing into arcane</td>\n",
       "      <td>1648074734.0</td>\n",
       "      <td>{'author': 'oneethan', 'created_utc': 16480783...</td>\n",
       "    </tr>\n",
       "    <tr>\n",
       "      <th>2</th>\n",
       "      <td>2</td>\n",
       "      <td>ElPolloLoco391</td>\n",
       "      <td>1648078321</td>\n",
       "      <td>tlldja</td>\n",
       "      <td>/r/Eldenring/comments/tlldja/was_this_suppose_...</td>\n",
       "      <td>1</td>\n",
       "      <td>NaN</td>\n",
       "      <td>Was this suppose happen ?</td>\n",
       "      <td>1648074721.0</td>\n",
       "      <td>{'author': 'ElPolloLoco391', 'created_utc': 16...</td>\n",
       "    </tr>\n",
       "    <tr>\n",
       "      <th>3</th>\n",
       "      <td>3</td>\n",
       "      <td>farron__keep</td>\n",
       "      <td>1648078320</td>\n",
       "      <td>tlldhs</td>\n",
       "      <td>/r/Eldenring/comments/tlldhs/melina_and_millic...</td>\n",
       "      <td>1</td>\n",
       "      <td>spoilers for millicent's questline &amp;amp; frenz...</td>\n",
       "      <td>melina and millicent</td>\n",
       "      <td>1648074720.0</td>\n",
       "      <td>{'author': 'farron__keep', 'created_utc': 1648...</td>\n",
       "    </tr>\n",
       "    <tr>\n",
       "      <th>4</th>\n",
       "      <td>4</td>\n",
       "      <td>SadLittleWizard</td>\n",
       "      <td>1648078319</td>\n",
       "      <td>tlldfk</td>\n",
       "      <td>/r/Eldenring/comments/tlldfk/i_did_a_thing/</td>\n",
       "      <td>1</td>\n",
       "      <td>NaN</td>\n",
       "      <td>I did a thing</td>\n",
       "      <td>1648074719.0</td>\n",
       "      <td>{'author': 'SadLittleWizard', 'created_utc': 1...</td>\n",
       "    </tr>\n",
       "  </tbody>\n",
       "</table>\n",
       "</div>"
      ],
      "text/plain": [
       "   Unnamed: 0           author  created_utc      id  \\\n",
       "0           0    JordanJames__   1648078335  tllean   \n",
       "1           1         oneethan   1648078334  tlle8s   \n",
       "2           2   ElPolloLoco391   1648078321  tlldja   \n",
       "3           3     farron__keep   1648078320  tlldhs   \n",
       "4           4  SadLittleWizard   1648078319  tlldfk   \n",
       "\n",
       "                                           permalink  score  \\\n",
       "0     /r/Eldenring/comments/tllean/to_those_hackers/      1   \n",
       "1  /r/Eldenring/comments/tlle8s/opinion_of_respec...      1   \n",
       "2  /r/Eldenring/comments/tlldja/was_this_suppose_...      1   \n",
       "3  /r/Eldenring/comments/tlldhs/melina_and_millic...      1   \n",
       "4        /r/Eldenring/comments/tlldfk/i_did_a_thing/      1   \n",
       "\n",
       "                                            selftext  \\\n",
       "0  Thanks for ruining the Elden Ring experience f...   \n",
       "1  im about halfway through the game ( just befor...   \n",
       "2                                                NaN   \n",
       "3  spoilers for millicent's questline &amp; frenz...   \n",
       "4                                                NaN   \n",
       "\n",
       "                              title       created  \\\n",
       "0               To THOSE hackers… ❌  1648074735.0   \n",
       "1  opinion of respecing into arcane  1648074734.0   \n",
       "2         Was this suppose happen ?  1648074721.0   \n",
       "3              melina and millicent  1648074720.0   \n",
       "4                     I did a thing  1648074719.0   \n",
       "\n",
       "                                                  d_  \n",
       "0  {'author': 'JordanJames__', 'created_utc': 164...  \n",
       "1  {'author': 'oneethan', 'created_utc': 16480783...  \n",
       "2  {'author': 'ElPolloLoco391', 'created_utc': 16...  \n",
       "3  {'author': 'farron__keep', 'created_utc': 1648...  \n",
       "4  {'author': 'SadLittleWizard', 'created_utc': 1...  "
      ]
     },
     "execution_count": 10,
     "metadata": {},
     "output_type": "execute_result"
    }
   ],
   "source": [
    "comments_df.head()"
   ]
  },
  {
   "cell_type": "code",
   "execution_count": 20,
   "metadata": {},
   "outputs": [
    {
     "data": {
      "text/plain": [
       "1648249189"
      ]
     },
     "execution_count": 20,
     "metadata": {},
     "output_type": "execute_result"
    }
   ],
   "source": [
    "max(df[\"created_utc\"])"
   ]
  },
  {
   "cell_type": "code",
   "execution_count": 58,
   "metadata": {},
   "outputs": [
    {
     "data": {
      "text/plain": [
       "1546297200"
      ]
     },
     "execution_count": 58,
     "metadata": {},
     "output_type": "execute_result"
    }
   ],
   "source": [
    "B_A_pairs[0][0]"
   ]
  },
  {
   "cell_type": "code",
   "execution_count": 2,
   "metadata": {},
   "outputs": [
    {
     "data": {
      "text/plain": [
       "[(1607468400, 1611546480),\n",
       " (1611546480, 1615624560),\n",
       " (1615624560, 1619702640),\n",
       " (1619702640, 1623780720),\n",
       " (1623780720, 1627858800),\n",
       " (1627858800, 1631936880),\n",
       " (1631936880, 1636014960),\n",
       " (1636014960, 1640093040),\n",
       " (1640093040, 1644171120),\n",
       " (1644171120, 1648249200)]"
      ]
     },
     "execution_count": 2,
     "metadata": {},
     "output_type": "execute_result"
    }
   ],
   "source": [
    "AFTER = 1607468400\n",
    "n = 10\n",
    "distance = int((BEFORE-AFTER)/n)\n",
    "intervals = [AFTER + i*distance for i in range(n)]\n",
    "# intervals.append(BEFORE)\n",
    "\n",
    "B_A_pairs = [(i, i+distance) for i in intervals]\n",
    "B_A_pairs"
   ]
  },
  {
   "cell_type": "code",
   "execution_count": 3,
   "metadata": {},
   "outputs": [
    {
     "name": "stderr",
     "output_type": "stream",
     "text": [
      "/Users/jersey/Library/Caches/pypoetry/virtualenvs/analysis-of-r-eldenring-n2W_eMD4-py3.8/lib/python3.8/site-packages/psaw/PushshiftAPI.py:192: UserWarning: Got non 200 code 525\n",
      "  warnings.warn(\"Got non 200 code %s\" % response.status_code)\n",
      "/Users/jersey/Library/Caches/pypoetry/virtualenvs/analysis-of-r-eldenring-n2W_eMD4-py3.8/lib/python3.8/site-packages/psaw/PushshiftAPI.py:180: UserWarning: Unable to connect to pushshift.io. Retrying after backoff.\n",
      "  warnings.warn(\"Unable to connect to pushshift.io. Retrying after backoff.\")\n"
     ]
    },
    {
     "name": "stdout",
     "output_type": "stream",
     "text": [
      "(1607468400, 1611546480) is finished!\n",
      "(1611546480, 1615624560) is finished!\n"
     ]
    },
    {
     "name": "stderr",
     "output_type": "stream",
     "text": [
      "/Users/jersey/Library/Caches/pypoetry/virtualenvs/analysis-of-r-eldenring-n2W_eMD4-py3.8/lib/python3.8/site-packages/psaw/PushshiftAPI.py:192: UserWarning: Got non 200 code 525\n",
      "  warnings.warn(\"Got non 200 code %s\" % response.status_code)\n",
      "/Users/jersey/Library/Caches/pypoetry/virtualenvs/analysis-of-r-eldenring-n2W_eMD4-py3.8/lib/python3.8/site-packages/psaw/PushshiftAPI.py:180: UserWarning: Unable to connect to pushshift.io. Retrying after backoff.\n",
      "  warnings.warn(\"Unable to connect to pushshift.io. Retrying after backoff.\")\n"
     ]
    },
    {
     "name": "stdout",
     "output_type": "stream",
     "text": [
      "(1615624560, 1619702640) is finished!\n",
      "(1619702640, 1623780720) is finished!\n",
      "(1623780720, 1627858800)\n",
      "(1627858800, 1631936880) is finished!\n",
      "(1631936880, 1636014960)\n",
      "(1636014960, 1640093040)\n",
      "(1640093040, 1644171120)\n"
     ]
    }
   ],
   "source": [
    "B_A_pairs[(1623780720, 1627858800)]\n",
    "for i in B_A_pairs:\n",
    "    try:\n",
    "        comments = list(api.search_comments(\n",
    "        subreddit = \"eldenring\",\n",
    "        before = i[1],\n",
    "        after = i[0],\n",
    "        filter = [\n",
    "            \"id\", \n",
    "            \"author\", \n",
    "            \"created_utc\", \n",
    "            \"permalink\", # https://reddit.com/<url>\n",
    "            \"body\",\n",
    "            \"score\", # number of upvotes?\n",
    "            ],\n",
    "        # limit =1,\n",
    "        ))\n",
    "        df = pd.DataFrame(comments)\n",
    "        df.to_csv(f\"comments_after_{i[0]}.csv\")\n",
    "\n",
    "        print(f\"{i} is finished!\")\n",
    "    except:\n",
    "        print(i)\n",
    "        break\n",
    "        "
   ]
  },
  {
   "cell_type": "code",
   "execution_count": 80,
   "metadata": {},
   "outputs": [],
   "source": [
    "pd.DataFrame(comments).to_clipboard()"
   ]
  },
  {
   "cell_type": "code",
   "execution_count": 76,
   "metadata": {},
   "outputs": [],
   "source": [
    "df = pd.read_csv(\"comments.csv\")\n",
    "df.head().to_clipboard()"
   ]
  },
  {
   "cell_type": "code",
   "execution_count": 65,
   "metadata": {},
   "outputs": [
    {
     "data": {
      "text/html": [
       "<div>\n",
       "<style scoped>\n",
       "    .dataframe tbody tr th:only-of-type {\n",
       "        vertical-align: middle;\n",
       "    }\n",
       "\n",
       "    .dataframe tbody tr th {\n",
       "        vertical-align: top;\n",
       "    }\n",
       "\n",
       "    .dataframe thead th {\n",
       "        text-align: right;\n",
       "    }\n",
       "</style>\n",
       "<table border=\"1\" class=\"dataframe\">\n",
       "  <thead>\n",
       "    <tr style=\"text-align: right;\">\n",
       "      <th></th>\n",
       "      <th>Unnamed: 0</th>\n",
       "      <th>author</th>\n",
       "      <th>created_utc</th>\n",
       "      <th>full_link</th>\n",
       "      <th>id</th>\n",
       "      <th>num_comments</th>\n",
       "      <th>score</th>\n",
       "      <th>thumbnail</th>\n",
       "      <th>title</th>\n",
       "      <th>upvote_ratio</th>\n",
       "      <th>url</th>\n",
       "      <th>created</th>\n",
       "      <th>d_</th>\n",
       "      <th>create_date</th>\n",
       "    </tr>\n",
       "  </thead>\n",
       "  <tbody>\n",
       "    <tr>\n",
       "      <th>0</th>\n",
       "      <td>0</td>\n",
       "      <td>Us3l3ssZ3D</td>\n",
       "      <td>1648059051</td>\n",
       "      <td>https://www.reddit.com/r/Eldenring/comments/tl...</td>\n",
       "      <td>tl4xj3</td>\n",
       "      <td>0</td>\n",
       "      <td>1</td>\n",
       "      <td>self</td>\n",
       "      <td>Question on how to make my Weapon Stronger</td>\n",
       "      <td>1.0</td>\n",
       "      <td>https://www.reddit.com/r/Eldenring/comments/tl...</td>\n",
       "      <td>1648055451.0</td>\n",
       "      <td>{'author': 'Us3l3ssZ3D', 'created_utc': 164805...</td>\n",
       "      <td>23-03-2022</td>\n",
       "    </tr>\n",
       "    <tr>\n",
       "      <th>1</th>\n",
       "      <td>1</td>\n",
       "      <td>Key-College-4290</td>\n",
       "      <td>1648059048</td>\n",
       "      <td>https://www.reddit.com/r/Eldenring/comments/tl...</td>\n",
       "      <td>tl4xd9</td>\n",
       "      <td>0</td>\n",
       "      <td>1</td>\n",
       "      <td>self</td>\n",
       "      <td>Anyone else get bored after they get to mounta...</td>\n",
       "      <td>1.0</td>\n",
       "      <td>https://www.reddit.com/r/Eldenring/comments/tl...</td>\n",
       "      <td>1648055448.0</td>\n",
       "      <td>{'author': 'Key-College-4290', 'created_utc': ...</td>\n",
       "      <td>23-03-2022</td>\n",
       "    </tr>\n",
       "    <tr>\n",
       "      <th>2</th>\n",
       "      <td>2</td>\n",
       "      <td>Zoiwillxxx</td>\n",
       "      <td>1648059039</td>\n",
       "      <td>https://www.reddit.com/r/Eldenring/comments/tl...</td>\n",
       "      <td>tl4wvb</td>\n",
       "      <td>0</td>\n",
       "      <td>1</td>\n",
       "      <td>https://a.thumbs.redditmedia.com/4Ptpw2_r2JQDM...</td>\n",
       "      <td>Welcome champions, to the Radahn Festival!!!</td>\n",
       "      <td>1.0</td>\n",
       "      <td>https://i.redd.it/607ofk61c6p81.jpg</td>\n",
       "      <td>1648055439.0</td>\n",
       "      <td>{'author': 'Zoiwillxxx', 'created_utc': 164805...</td>\n",
       "      <td>23-03-2022</td>\n",
       "    </tr>\n",
       "    <tr>\n",
       "      <th>3</th>\n",
       "      <td>3</td>\n",
       "      <td>LuneMiester</td>\n",
       "      <td>1648059036</td>\n",
       "      <td>https://www.reddit.com/r/Eldenring/comments/tl...</td>\n",
       "      <td>tl4wpl</td>\n",
       "      <td>0</td>\n",
       "      <td>1</td>\n",
       "      <td>self</td>\n",
       "      <td>Can’t find player I invaded now I’m stuck</td>\n",
       "      <td>1.0</td>\n",
       "      <td>https://www.reddit.com/r/Eldenring/comments/tl...</td>\n",
       "      <td>1648055436.0</td>\n",
       "      <td>{'author': 'LuneMiester', 'created_utc': 16480...</td>\n",
       "      <td>23-03-2022</td>\n",
       "    </tr>\n",
       "    <tr>\n",
       "      <th>4</th>\n",
       "      <td>4</td>\n",
       "      <td>Epickartoffelz</td>\n",
       "      <td>1648058994</td>\n",
       "      <td>https://www.reddit.com/r/Eldenring/comments/tl...</td>\n",
       "      <td>tl4vt6</td>\n",
       "      <td>0</td>\n",
       "      <td>1</td>\n",
       "      <td>https://b.thumbs.redditmedia.com/PT5SacNXCW4Hf...</td>\n",
       "      <td>:’)</td>\n",
       "      <td>1.0</td>\n",
       "      <td>https://i.redd.it/21h38yc0c6p81.jpg</td>\n",
       "      <td>1648055394.0</td>\n",
       "      <td>{'author': 'Epickartoffelz', 'created_utc': 16...</td>\n",
       "      <td>23-03-2022</td>\n",
       "    </tr>\n",
       "  </tbody>\n",
       "</table>\n",
       "</div>"
      ],
      "text/plain": [
       "   Unnamed: 0            author  created_utc  \\\n",
       "0           0        Us3l3ssZ3D   1648059051   \n",
       "1           1  Key-College-4290   1648059048   \n",
       "2           2        Zoiwillxxx   1648059039   \n",
       "3           3       LuneMiester   1648059036   \n",
       "4           4    Epickartoffelz   1648058994   \n",
       "\n",
       "                                           full_link      id  num_comments  \\\n",
       "0  https://www.reddit.com/r/Eldenring/comments/tl...  tl4xj3             0   \n",
       "1  https://www.reddit.com/r/Eldenring/comments/tl...  tl4xd9             0   \n",
       "2  https://www.reddit.com/r/Eldenring/comments/tl...  tl4wvb             0   \n",
       "3  https://www.reddit.com/r/Eldenring/comments/tl...  tl4wpl             0   \n",
       "4  https://www.reddit.com/r/Eldenring/comments/tl...  tl4vt6             0   \n",
       "\n",
       "   score                                          thumbnail  \\\n",
       "0      1                                               self   \n",
       "1      1                                               self   \n",
       "2      1  https://a.thumbs.redditmedia.com/4Ptpw2_r2JQDM...   \n",
       "3      1                                               self   \n",
       "4      1  https://b.thumbs.redditmedia.com/PT5SacNXCW4Hf...   \n",
       "\n",
       "                                               title upvote_ratio  \\\n",
       "0         Question on how to make my Weapon Stronger          1.0   \n",
       "1  Anyone else get bored after they get to mounta...          1.0   \n",
       "2       Welcome champions, to the Radahn Festival!!!          1.0   \n",
       "3          Can’t find player I invaded now I’m stuck          1.0   \n",
       "4                                                :’)          1.0   \n",
       "\n",
       "                                                 url       created  \\\n",
       "0  https://www.reddit.com/r/Eldenring/comments/tl...  1648055451.0   \n",
       "1  https://www.reddit.com/r/Eldenring/comments/tl...  1648055448.0   \n",
       "2                https://i.redd.it/607ofk61c6p81.jpg  1648055439.0   \n",
       "3  https://www.reddit.com/r/Eldenring/comments/tl...  1648055436.0   \n",
       "4                https://i.redd.it/21h38yc0c6p81.jpg  1648055394.0   \n",
       "\n",
       "                                                  d_ create_date  \n",
       "0  {'author': 'Us3l3ssZ3D', 'created_utc': 164805...  23-03-2022  \n",
       "1  {'author': 'Key-College-4290', 'created_utc': ...  23-03-2022  \n",
       "2  {'author': 'Zoiwillxxx', 'created_utc': 164805...  23-03-2022  \n",
       "3  {'author': 'LuneMiester', 'created_utc': 16480...  23-03-2022  \n",
       "4  {'author': 'Epickartoffelz', 'created_utc': 16...  23-03-2022  "
      ]
     },
     "execution_count": 65,
     "metadata": {},
     "output_type": "execute_result"
    }
   ],
   "source": [
    "def utc_to_date_string(utc):\n",
    "    date = dt.datetime.fromtimestamp(utc).date()\n",
    "    return date.strftime(\"%d-%m-%Y\")\n",
    "\n",
    "df[\"create_date\"] = df[\"created_utc\"].apply(utc_to_date_string)\n",
    "df.head()"
   ]
  },
  {
   "cell_type": "code",
   "execution_count": 74,
   "metadata": {},
   "outputs": [
    {
     "data": {
      "text/plain": [
       "<AxesSubplot:xlabel='create_date'>"
      ]
     },
     "execution_count": 74,
     "metadata": {},
     "output_type": "execute_result"
    },
    {
     "data": {
      "image/png": "[encoded data removed]",
      "text/plain": [
       "<Figure size 432x288 with 1 Axes>"
      ]
     },
     "metadata": {
      "needs_background": "light"
     },
     "output_type": "display_data"
    }
   ],
   "source": [
    "from matplotlib import pyplot as plt\n",
    "\n",
    "df.groupby(\"create_date\").count().plot(y=\"id\")\n",
    "plt.xlim()"
   ]
  },
  {
   "cell_type": "code",
   "execution_count": 63,
   "metadata": {},
   "outputs": [
    {
     "data": {
      "text/plain": [
       "'23-03-2022'"
      ]
     },
     "execution_count": 63,
     "metadata": {},
     "output_type": "execute_result"
    }
   ],
   "source": [
    "a = 1648059051\n",
    "dt.datetime.fromtimestamp(a).date().strftime(\"%d-%m-%Y\")\n"
   ]
  },
  {
   "cell_type": "code",
   "execution_count": 24,
   "metadata": {},
   "outputs": [
    {
     "name": "stderr",
     "output_type": "stream",
     "text": [
      "/Users/jersey/Library/Caches/pypoetry/virtualenvs/analysis-of-r-eldenring-n2W_eMD4-py3.8/lib/python3.8/site-packages/psaw/PushshiftAPI.py:252: UserWarning: Not all PushShift shards are active. Query results may be incomplete\n",
      "  warnings.warn(shards_down_message)\n"
     ]
    },
    {
     "data": {
      "text/plain": [
       "comment(all_awardings=[], archived=False, associated_award=None, author='Rascally_Dog', author_flair_background_color=None, author_flair_css_class=None, author_flair_richtext=[], author_flair_template_id=None, author_flair_text=None, author_flair_text_color=None, author_flair_type='text', author_fullname='t2_5b60acr0', author_patreon_flair=False, author_premium=False, body='Me too &gt;.&gt;;', body_sha1='1054a3f80437a71df4a39d0aff0c65bf976b3aa8', can_gild=True, collapsed=False, collapsed_because_crowd_control=None, collapsed_reason=None, collapsed_reason_code=None, comment_type=None, controversiality=0, created_utc=1648052063, distinguished=None, gilded=0, gildings={}, id='i1t7zy0', is_submitter=False, link_id='t3_t7cfvr', locked=False, no_follow=True, parent_id='t1_i1qfbbk', permalink='/r/Eldenring/comments/t7cfvr/anyone_know_where_to_find_the_item_deathbed_smalls/i1t7zy0/', retrieved_utc=1648052074, score=1, score_hidden=False, send_replies=True, stickied=False, subreddit='Eldenring', subreddit_id='t5_122hf1', subreddit_name_prefixed='r/Eldenring', subreddit_type='public', top_awarded_type=None, total_awards_received=0, treatment_tags=[], unrepliable_reason=None, created=1648048463.0, d_={'all_awardings': [], 'archived': False, 'associated_award': None, 'author': 'Rascally_Dog', 'author_flair_background_color': None, 'author_flair_css_class': None, 'author_flair_richtext': [], 'author_flair_template_id': None, 'author_flair_text': None, 'author_flair_text_color': None, 'author_flair_type': 'text', 'author_fullname': 't2_5b60acr0', 'author_patreon_flair': False, 'author_premium': False, 'body': 'Me too &gt;.&gt;;', 'body_sha1': '1054a3f80437a71df4a39d0aff0c65bf976b3aa8', 'can_gild': True, 'collapsed': False, 'collapsed_because_crowd_control': None, 'collapsed_reason': None, 'collapsed_reason_code': None, 'comment_type': None, 'controversiality': 0, 'created_utc': 1648052063, 'distinguished': None, 'gilded': 0, 'gildings': {}, 'id': 'i1t7zy0', 'is_submitter': False, 'link_id': 't3_t7cfvr', 'locked': False, 'no_follow': True, 'parent_id': 't1_i1qfbbk', 'permalink': '/r/Eldenring/comments/t7cfvr/anyone_know_where_to_find_the_item_deathbed_smalls/i1t7zy0/', 'retrieved_utc': 1648052074, 'score': 1, 'score_hidden': False, 'send_replies': True, 'stickied': False, 'subreddit': 'Eldenring', 'subreddit_id': 't5_122hf1', 'subreddit_name_prefixed': 'r/Eldenring', 'subreddit_type': 'public', 'top_awarded_type': None, 'total_awards_received': 0, 'treatment_tags': [], 'unrepliable_reason': None, 'created': 1648048463.0})"
      ]
     },
     "execution_count": 24,
     "metadata": {},
     "output_type": "execute_result"
    }
   ],
   "source": [
    "df.groupby([])"
   ]
  },
  {
   "cell_type": "code",
   "execution_count": 28,
   "metadata": {},
   "outputs": [],
   "source": [
    "import pandas as pd\n",
    "\n",
    "pd.DataFrame(posts).to_clipboard()"
   ]
  },
  {
   "cell_type": "code",
   "execution_count": 11,
   "metadata": {},
   "outputs": [
    {
     "data": {
      "text/plain": [
       "submission(all_awardings=[], allow_live_comments=False, author='MinerGFX', author_flair_css_class=None, author_flair_richtext=[], author_flair_text=None, author_flair_type='text', author_fullname='t2_8w4fp6tp', author_is_blocked=False, author_patreon_flair=False, author_premium=False, awarders=[], can_mod_post=False, contest_mode=False, created_utc=1648051143, domain='self.Eldenring', full_link='https://www.reddit.com/r/Eldenring/comments/tkxjuw/best_robustness_armor_in_the_game/', gildings={}, id='tkxjuw', is_created_from_ads_ui=False, is_crosspostable=True, is_meta=False, is_original_content=False, is_reddit_media_domain=False, is_robot_indexable=True, is_self=True, is_video=False, link_flair_background_color='#ff66ac', link_flair_richtext=[{'e': 'text', 't': 'Game Help'}], link_flair_template_id='56473fd2-9649-11ec-bef4-1edf0f12e8db', link_flair_text='Game Help', link_flair_text_color='dark', link_flair_type='richtext', locked=False, media_only=False, no_follow=True, num_comments=0, num_crossposts=0, over_18=False, parent_whitelist_status='all_ads', permalink='/r/Eldenring/comments/tkxjuw/best_robustness_armor_in_the_game/', pinned=False, pwls=6, retrieved_on=1648051153, score=1, selftext='Title says it all, does anyone know what the best robustness stat slated armor is in the game? tryna get a good kit together for pvp', send_replies=True, spoiler=False, stickied=False, subreddit='Eldenring', subreddit_id='t5_122hf1', subreddit_subscribers=985415, subreddit_type='public', thumbnail='self', title='Best robustness armor in the game?', total_awards_received=0, treatment_tags=[], upvote_ratio=1.0, url='https://www.reddit.com/r/Eldenring/comments/tkxjuw/best_robustness_armor_in_the_game/', whitelist_status='all_ads', wls=6, created=1648047543.0, d_={'all_awardings': [], 'allow_live_comments': False, 'author': 'MinerGFX', 'author_flair_css_class': None, 'author_flair_richtext': [], 'author_flair_text': None, 'author_flair_type': 'text', 'author_fullname': 't2_8w4fp6tp', 'author_is_blocked': False, 'author_patreon_flair': False, 'author_premium': False, 'awarders': [], 'can_mod_post': False, 'contest_mode': False, 'created_utc': 1648051143, 'domain': 'self.Eldenring', 'full_link': 'https://www.reddit.com/r/Eldenring/comments/tkxjuw/best_robustness_armor_in_the_game/', 'gildings': {}, 'id': 'tkxjuw', 'is_created_from_ads_ui': False, 'is_crosspostable': True, 'is_meta': False, 'is_original_content': False, 'is_reddit_media_domain': False, 'is_robot_indexable': True, 'is_self': True, 'is_video': False, 'link_flair_background_color': '#ff66ac', 'link_flair_richtext': [{'e': 'text', 't': 'Game Help'}], 'link_flair_template_id': '56473fd2-9649-11ec-bef4-1edf0f12e8db', 'link_flair_text': 'Game Help', 'link_flair_text_color': 'dark', 'link_flair_type': 'richtext', 'locked': False, 'media_only': False, 'no_follow': True, 'num_comments': 0, 'num_crossposts': 0, 'over_18': False, 'parent_whitelist_status': 'all_ads', 'permalink': '/r/Eldenring/comments/tkxjuw/best_robustness_armor_in_the_game/', 'pinned': False, 'pwls': 6, 'retrieved_on': 1648051153, 'score': 1, 'selftext': 'Title says it all, does anyone know what the best robustness stat slated armor is in the game? tryna get a good kit together for pvp', 'send_replies': True, 'spoiler': False, 'stickied': False, 'subreddit': 'Eldenring', 'subreddit_id': 't5_122hf1', 'subreddit_subscribers': 985415, 'subreddit_type': 'public', 'thumbnail': 'self', 'title': 'Best robustness armor in the game?', 'total_awards_received': 0, 'treatment_tags': [], 'upvote_ratio': 1.0, 'url': 'https://www.reddit.com/r/Eldenring/comments/tkxjuw/best_robustness_armor_in_the_game/', 'whitelist_status': 'all_ads', 'wls': 6, 'created': 1648047543.0})"
      ]
     },
     "execution_count": 11,
     "metadata": {},
     "output_type": "execute_result"
    }
   ],
   "source": [
    "posts[0]"
   ]
  }
 ],
 "metadata": {
  "interpreter": {
   "hash": "31f2aee4e71d21fbe5cf8b01ff0e069b9275f58929596ceb00d14d90e3e16cd6"
  },
  "kernelspec": {
   "display_name": "kernel-poetry-eldenring",
   "language": "python",
   "name": "kernel-poetry-eldenring"
  },
  "language_info": {
   "codemirror_mode": {
    "name": "ipython",
    "version": 3
   },
   "file_extension": ".py",
   "mimetype": "text/x-python",
   "name": "python",
   "nbconvert_exporter": "python",
   "pygments_lexer": "ipython3",
   "version": "3.8.9"
  },
  "orig_nbformat": 4
 },
 "nbformat": 4,
 "nbformat_minor": 2
}
