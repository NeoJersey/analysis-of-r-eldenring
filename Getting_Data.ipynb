{
 "cells": [
  {
   "cell_type": "code",
   "execution_count": 2,
   "metadata": {},
   "outputs": [],
   "source": [
    "import requests\n",
    "import bs4 as bs\n",
    "from psaw import PushshiftAPI\n",
    "import datetime as dt\n",
    "import pandas as pd\n",
    "\n",
    "api = PushshiftAPI()\n",
    "\n",
    "ULTRA_BEFORE = int(dt.datetime(2022, 3, 26).timestamp())\n",
    "BEFORE = int(dt.datetime(2022, 3, 26).timestamp())\n",
    "AFTER = int(dt.datetime(2019, 1, 1).timestamp())"
   ]
  },
  {
   "cell_type": "code",
   "execution_count": null,
   "metadata": {},
   "outputs": [],
   "source": [
    "# getting comments\n",
    "from psaw import PushshiftAPI\n",
    "import datetime as dt\n",
    "import pandas as pd\n",
    "\n",
    "BEFORE = int(dt.datetime(2022, 3, 26).timestamp())\n",
    "AFTER = int(dt.datetime(2019, 1, 1).timestamp())\n",
    "\n",
    "NUM_BLOCKS = 100\n",
    "\n",
    "def period_to_blocks(before:int, after:int, num_blocks) -> list:\n",
    "    \"\"\"\n",
    "    Converts a time period to a list of blocks.\n",
    "    \"\"\"\n",
    "    blocks = []\n",
    "    distance = int((before-after)/num_blocks)\n",
    "    intervals = [after + i*distance for i in range(num_blocks)]\n",
    "\n",
    "    blocks = [(interval, interval + distance) for interval in intervals]\n",
    "    return blocks\n",
    "\n",
    "blocks = period_to_blocks(BEFORE, AFTER, NUM_BLOCKS)\n",
    "\n",
    "for block in blocks:\n",
    "    try:\n",
    "        comments = list(api.search_comments(\n",
    "        subreddit = \"eldenring\",\n",
    "        before = block[1],\n",
    "        after = block[0],\n",
    "        filter = [\n",
    "            \"id\", \n",
    "            \"author\", \n",
    "            \"created_utc\", \n",
    "            \"permalink\", # https://reddit.com/<url>\n",
    "            \"body\",\n",
    "            \"score\", # number of upvotes\n",
    "            ],\n",
    "        # limit =1, \n",
    "        ))\n",
    "        df = pd.DataFrame(comments)\n",
    "        df.to_csv(f\"comments_after_{block[0]}.csv\")\n",
    "\n",
    "        print(f\"{block} is finished!\")\n",
    "    except:\n",
    "        print(block)\n",
    "        pass"
   ]
  },
  {
   "cell_type": "code",
   "execution_count": 3,
   "metadata": {},
   "outputs": [
    {
     "name": "stdout",
     "output_type": "stream",
     "text": [
      "(1646212186, 1646213332) is finished!\n",
      "(1646213332, 1646214478) is finished!\n",
      "(1646214478, 1646215624) is finished!\n",
      "(1646215624, 1646216770) is finished!\n",
      "(1646216770, 1646217916) is finished!\n",
      "(1646217916, 1646219062) is finished!\n",
      "(1646219062, 1646220208) is finished!\n",
      "(1646220208, 1646221354) is finished!\n",
      "(1646221354, 1646222500) is finished!\n",
      "(1646222500, 1646223646) is finished!\n",
      "(1646223646, 1646224792) is finished!\n",
      "(1646224792, 1646225938) is finished!\n",
      "(1646225938, 1646227084) is finished!\n",
      "(1646227084, 1646228230) is finished!\n",
      "(1646228230, 1646229376) is finished!\n",
      "(1646229376, 1646230522) is finished!\n",
      "(1646230522, 1646231668) is finished!\n",
      "(1646231668, 1646232814) is finished!\n",
      "(1646232814, 1646233960) is finished!\n",
      "(1646233960, 1646235106) is finished!\n"
     ]
    },
    {
     "name": "stderr",
     "output_type": "stream",
     "text": [
      "/Users/jersey/Library/Caches/pypoetry/virtualenvs/analysis-of-r-eldenring-n2W_eMD4-py3.8/lib/python3.8/site-packages/psaw/PushshiftAPI.py:192: UserWarning: Got non 200 code 522\n",
      "  warnings.warn(\"Got non 200 code %s\" % response.status_code)\n",
      "/Users/jersey/Library/Caches/pypoetry/virtualenvs/analysis-of-r-eldenring-n2W_eMD4-py3.8/lib/python3.8/site-packages/psaw/PushshiftAPI.py:180: UserWarning: Unable to connect to pushshift.io. Retrying after backoff.\n",
      "  warnings.warn(\"Unable to connect to pushshift.io. Retrying after backoff.\")\n"
     ]
    },
    {
     "name": "stdout",
     "output_type": "stream",
     "text": [
      "(1646235106, 1646236252) is finished!\n",
      "(1646236252, 1646237398) is finished!\n",
      "(1646237398, 1646238544) is finished!\n",
      "(1646238544, 1646239690) is finished!\n",
      "(1647698644, 1647710113) is finished!\n",
      "(1647710113, 1647721582) is finished!\n"
     ]
    },
    {
     "name": "stderr",
     "output_type": "stream",
     "text": [
      "/Users/jersey/Library/Caches/pypoetry/virtualenvs/analysis-of-r-eldenring-n2W_eMD4-py3.8/lib/python3.8/site-packages/psaw/PushshiftAPI.py:192: UserWarning: Got non 200 code 429\n",
      "  warnings.warn(\"Got non 200 code %s\" % response.status_code)\n",
      "/Users/jersey/Library/Caches/pypoetry/virtualenvs/analysis-of-r-eldenring-n2W_eMD4-py3.8/lib/python3.8/site-packages/psaw/PushshiftAPI.py:180: UserWarning: Unable to connect to pushshift.io. Retrying after backoff.\n",
      "  warnings.warn(\"Unable to connect to pushshift.io. Retrying after backoff.\")\n"
     ]
    },
    {
     "name": "stdout",
     "output_type": "stream",
     "text": [
      "(1647721582, 1647733051) is finished!\n",
      "(1647733051, 1647744520) is finished!\n",
      "(1647744520, 1647755989) is finished!\n",
      "(1647755989, 1647767458) is finished!\n",
      "(1647767458, 1647778927) is finished!\n",
      "(1647778927, 1647790396) is finished!\n"
     ]
    },
    {
     "name": "stderr",
     "output_type": "stream",
     "text": [
      "/Users/jersey/Library/Caches/pypoetry/virtualenvs/analysis-of-r-eldenring-n2W_eMD4-py3.8/lib/python3.8/site-packages/psaw/PushshiftAPI.py:192: UserWarning: Got non 200 code 502\n",
      "  warnings.warn(\"Got non 200 code %s\" % response.status_code)\n",
      "/Users/jersey/Library/Caches/pypoetry/virtualenvs/analysis-of-r-eldenring-n2W_eMD4-py3.8/lib/python3.8/site-packages/psaw/PushshiftAPI.py:180: UserWarning: Unable to connect to pushshift.io. Retrying after backoff.\n",
      "  warnings.warn(\"Unable to connect to pushshift.io. Retrying after backoff.\")\n"
     ]
    },
    {
     "name": "stdout",
     "output_type": "stream",
     "text": [
      "(1647790396, 1647801865) is finished!\n"
     ]
    },
    {
     "name": "stderr",
     "output_type": "stream",
     "text": [
      "/Users/jersey/Library/Caches/pypoetry/virtualenvs/analysis-of-r-eldenring-n2W_eMD4-py3.8/lib/python3.8/site-packages/psaw/PushshiftAPI.py:192: UserWarning: Got non 200 code 502\n",
      "  warnings.warn(\"Got non 200 code %s\" % response.status_code)\n",
      "/Users/jersey/Library/Caches/pypoetry/virtualenvs/analysis-of-r-eldenring-n2W_eMD4-py3.8/lib/python3.8/site-packages/psaw/PushshiftAPI.py:180: UserWarning: Unable to connect to pushshift.io. Retrying after backoff.\n",
      "  warnings.warn(\"Unable to connect to pushshift.io. Retrying after backoff.\")\n"
     ]
    },
    {
     "name": "stdout",
     "output_type": "stream",
     "text": [
      "(1647801865, 1647813334) is finished!\n",
      "(1647813334, 1647824803) is finished!\n",
      "(1647824803, 1647836272) is finished!\n",
      "(1647836272, 1647847741) is finished!\n",
      "(1647847741, 1647859210) is finished!\n"
     ]
    },
    {
     "name": "stderr",
     "output_type": "stream",
     "text": [
      "/Users/jersey/Library/Caches/pypoetry/virtualenvs/analysis-of-r-eldenring-n2W_eMD4-py3.8/lib/python3.8/site-packages/psaw/PushshiftAPI.py:192: UserWarning: Got non 200 code 522\n",
      "  warnings.warn(\"Got non 200 code %s\" % response.status_code)\n",
      "/Users/jersey/Library/Caches/pypoetry/virtualenvs/analysis-of-r-eldenring-n2W_eMD4-py3.8/lib/python3.8/site-packages/psaw/PushshiftAPI.py:180: UserWarning: Unable to connect to pushshift.io. Retrying after backoff.\n",
      "  warnings.warn(\"Unable to connect to pushshift.io. Retrying after backoff.\")\n"
     ]
    },
    {
     "name": "stdout",
     "output_type": "stream",
     "text": [
      "(1647859210, 1647870679) is finished!\n",
      "(1647870679, 1647882148) is finished!\n",
      "(1647882148, 1647893617) is finished!\n",
      "(1647893617, 1647905086) is finished!\n",
      "(1647905086, 1647916555) is finished!\n",
      "(1647916555, 1647928024) is finished!\n",
      "(1647928024, 1647939493) is finished!\n",
      "(1647939493, 1647950962) is finished!\n"
     ]
    },
    {
     "name": "stderr",
     "output_type": "stream",
     "text": [
      "/Users/jersey/Library/Caches/pypoetry/virtualenvs/analysis-of-r-eldenring-n2W_eMD4-py3.8/lib/python3.8/site-packages/psaw/PushshiftAPI.py:192: UserWarning: Got non 200 code 502\n",
      "  warnings.warn(\"Got non 200 code %s\" % response.status_code)\n",
      "/Users/jersey/Library/Caches/pypoetry/virtualenvs/analysis-of-r-eldenring-n2W_eMD4-py3.8/lib/python3.8/site-packages/psaw/PushshiftAPI.py:180: UserWarning: Unable to connect to pushshift.io. Retrying after backoff.\n",
      "  warnings.warn(\"Unable to connect to pushshift.io. Retrying after backoff.\")\n"
     ]
    },
    {
     "name": "stdout",
     "output_type": "stream",
     "text": [
      "(1647950962, 1647962431) is finished!\n"
     ]
    },
    {
     "name": "stderr",
     "output_type": "stream",
     "text": [
      "/Users/jersey/Library/Caches/pypoetry/virtualenvs/analysis-of-r-eldenring-n2W_eMD4-py3.8/lib/python3.8/site-packages/psaw/PushshiftAPI.py:192: UserWarning: Got non 200 code 522\n",
      "  warnings.warn(\"Got non 200 code %s\" % response.status_code)\n",
      "/Users/jersey/Library/Caches/pypoetry/virtualenvs/analysis-of-r-eldenring-n2W_eMD4-py3.8/lib/python3.8/site-packages/psaw/PushshiftAPI.py:180: UserWarning: Unable to connect to pushshift.io. Retrying after backoff.\n",
      "  warnings.warn(\"Unable to connect to pushshift.io. Retrying after backoff.\")\n",
      "/Users/jersey/Library/Caches/pypoetry/virtualenvs/analysis-of-r-eldenring-n2W_eMD4-py3.8/lib/python3.8/site-packages/psaw/PushshiftAPI.py:192: UserWarning: Got non 200 code 502\n",
      "  warnings.warn(\"Got non 200 code %s\" % response.status_code)\n"
     ]
    },
    {
     "name": "stdout",
     "output_type": "stream",
     "text": [
      "(1647962431, 1647973900) is finished!\n",
      "(1647973914, 1647985383) is finished!\n",
      "(1647985383, 1647996852) is finished!\n",
      "(1647996852, 1648008321) is finished!\n",
      "(1648008321, 1648019790) is finished!\n"
     ]
    },
    {
     "name": "stderr",
     "output_type": "stream",
     "text": [
      "/Users/jersey/Library/Caches/pypoetry/virtualenvs/analysis-of-r-eldenring-n2W_eMD4-py3.8/lib/python3.8/site-packages/psaw/PushshiftAPI.py:192: UserWarning: Got non 200 code 521\n",
      "  warnings.warn(\"Got non 200 code %s\" % response.status_code)\n",
      "/Users/jersey/Library/Caches/pypoetry/virtualenvs/analysis-of-r-eldenring-n2W_eMD4-py3.8/lib/python3.8/site-packages/psaw/PushshiftAPI.py:180: UserWarning: Unable to connect to pushshift.io. Retrying after backoff.\n",
      "  warnings.warn(\"Unable to connect to pushshift.io. Retrying after backoff.\")\n",
      "/Users/jersey/Library/Caches/pypoetry/virtualenvs/analysis-of-r-eldenring-n2W_eMD4-py3.8/lib/python3.8/site-packages/psaw/PushshiftAPI.py:192: UserWarning: Got non 200 code 522\n",
      "  warnings.warn(\"Got non 200 code %s\" % response.status_code)\n",
      "/Users/jersey/Library/Caches/pypoetry/virtualenvs/analysis-of-r-eldenring-n2W_eMD4-py3.8/lib/python3.8/site-packages/psaw/PushshiftAPI.py:192: UserWarning: Got non 200 code 429\n",
      "  warnings.warn(\"Got non 200 code %s\" % response.status_code)\n"
     ]
    },
    {
     "name": "stdout",
     "output_type": "stream",
     "text": [
      "(1648019790, 1648031259) is finished!\n"
     ]
    },
    {
     "name": "stderr",
     "output_type": "stream",
     "text": [
      "/Users/jersey/Library/Caches/pypoetry/virtualenvs/analysis-of-r-eldenring-n2W_eMD4-py3.8/lib/python3.8/site-packages/psaw/PushshiftAPI.py:192: UserWarning: Got non 200 code 429\n",
      "  warnings.warn(\"Got non 200 code %s\" % response.status_code)\n",
      "/Users/jersey/Library/Caches/pypoetry/virtualenvs/analysis-of-r-eldenring-n2W_eMD4-py3.8/lib/python3.8/site-packages/psaw/PushshiftAPI.py:180: UserWarning: Unable to connect to pushshift.io. Retrying after backoff.\n",
      "  warnings.warn(\"Unable to connect to pushshift.io. Retrying after backoff.\")\n"
     ]
    },
    {
     "name": "stdout",
     "output_type": "stream",
     "text": [
      "(1648031259, 1648042728) is finished!\n"
     ]
    },
    {
     "name": "stderr",
     "output_type": "stream",
     "text": [
      "/Users/jersey/Library/Caches/pypoetry/virtualenvs/analysis-of-r-eldenring-n2W_eMD4-py3.8/lib/python3.8/site-packages/psaw/PushshiftAPI.py:192: UserWarning: Got non 200 code 429\n",
      "  warnings.warn(\"Got non 200 code %s\" % response.status_code)\n",
      "/Users/jersey/Library/Caches/pypoetry/virtualenvs/analysis-of-r-eldenring-n2W_eMD4-py3.8/lib/python3.8/site-packages/psaw/PushshiftAPI.py:180: UserWarning: Unable to connect to pushshift.io. Retrying after backoff.\n",
      "  warnings.warn(\"Unable to connect to pushshift.io. Retrying after backoff.\")\n",
      "/Users/jersey/Library/Caches/pypoetry/virtualenvs/analysis-of-r-eldenring-n2W_eMD4-py3.8/lib/python3.8/site-packages/psaw/PushshiftAPI.py:192: UserWarning: Got non 200 code 502\n",
      "  warnings.warn(\"Got non 200 code %s\" % response.status_code)\n"
     ]
    },
    {
     "name": "stdout",
     "output_type": "stream",
     "text": [
      "(1648042728, 1648054197) is finished!\n",
      "(1648054197, 1648065666) is finished!\n"
     ]
    },
    {
     "name": "stderr",
     "output_type": "stream",
     "text": [
      "/Users/jersey/Library/Caches/pypoetry/virtualenvs/analysis-of-r-eldenring-n2W_eMD4-py3.8/lib/python3.8/site-packages/psaw/PushshiftAPI.py:192: UserWarning: Got non 200 code 429\n",
      "  warnings.warn(\"Got non 200 code %s\" % response.status_code)\n",
      "/Users/jersey/Library/Caches/pypoetry/virtualenvs/analysis-of-r-eldenring-n2W_eMD4-py3.8/lib/python3.8/site-packages/psaw/PushshiftAPI.py:180: UserWarning: Unable to connect to pushshift.io. Retrying after backoff.\n",
      "  warnings.warn(\"Unable to connect to pushshift.io. Retrying after backoff.\")\n"
     ]
    },
    {
     "name": "stdout",
     "output_type": "stream",
     "text": [
      "(1648065666, 1648077135) is finished!\n"
     ]
    },
    {
     "name": "stderr",
     "output_type": "stream",
     "text": [
      "/Users/jersey/Library/Caches/pypoetry/virtualenvs/analysis-of-r-eldenring-n2W_eMD4-py3.8/lib/python3.8/site-packages/psaw/PushshiftAPI.py:192: UserWarning: Got non 200 code 502\n",
      "  warnings.warn(\"Got non 200 code %s\" % response.status_code)\n",
      "/Users/jersey/Library/Caches/pypoetry/virtualenvs/analysis-of-r-eldenring-n2W_eMD4-py3.8/lib/python3.8/site-packages/psaw/PushshiftAPI.py:180: UserWarning: Unable to connect to pushshift.io. Retrying after backoff.\n",
      "  warnings.warn(\"Unable to connect to pushshift.io. Retrying after backoff.\")\n",
      "/Users/jersey/Library/Caches/pypoetry/virtualenvs/analysis-of-r-eldenring-n2W_eMD4-py3.8/lib/python3.8/site-packages/psaw/PushshiftAPI.py:192: UserWarning: Got non 200 code 429\n",
      "  warnings.warn(\"Got non 200 code %s\" % response.status_code)\n"
     ]
    },
    {
     "name": "stdout",
     "output_type": "stream",
     "text": [
      "(1648077135, 1648088604) is finished!\n",
      "(1648088604, 1648100073) is finished!\n",
      "(1648100073, 1648111542) is finished!\n",
      "(1648111542, 1648123011) is finished!\n"
     ]
    },
    {
     "name": "stderr",
     "output_type": "stream",
     "text": [
      "/Users/jersey/Library/Caches/pypoetry/virtualenvs/analysis-of-r-eldenring-n2W_eMD4-py3.8/lib/python3.8/site-packages/psaw/PushshiftAPI.py:192: UserWarning: Got non 200 code 429\n",
      "  warnings.warn(\"Got non 200 code %s\" % response.status_code)\n",
      "/Users/jersey/Library/Caches/pypoetry/virtualenvs/analysis-of-r-eldenring-n2W_eMD4-py3.8/lib/python3.8/site-packages/psaw/PushshiftAPI.py:180: UserWarning: Unable to connect to pushshift.io. Retrying after backoff.\n",
      "  warnings.warn(\"Unable to connect to pushshift.io. Retrying after backoff.\")\n"
     ]
    },
    {
     "name": "stdout",
     "output_type": "stream",
     "text": [
      "(1648123011, 1648134480) is finished!\n",
      "(1648134480, 1648145949) is finished!\n"
     ]
    },
    {
     "name": "stderr",
     "output_type": "stream",
     "text": [
      "/Users/jersey/Library/Caches/pypoetry/virtualenvs/analysis-of-r-eldenring-n2W_eMD4-py3.8/lib/python3.8/site-packages/psaw/PushshiftAPI.py:192: UserWarning: Got non 200 code 502\n",
      "  warnings.warn(\"Got non 200 code %s\" % response.status_code)\n",
      "/Users/jersey/Library/Caches/pypoetry/virtualenvs/analysis-of-r-eldenring-n2W_eMD4-py3.8/lib/python3.8/site-packages/psaw/PushshiftAPI.py:180: UserWarning: Unable to connect to pushshift.io. Retrying after backoff.\n",
      "  warnings.warn(\"Unable to connect to pushshift.io. Retrying after backoff.\")\n"
     ]
    },
    {
     "name": "stdout",
     "output_type": "stream",
     "text": [
      "(1648145949, 1648157418) is finished!\n",
      "(1648157418, 1648168887) is finished!\n",
      "(1648168887, 1648180356) is finished!\n",
      "(1648180356, 1648191825) is finished!\n",
      "(1648191825, 1648203294) is finished!\n",
      "(1648203294, 1648214763) is finished!\n",
      "(1648214763, 1648226232) is finished!\n",
      "(1648226232, 1648237701) is finished!\n",
      "(1648237701, 1648249170) is finished!\n"
     ]
    }
   ],
   "source": [
    "# getting comments\n",
    "for period in unfinished:\n",
    "\n",
    "    # divide periods into n parts to avoid waste of time if a big period fails\n",
    "    AFTER = period[0]\n",
    "    BEFORE = period[1]\n",
    "    n = 24\n",
    "    distance = int((BEFORE-AFTER)/n)\n",
    "    intervals = [AFTER + i*distance for i in range(n)]\n",
    "\n",
    "\n",
    "    B_A_pairs = [(i, i+distance) for i in intervals]\n",
    "    \n",
    "    for i in B_A_pairs:\n",
    "        try:\n",
    "            comments = list(api.search_comments(\n",
    "            subreddit = \"eldenring\",\n",
    "            before = i[1],\n",
    "            after = i[0],\n",
    "            filter = [\n",
    "                \"id\", \n",
    "                \"author\", \n",
    "                \"created_utc\", \n",
    "                \"permalink\", # https://reddit.com/<url>\n",
    "                \"body\",\n",
    "                \"score\", # number of upvotes?\n",
    "                ],\n",
    "            # limit =1, \n",
    "            ))\n",
    "            df = pd.DataFrame(comments)\n",
    "            df.to_csv(f\"comments_after_{i[0]}.csv\")\n",
    "\n",
    "            print(f\"{i} is finished!\")\n",
    "        except:\n",
    "            print(i)\n",
    "            pass"
   ]
  },
  {
   "cell_type": "code",
   "execution_count": 3,
   "metadata": {},
   "outputs": [
    {
     "name": "stderr",
     "output_type": "stream",
     "text": [
      "/Users/jersey/Library/Caches/pypoetry/virtualenvs/analysis-of-r-eldenring-n2W_eMD4-py3.10/lib/python3.10/site-packages/psaw/PushshiftAPI.py:252: UserWarning: Not all PushShift shards are active. Query results may be incomplete\n",
      "  warnings.warn(shards_down_message)\n",
      "/Users/jersey/Library/Caches/pypoetry/virtualenvs/analysis-of-r-eldenring-n2W_eMD4-py3.10/lib/python3.10/site-packages/psaw/PushshiftAPI.py:192: UserWarning: Got non 200 code 429\n",
      "  warnings.warn(\"Got non 200 code %s\" % response.status_code)\n",
      "/Users/jersey/Library/Caches/pypoetry/virtualenvs/analysis-of-r-eldenring-n2W_eMD4-py3.10/lib/python3.10/site-packages/psaw/PushshiftAPI.py:180: UserWarning: Unable to connect to pushshift.io. Retrying after backoff.\n",
      "  warnings.warn(\"Unable to connect to pushshift.io. Retrying after backoff.\")\n"
     ]
    }
   ],
   "source": [
    "# getting posts\n",
    "import pandas as pd\n",
    "from psaw import PushshiftAPI\n",
    "\n",
    "api = PushshiftAPI()\n",
    "\n",
    "posts = list(api.search_submissions(\n",
    "    subreddit = \"eldenring\",\n",
    "    # before = END_OF_PERIOD, now if before is null\n",
    "    # after = START_OF_PERIOD, the start of the subreddit if after is null \n",
    "    filter = [\n",
    "        \"id\", \n",
    "        \"author\", \n",
    "        \"created_utc\", \n",
    "        \"url\", # urls starts with https://i.redd.it/ has pictures\n",
    "        \"full_link\", # https://reddit.com/<url>\n",
    "        \"title\",\n",
    "        \"selftext\", # content of post\n",
    "        \"num_comments\",\n",
    "        \"score\" # number of upvotes\n",
    "        ],\n",
    "    # limit = 200,\n",
    "))\n",
    "\n",
    "df = pd.DataFrame(posts)\n",
    "df.to_csv(\"posts.csv\", index=None)\n"
   ]
  },
  {
   "cell_type": "code",
   "execution_count": 7,
   "metadata": {},
   "outputs": [
    {
     "ename": "KeyboardInterrupt",
     "evalue": "",
     "output_type": "error",
     "traceback": [
      "\u001b[0;31m---------------------------------------------------------------------------\u001b[0m",
      "\u001b[0;31mKeyboardInterrupt\u001b[0m                         Traceback (most recent call last)",
      "\u001b[1;32m/Users/jersey/Documents/GitHub/analysis-of-r-eldenring/analysis-of-r-eldenring/Getting_Data.ipynb Cell 5'\u001b[0m in \u001b[0;36m<cell line: 4>\u001b[0;34m()\u001b[0m\n\u001b[1;32m      <a href='vscode-notebook-cell:/Users/jersey/Documents/GitHub/analysis-of-r-eldenring/analysis-of-r-eldenring/Getting_Data.ipynb#ch0000021?line=0'>1</a>\u001b[0m \u001b[39mfrom\u001b[39;00m \u001b[39mmatplotlib\u001b[39;00m \u001b[39mimport\u001b[39;00m pyplot \u001b[39mas\u001b[39;00m plt\n\u001b[1;32m      <a href='vscode-notebook-cell:/Users/jersey/Documents/GitHub/analysis-of-r-eldenring/analysis-of-r-eldenring/Getting_Data.ipynb#ch0000021?line=1'>2</a>\u001b[0m \u001b[39mimport\u001b[39;00m \u001b[39mpandas\u001b[39;00m \u001b[39mas\u001b[39;00m \u001b[39mpd\u001b[39;00m\n\u001b[0;32m----> <a href='vscode-notebook-cell:/Users/jersey/Documents/GitHub/analysis-of-r-eldenring/analysis-of-r-eldenring/Getting_Data.ipynb#ch0000021?line=3'>4</a>\u001b[0m df \u001b[39m=\u001b[39m pd\u001b[39m.\u001b[39;49mread_csv(\u001b[39m\"\u001b[39;49m\u001b[39mposts_processed.csv\u001b[39;49m\u001b[39m\"\u001b[39;49m)\n\u001b[1;32m      <a href='vscode-notebook-cell:/Users/jersey/Documents/GitHub/analysis-of-r-eldenring/analysis-of-r-eldenring/Getting_Data.ipynb#ch0000021?line=5'>6</a>\u001b[0m df\u001b[39m.\u001b[39mgroupby(\u001b[39m\"\u001b[39m\u001b[39mcreated_date\u001b[39m\u001b[39m\"\u001b[39m)\u001b[39m.\u001b[39mcount()\u001b[39m.\u001b[39mplot(y\u001b[39m=\u001b[39m\u001b[39m\"\u001b[39m\u001b[39mid\u001b[39m\u001b[39m\"\u001b[39m,figsize\u001b[39m=\u001b[39m(\u001b[39m16\u001b[39m,\u001b[39m4\u001b[39m))\n",
      "File \u001b[0;32m~/Library/Caches/pypoetry/virtualenvs/analysis-of-r-eldenring-n2W_eMD4-py3.10/lib/python3.10/site-packages/pandas/util/_decorators.py:311\u001b[0m, in \u001b[0;36mdeprecate_nonkeyword_arguments.<locals>.decorate.<locals>.wrapper\u001b[0;34m(*args, **kwargs)\u001b[0m\n\u001b[1;32m    <a href='file:///Users/jersey/Library/Caches/pypoetry/virtualenvs/analysis-of-r-eldenring-n2W_eMD4-py3.10/lib/python3.10/site-packages/pandas/util/_decorators.py?line=304'>305</a>\u001b[0m \u001b[39mif\u001b[39;00m \u001b[39mlen\u001b[39m(args) \u001b[39m>\u001b[39m num_allow_args:\n\u001b[1;32m    <a href='file:///Users/jersey/Library/Caches/pypoetry/virtualenvs/analysis-of-r-eldenring-n2W_eMD4-py3.10/lib/python3.10/site-packages/pandas/util/_decorators.py?line=305'>306</a>\u001b[0m     warnings\u001b[39m.\u001b[39mwarn(\n\u001b[1;32m    <a href='file:///Users/jersey/Library/Caches/pypoetry/virtualenvs/analysis-of-r-eldenring-n2W_eMD4-py3.10/lib/python3.10/site-packages/pandas/util/_decorators.py?line=306'>307</a>\u001b[0m         msg\u001b[39m.\u001b[39mformat(arguments\u001b[39m=\u001b[39marguments),\n\u001b[1;32m    <a href='file:///Users/jersey/Library/Caches/pypoetry/virtualenvs/analysis-of-r-eldenring-n2W_eMD4-py3.10/lib/python3.10/site-packages/pandas/util/_decorators.py?line=307'>308</a>\u001b[0m         \u001b[39mFutureWarning\u001b[39;00m,\n\u001b[1;32m    <a href='file:///Users/jersey/Library/Caches/pypoetry/virtualenvs/analysis-of-r-eldenring-n2W_eMD4-py3.10/lib/python3.10/site-packages/pandas/util/_decorators.py?line=308'>309</a>\u001b[0m         stacklevel\u001b[39m=\u001b[39mstacklevel,\n\u001b[1;32m    <a href='file:///Users/jersey/Library/Caches/pypoetry/virtualenvs/analysis-of-r-eldenring-n2W_eMD4-py3.10/lib/python3.10/site-packages/pandas/util/_decorators.py?line=309'>310</a>\u001b[0m     )\n\u001b[0;32m--> <a href='file:///Users/jersey/Library/Caches/pypoetry/virtualenvs/analysis-of-r-eldenring-n2W_eMD4-py3.10/lib/python3.10/site-packages/pandas/util/_decorators.py?line=310'>311</a>\u001b[0m \u001b[39mreturn\u001b[39;00m func(\u001b[39m*\u001b[39;49margs, \u001b[39m*\u001b[39;49m\u001b[39m*\u001b[39;49mkwargs)\n",
      "File \u001b[0;32m~/Library/Caches/pypoetry/virtualenvs/analysis-of-r-eldenring-n2W_eMD4-py3.10/lib/python3.10/site-packages/pandas/io/parsers/readers.py:680\u001b[0m, in \u001b[0;36mread_csv\u001b[0;34m(filepath_or_buffer, sep, delimiter, header, names, index_col, usecols, squeeze, prefix, mangle_dupe_cols, dtype, engine, converters, true_values, false_values, skipinitialspace, skiprows, skipfooter, nrows, na_values, keep_default_na, na_filter, verbose, skip_blank_lines, parse_dates, infer_datetime_format, keep_date_col, date_parser, dayfirst, cache_dates, iterator, chunksize, compression, thousands, decimal, lineterminator, quotechar, quoting, doublequote, escapechar, comment, encoding, encoding_errors, dialect, error_bad_lines, warn_bad_lines, on_bad_lines, delim_whitespace, low_memory, memory_map, float_precision, storage_options)\u001b[0m\n\u001b[1;32m    <a href='file:///Users/jersey/Library/Caches/pypoetry/virtualenvs/analysis-of-r-eldenring-n2W_eMD4-py3.10/lib/python3.10/site-packages/pandas/io/parsers/readers.py?line=664'>665</a>\u001b[0m kwds_defaults \u001b[39m=\u001b[39m _refine_defaults_read(\n\u001b[1;32m    <a href='file:///Users/jersey/Library/Caches/pypoetry/virtualenvs/analysis-of-r-eldenring-n2W_eMD4-py3.10/lib/python3.10/site-packages/pandas/io/parsers/readers.py?line=665'>666</a>\u001b[0m     dialect,\n\u001b[1;32m    <a href='file:///Users/jersey/Library/Caches/pypoetry/virtualenvs/analysis-of-r-eldenring-n2W_eMD4-py3.10/lib/python3.10/site-packages/pandas/io/parsers/readers.py?line=666'>667</a>\u001b[0m     delimiter,\n\u001b[0;32m   (...)\u001b[0m\n\u001b[1;32m    <a href='file:///Users/jersey/Library/Caches/pypoetry/virtualenvs/analysis-of-r-eldenring-n2W_eMD4-py3.10/lib/python3.10/site-packages/pandas/io/parsers/readers.py?line=675'>676</a>\u001b[0m     defaults\u001b[39m=\u001b[39m{\u001b[39m\"\u001b[39m\u001b[39mdelimiter\u001b[39m\u001b[39m\"\u001b[39m: \u001b[39m\"\u001b[39m\u001b[39m,\u001b[39m\u001b[39m\"\u001b[39m},\n\u001b[1;32m    <a href='file:///Users/jersey/Library/Caches/pypoetry/virtualenvs/analysis-of-r-eldenring-n2W_eMD4-py3.10/lib/python3.10/site-packages/pandas/io/parsers/readers.py?line=676'>677</a>\u001b[0m )\n\u001b[1;32m    <a href='file:///Users/jersey/Library/Caches/pypoetry/virtualenvs/analysis-of-r-eldenring-n2W_eMD4-py3.10/lib/python3.10/site-packages/pandas/io/parsers/readers.py?line=677'>678</a>\u001b[0m kwds\u001b[39m.\u001b[39mupdate(kwds_defaults)\n\u001b[0;32m--> <a href='file:///Users/jersey/Library/Caches/pypoetry/virtualenvs/analysis-of-r-eldenring-n2W_eMD4-py3.10/lib/python3.10/site-packages/pandas/io/parsers/readers.py?line=679'>680</a>\u001b[0m \u001b[39mreturn\u001b[39;00m _read(filepath_or_buffer, kwds)\n",
      "File \u001b[0;32m~/Library/Caches/pypoetry/virtualenvs/analysis-of-r-eldenring-n2W_eMD4-py3.10/lib/python3.10/site-packages/pandas/io/parsers/readers.py:581\u001b[0m, in \u001b[0;36m_read\u001b[0;34m(filepath_or_buffer, kwds)\u001b[0m\n\u001b[1;32m    <a href='file:///Users/jersey/Library/Caches/pypoetry/virtualenvs/analysis-of-r-eldenring-n2W_eMD4-py3.10/lib/python3.10/site-packages/pandas/io/parsers/readers.py?line=577'>578</a>\u001b[0m     \u001b[39mreturn\u001b[39;00m parser\n\u001b[1;32m    <a href='file:///Users/jersey/Library/Caches/pypoetry/virtualenvs/analysis-of-r-eldenring-n2W_eMD4-py3.10/lib/python3.10/site-packages/pandas/io/parsers/readers.py?line=579'>580</a>\u001b[0m \u001b[39mwith\u001b[39;00m parser:\n\u001b[0;32m--> <a href='file:///Users/jersey/Library/Caches/pypoetry/virtualenvs/analysis-of-r-eldenring-n2W_eMD4-py3.10/lib/python3.10/site-packages/pandas/io/parsers/readers.py?line=580'>581</a>\u001b[0m     \u001b[39mreturn\u001b[39;00m parser\u001b[39m.\u001b[39;49mread(nrows)\n",
      "File \u001b[0;32m~/Library/Caches/pypoetry/virtualenvs/analysis-of-r-eldenring-n2W_eMD4-py3.10/lib/python3.10/site-packages/pandas/io/parsers/readers.py:1254\u001b[0m, in \u001b[0;36mTextFileReader.read\u001b[0;34m(self, nrows)\u001b[0m\n\u001b[1;32m   <a href='file:///Users/jersey/Library/Caches/pypoetry/virtualenvs/analysis-of-r-eldenring-n2W_eMD4-py3.10/lib/python3.10/site-packages/pandas/io/parsers/readers.py?line=1251'>1252</a>\u001b[0m nrows \u001b[39m=\u001b[39m validate_integer(\u001b[39m\"\u001b[39m\u001b[39mnrows\u001b[39m\u001b[39m\"\u001b[39m, nrows)\n\u001b[1;32m   <a href='file:///Users/jersey/Library/Caches/pypoetry/virtualenvs/analysis-of-r-eldenring-n2W_eMD4-py3.10/lib/python3.10/site-packages/pandas/io/parsers/readers.py?line=1252'>1253</a>\u001b[0m \u001b[39mtry\u001b[39;00m:\n\u001b[0;32m-> <a href='file:///Users/jersey/Library/Caches/pypoetry/virtualenvs/analysis-of-r-eldenring-n2W_eMD4-py3.10/lib/python3.10/site-packages/pandas/io/parsers/readers.py?line=1253'>1254</a>\u001b[0m     index, columns, col_dict \u001b[39m=\u001b[39m \u001b[39mself\u001b[39;49m\u001b[39m.\u001b[39;49m_engine\u001b[39m.\u001b[39;49mread(nrows)\n\u001b[1;32m   <a href='file:///Users/jersey/Library/Caches/pypoetry/virtualenvs/analysis-of-r-eldenring-n2W_eMD4-py3.10/lib/python3.10/site-packages/pandas/io/parsers/readers.py?line=1254'>1255</a>\u001b[0m \u001b[39mexcept\u001b[39;00m \u001b[39mException\u001b[39;00m:\n\u001b[1;32m   <a href='file:///Users/jersey/Library/Caches/pypoetry/virtualenvs/analysis-of-r-eldenring-n2W_eMD4-py3.10/lib/python3.10/site-packages/pandas/io/parsers/readers.py?line=1255'>1256</a>\u001b[0m     \u001b[39mself\u001b[39m\u001b[39m.\u001b[39mclose()\n",
      "File \u001b[0;32m~/Library/Caches/pypoetry/virtualenvs/analysis-of-r-eldenring-n2W_eMD4-py3.10/lib/python3.10/site-packages/pandas/io/parsers/c_parser_wrapper.py:225\u001b[0m, in \u001b[0;36mCParserWrapper.read\u001b[0;34m(self, nrows)\u001b[0m\n\u001b[1;32m    <a href='file:///Users/jersey/Library/Caches/pypoetry/virtualenvs/analysis-of-r-eldenring-n2W_eMD4-py3.10/lib/python3.10/site-packages/pandas/io/parsers/c_parser_wrapper.py?line=222'>223</a>\u001b[0m \u001b[39mtry\u001b[39;00m:\n\u001b[1;32m    <a href='file:///Users/jersey/Library/Caches/pypoetry/virtualenvs/analysis-of-r-eldenring-n2W_eMD4-py3.10/lib/python3.10/site-packages/pandas/io/parsers/c_parser_wrapper.py?line=223'>224</a>\u001b[0m     \u001b[39mif\u001b[39;00m \u001b[39mself\u001b[39m\u001b[39m.\u001b[39mlow_memory:\n\u001b[0;32m--> <a href='file:///Users/jersey/Library/Caches/pypoetry/virtualenvs/analysis-of-r-eldenring-n2W_eMD4-py3.10/lib/python3.10/site-packages/pandas/io/parsers/c_parser_wrapper.py?line=224'>225</a>\u001b[0m         chunks \u001b[39m=\u001b[39m \u001b[39mself\u001b[39;49m\u001b[39m.\u001b[39;49m_reader\u001b[39m.\u001b[39;49mread_low_memory(nrows)\n\u001b[1;32m    <a href='file:///Users/jersey/Library/Caches/pypoetry/virtualenvs/analysis-of-r-eldenring-n2W_eMD4-py3.10/lib/python3.10/site-packages/pandas/io/parsers/c_parser_wrapper.py?line=225'>226</a>\u001b[0m         \u001b[39m# destructive to chunks\u001b[39;00m\n\u001b[1;32m    <a href='file:///Users/jersey/Library/Caches/pypoetry/virtualenvs/analysis-of-r-eldenring-n2W_eMD4-py3.10/lib/python3.10/site-packages/pandas/io/parsers/c_parser_wrapper.py?line=226'>227</a>\u001b[0m         data \u001b[39m=\u001b[39m _concatenate_chunks(chunks)\n",
      "File \u001b[0;32mpandas/_libs/parsers.pyx:805\u001b[0m, in \u001b[0;36mpandas._libs.parsers.TextReader.read_low_memory\u001b[0;34m()\u001b[0m\n",
      "File \u001b[0;32mpandas/_libs/parsers.pyx:883\u001b[0m, in \u001b[0;36mpandas._libs.parsers.TextReader._read_rows\u001b[0;34m()\u001b[0m\n",
      "File \u001b[0;32mpandas/_libs/parsers.pyx:1026\u001b[0m, in \u001b[0;36mpandas._libs.parsers.TextReader._convert_column_data\u001b[0;34m()\u001b[0m\n",
      "File \u001b[0;32mpandas/_libs/parsers.pyx:1072\u001b[0m, in \u001b[0;36mpandas._libs.parsers.TextReader._convert_tokens\u001b[0;34m()\u001b[0m\n",
      "File \u001b[0;32mpandas/_libs/parsers.pyx:1147\u001b[0m, in \u001b[0;36mpandas._libs.parsers.TextReader._convert_with_dtype\u001b[0;34m()\u001b[0m\n",
      "File \u001b[0;32m~/Library/Caches/pypoetry/virtualenvs/analysis-of-r-eldenring-n2W_eMD4-py3.10/lib/python3.10/site-packages/pandas/core/dtypes/common.py:1429\u001b[0m, in \u001b[0;36mis_extension_array_dtype\u001b[0;34m(arr_or_dtype)\u001b[0m\n\u001b[1;32m   <a href='file:///Users/jersey/Library/Caches/pypoetry/virtualenvs/analysis-of-r-eldenring-n2W_eMD4-py3.10/lib/python3.10/site-packages/pandas/core/dtypes/common.py?line=1419'>1420</a>\u001b[0m     \u001b[39m# Note: if other EA dtypes are ever held in HybridBlock, exclude those\u001b[39;00m\n\u001b[1;32m   <a href='file:///Users/jersey/Library/Caches/pypoetry/virtualenvs/analysis-of-r-eldenring-n2W_eMD4-py3.10/lib/python3.10/site-packages/pandas/core/dtypes/common.py?line=1420'>1421</a>\u001b[0m     \u001b[39m#  here too.\u001b[39;00m\n\u001b[1;32m   <a href='file:///Users/jersey/Library/Caches/pypoetry/virtualenvs/analysis-of-r-eldenring-n2W_eMD4-py3.10/lib/python3.10/site-packages/pandas/core/dtypes/common.py?line=1421'>1422</a>\u001b[0m     \u001b[39m# NB: need to check DatetimeTZDtype and not is_datetime64tz_dtype\u001b[39;00m\n\u001b[1;32m   <a href='file:///Users/jersey/Library/Caches/pypoetry/virtualenvs/analysis-of-r-eldenring-n2W_eMD4-py3.10/lib/python3.10/site-packages/pandas/core/dtypes/common.py?line=1422'>1423</a>\u001b[0m     \u001b[39m#  to exclude ArrowTimestampUSDtype\u001b[39;00m\n\u001b[1;32m   <a href='file:///Users/jersey/Library/Caches/pypoetry/virtualenvs/analysis-of-r-eldenring-n2W_eMD4-py3.10/lib/python3.10/site-packages/pandas/core/dtypes/common.py?line=1423'>1424</a>\u001b[0m     \u001b[39mreturn\u001b[39;00m \u001b[39misinstance\u001b[39m(dtype, ExtensionDtype) \u001b[39mand\u001b[39;00m \u001b[39mnot\u001b[39;00m \u001b[39misinstance\u001b[39m(\n\u001b[1;32m   <a href='file:///Users/jersey/Library/Caches/pypoetry/virtualenvs/analysis-of-r-eldenring-n2W_eMD4-py3.10/lib/python3.10/site-packages/pandas/core/dtypes/common.py?line=1424'>1425</a>\u001b[0m         dtype, (DatetimeTZDtype, PeriodDtype)\n\u001b[1;32m   <a href='file:///Users/jersey/Library/Caches/pypoetry/virtualenvs/analysis-of-r-eldenring-n2W_eMD4-py3.10/lib/python3.10/site-packages/pandas/core/dtypes/common.py?line=1425'>1426</a>\u001b[0m     )\n\u001b[0;32m-> <a href='file:///Users/jersey/Library/Caches/pypoetry/virtualenvs/analysis-of-r-eldenring-n2W_eMD4-py3.10/lib/python3.10/site-packages/pandas/core/dtypes/common.py?line=1428'>1429</a>\u001b[0m \u001b[39mdef\u001b[39;00m \u001b[39mis_extension_array_dtype\u001b[39m(arr_or_dtype) \u001b[39m-\u001b[39m\u001b[39m>\u001b[39m \u001b[39mbool\u001b[39m:\n\u001b[1;32m   <a href='file:///Users/jersey/Library/Caches/pypoetry/virtualenvs/analysis-of-r-eldenring-n2W_eMD4-py3.10/lib/python3.10/site-packages/pandas/core/dtypes/common.py?line=1429'>1430</a>\u001b[0m     \u001b[39m\"\"\"\u001b[39;00m\n\u001b[1;32m   <a href='file:///Users/jersey/Library/Caches/pypoetry/virtualenvs/analysis-of-r-eldenring-n2W_eMD4-py3.10/lib/python3.10/site-packages/pandas/core/dtypes/common.py?line=1430'>1431</a>\u001b[0m \u001b[39m    Check if an object is a pandas extension array type.\u001b[39;00m\n\u001b[1;32m   <a href='file:///Users/jersey/Library/Caches/pypoetry/virtualenvs/analysis-of-r-eldenring-n2W_eMD4-py3.10/lib/python3.10/site-packages/pandas/core/dtypes/common.py?line=1431'>1432</a>\u001b[0m \n\u001b[0;32m   (...)\u001b[0m\n\u001b[1;32m   <a href='file:///Users/jersey/Library/Caches/pypoetry/virtualenvs/analysis-of-r-eldenring-n2W_eMD4-py3.10/lib/python3.10/site-packages/pandas/core/dtypes/common.py?line=1471'>1472</a>\u001b[0m \u001b[39m    False\u001b[39;00m\n\u001b[1;32m   <a href='file:///Users/jersey/Library/Caches/pypoetry/virtualenvs/analysis-of-r-eldenring-n2W_eMD4-py3.10/lib/python3.10/site-packages/pandas/core/dtypes/common.py?line=1472'>1473</a>\u001b[0m \u001b[39m    \"\"\"\u001b[39;00m\n\u001b[1;32m   <a href='file:///Users/jersey/Library/Caches/pypoetry/virtualenvs/analysis-of-r-eldenring-n2W_eMD4-py3.10/lib/python3.10/site-packages/pandas/core/dtypes/common.py?line=1473'>1474</a>\u001b[0m     dtype \u001b[39m=\u001b[39m \u001b[39mgetattr\u001b[39m(arr_or_dtype, \u001b[39m\"\u001b[39m\u001b[39mdtype\u001b[39m\u001b[39m\"\u001b[39m, arr_or_dtype)\n",
      "\u001b[0;31mKeyboardInterrupt\u001b[0m: "
     ]
    }
   ],
   "source": [
    "from matplotlib import pyplot as plt\n",
    "import pandas as pd\n",
    "\n",
    "df = pd.read_csv(\"posts_processed.csv\")\n",
    "\n",
    "df.groupby(\"created_date\").count().plot(y=\"id\",figsize=(16,4))\n"
   ]
  }
 ],
 "metadata": {
  "interpreter": {
   "hash": "54e1aeb505744e311e5873f090d91ec9e4ced6b90ff09b7e9cd6c0d274df0a46"
  },
  "kernelspec": {
   "display_name": "kernel-poetry-eldenring",
   "language": "python",
   "name": "python3"
  },
  "language_info": {
   "codemirror_mode": {
    "name": "ipython",
    "version": 3
   },
   "file_extension": ".py",
   "mimetype": "text/x-python",
   "name": "python",
   "nbconvert_exporter": "python",
   "pygments_lexer": "ipython3",
   "version": "3.10.4"
  },
  "orig_nbformat": 4
 },
 "nbformat": 4,
 "nbformat_minor": 2
}
