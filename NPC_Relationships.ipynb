{
 "cells": [
  {
   "cell_type": "code",
   "execution_count": 1,
   "metadata": {},
   "outputs": [
    {
     "data": {
      "text/plain": [
       "15"
      ]
     },
     "execution_count": 1,
     "metadata": {},
     "output_type": "execute_result"
    }
   ],
   "source": [
    "import pandas as pd\n",
    "\n",
    "df = pd.read_csv(\"posts_processed.csv\")\n",
    "\n",
    "CHARACTERS = [\"ranni\", \"nepheli\", \"blaidd\", \"millicent\", \"melina\", \"radahn\", \"godrick\", \"margit\", \"malenia\", \"pot boy\", \"fia\", \"patches\", \"jorge\", \"torrent\", \"hodir\", \"mimic tear\", \"rya\", \"sellen\", \"alexandar\", \"irina\", \"latenna\", \"bloody wolf\"]\n",
    "ALIAS = {\n",
    "    \"ranni\": [\"ranni\", \"renna\", \"snow witch\"],\n",
    "    \"malenia\": [\"valkyrie\", \"malenia\"],\n",
    "    \"torrent\": [\"yakul\", \"torrent\"],\n",
    "    \"alexandar\": [\"alexandar\", \"alexander\"],\n",
    "    \"bloddy wolf\": [\"bloody wolf\", \"raging wolf\"],\n",
    "}\n",
    "\n",
    "def keyword_match(text, keyword):\n",
    "    if keyword in text:\n",
    "        text_subtracted = text.replace(keyword, \"\")\n",
    "        if len(text_subtracted.split()) == len(text.split()) - len(keyword.split()):\n",
    "            return True\n",
    "    return False\n",
    "\n",
    "rows_with_multi_characters = []\n",
    "for index, row in df.iterrows():\n",
    "    has_character = 0\n",
    "    for character in CHARACTERS:\n",
    "        if character in ALIAS:\n",
    "            for alias in ALIAS[character]:\n",
    "                if keyword_match(row.contents, alias):\n",
    "                    has_character += 1\n",
    "                    break\n",
    "\n",
    "        else:\n",
    "            if keyword_match(row.contents, character):\n",
    "                has_character += 1  \n",
    "                break\n",
    "\n",
    "        if has_character>=2:\n",
    "            rows_with_multi_characters.append(index)\n",
    "            break\n",
    "\n",
    "len(rows_with_multi_characters)\n"
   ]
  },
  {
   "cell_type": "markdown",
   "metadata": {},
   "source": [
    "太少了搞个屁"
   ]
  }
 ],
 "metadata": {
  "interpreter": {
   "hash": "54e1aeb505744e311e5873f090d91ec9e4ced6b90ff09b7e9cd6c0d274df0a46"
  },
  "kernelspec": {
   "display_name": "Python 3.10.4 ('analysis-of-r-eldenring-n2W_eMD4-py3.10')",
   "language": "python",
   "name": "python3"
  },
  "language_info": {
   "codemirror_mode": {
    "name": "ipython",
    "version": 3
   },
   "file_extension": ".py",
   "mimetype": "text/x-python",
   "name": "python",
   "nbconvert_exporter": "python",
   "pygments_lexer": "ipython3",
   "version": "3.10.4"
  },
  "orig_nbformat": 4
 },
 "nbformat": 4,
 "nbformat_minor": 2
}
