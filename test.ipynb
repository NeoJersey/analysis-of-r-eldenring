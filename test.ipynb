{
 "cells": [
  {
   "cell_type": "code",
   "execution_count": 1,
   "metadata": {},
   "outputs": [],
   "source": [
    "import requests\n",
    "import bs4 as bs\n",
    "from psaw import PushshiftAPI\n",
    "import datetime as dt\n",
    "import pandas as pd\n",
    "\n",
    "api = PushshiftAPI()\n",
    "\n",
    "BEFORE = int(dt.datetime(2022, 3, 26).timestamp())\n",
    "AFTER = int(dt.datetime(2019, 1, 1).timestamp())"
   ]
  },
  {
   "cell_type": "code",
   "execution_count": 53,
   "metadata": {},
   "outputs": [
    {
     "data": {
      "text/plain": [
       "1648249200"
      ]
     },
     "execution_count": 53,
     "metadata": {},
     "output_type": "execute_result"
    }
   ],
   "source": [
    "BEFORE"
   ]
  },
  {
   "cell_type": "code",
   "execution_count": 2,
   "metadata": {},
   "outputs": [
    {
     "data": {
      "text/plain": [
       "[(1546297200, 1556492400),\n",
       " (1556492400, 1566687600),\n",
       " (1566687600, 1576882800),\n",
       " (1576882800, 1587078000),\n",
       " (1587078000, 1597273200),\n",
       " (1597273200, 1607468400),\n",
       " (1607468400, 1617663600),\n",
       " (1617663600, 1627858800),\n",
       " (1627858800, 1638054000),\n",
       " (1638054000, 1648249200)]"
      ]
     },
     "execution_count": 2,
     "metadata": {},
     "output_type": "execute_result"
    }
   ],
   "source": [
    "n = 10\n",
    "distance = int((BEFORE-AFTER)/n)\n",
    "intervals = [AFTER + i*distance for i in range(n)]\n",
    "# intervals.append(BEFORE)\n",
    "\n",
    "B_A_pairs = [(i, i+distance) for i in intervals]\n",
    "B_A_pairs"
   ]
  },
  {
   "cell_type": "code",
   "execution_count": 54,
   "metadata": {},
   "outputs": [
    {
     "data": {
      "text/plain": [
       "[1, 2, 3]"
      ]
     },
     "execution_count": 54,
     "metadata": {},
     "output_type": "execute_result"
    }
   ],
   "source": [
    "a = [1,2]\n",
    "a.append(3)\n",
    "a"
   ]
  },
  {
   "cell_type": "code",
   "execution_count": 19,
   "metadata": {},
   "outputs": [],
   "source": [
    "posts = list(api.search_submissions(\n",
    "    subreddit = \"eldenring\",\n",
    "    before = BEFORE,\n",
    "    after = 1648059051,\n",
    "    filter = [\n",
    "        \"id\", \n",
    "        \"author\", \n",
    "        \"created_utc\", \n",
    "        \"url\", # urls starts with https://i.redd.it/ has pictures\n",
    "        \"full_link\", # https://reddit.com/<url>\n",
    "        \"title\",\n",
    "        \"selftext\", # content of post\n",
    "        \"upvote_ratio\",\n",
    "        \"num_comments\",\n",
    "        \"score\" # number of upvotes?\n",
    "        ],\n",
    "    # limit = 200,\n",
    "))\n",
    "\n",
    "df = pd.DataFrame(posts)\n",
    "df.to_csv(\"posts_later.csv\", index=None)\n",
    "# df.to_clipboard()"
   ]
  },
  {
   "cell_type": "code",
   "execution_count": 9,
   "metadata": {},
   "outputs": [
    {
     "name": "stderr",
     "output_type": "stream",
     "text": [
      "/var/folders/c3/kx181pz56w1b4srjcjx18y1c0000gn/T/ipykernel_89172/436495287.py:1: DtypeWarning: Columns (9,11) have mixed types. Specify dtype option on import or set low_memory=False.\n",
      "  posts_df = pd.read_csv(\"posts.csv\")\n"
     ]
    },
    {
     "data": {
      "text/html": [
       "<div>\n",
       "<style scoped>\n",
       "    .dataframe tbody tr th:only-of-type {\n",
       "        vertical-align: middle;\n",
       "    }\n",
       "\n",
       "    .dataframe tbody tr th {\n",
       "        vertical-align: top;\n",
       "    }\n",
       "\n",
       "    .dataframe thead th {\n",
       "        text-align: right;\n",
       "    }\n",
       "</style>\n",
       "<table border=\"1\" class=\"dataframe\">\n",
       "  <thead>\n",
       "    <tr style=\"text-align: right;\">\n",
       "      <th></th>\n",
       "      <th>Unnamed: 0</th>\n",
       "      <th>author</th>\n",
       "      <th>created_utc</th>\n",
       "      <th>full_link</th>\n",
       "      <th>id</th>\n",
       "      <th>num_comments</th>\n",
       "      <th>score</th>\n",
       "      <th>thumbnail</th>\n",
       "      <th>title</th>\n",
       "      <th>upvote_ratio</th>\n",
       "      <th>url</th>\n",
       "      <th>created</th>\n",
       "      <th>d_</th>\n",
       "    </tr>\n",
       "  </thead>\n",
       "  <tbody>\n",
       "    <tr>\n",
       "      <th>0</th>\n",
       "      <td>0</td>\n",
       "      <td>Us3l3ssZ3D</td>\n",
       "      <td>1648059051</td>\n",
       "      <td>https://www.reddit.com/r/Eldenring/comments/tl...</td>\n",
       "      <td>tl4xj3</td>\n",
       "      <td>0</td>\n",
       "      <td>1</td>\n",
       "      <td>self</td>\n",
       "      <td>Question on how to make my Weapon Stronger</td>\n",
       "      <td>1.0</td>\n",
       "      <td>https://www.reddit.com/r/Eldenring/comments/tl...</td>\n",
       "      <td>1648055451.0</td>\n",
       "      <td>{'author': 'Us3l3ssZ3D', 'created_utc': 164805...</td>\n",
       "    </tr>\n",
       "    <tr>\n",
       "      <th>1</th>\n",
       "      <td>1</td>\n",
       "      <td>Key-College-4290</td>\n",
       "      <td>1648059048</td>\n",
       "      <td>https://www.reddit.com/r/Eldenring/comments/tl...</td>\n",
       "      <td>tl4xd9</td>\n",
       "      <td>0</td>\n",
       "      <td>1</td>\n",
       "      <td>self</td>\n",
       "      <td>Anyone else get bored after they get to mounta...</td>\n",
       "      <td>1.0</td>\n",
       "      <td>https://www.reddit.com/r/Eldenring/comments/tl...</td>\n",
       "      <td>1648055448.0</td>\n",
       "      <td>{'author': 'Key-College-4290', 'created_utc': ...</td>\n",
       "    </tr>\n",
       "    <tr>\n",
       "      <th>2</th>\n",
       "      <td>2</td>\n",
       "      <td>Zoiwillxxx</td>\n",
       "      <td>1648059039</td>\n",
       "      <td>https://www.reddit.com/r/Eldenring/comments/tl...</td>\n",
       "      <td>tl4wvb</td>\n",
       "      <td>0</td>\n",
       "      <td>1</td>\n",
       "      <td>https://a.thumbs.redditmedia.com/4Ptpw2_r2JQDM...</td>\n",
       "      <td>Welcome champions, to the Radahn Festival!!!</td>\n",
       "      <td>1.0</td>\n",
       "      <td>https://i.redd.it/607ofk61c6p81.jpg</td>\n",
       "      <td>1648055439.0</td>\n",
       "      <td>{'author': 'Zoiwillxxx', 'created_utc': 164805...</td>\n",
       "    </tr>\n",
       "    <tr>\n",
       "      <th>3</th>\n",
       "      <td>3</td>\n",
       "      <td>LuneMiester</td>\n",
       "      <td>1648059036</td>\n",
       "      <td>https://www.reddit.com/r/Eldenring/comments/tl...</td>\n",
       "      <td>tl4wpl</td>\n",
       "      <td>0</td>\n",
       "      <td>1</td>\n",
       "      <td>self</td>\n",
       "      <td>Can’t find player I invaded now I’m stuck</td>\n",
       "      <td>1.0</td>\n",
       "      <td>https://www.reddit.com/r/Eldenring/comments/tl...</td>\n",
       "      <td>1648055436.0</td>\n",
       "      <td>{'author': 'LuneMiester', 'created_utc': 16480...</td>\n",
       "    </tr>\n",
       "    <tr>\n",
       "      <th>4</th>\n",
       "      <td>4</td>\n",
       "      <td>Epickartoffelz</td>\n",
       "      <td>1648058994</td>\n",
       "      <td>https://www.reddit.com/r/Eldenring/comments/tl...</td>\n",
       "      <td>tl4vt6</td>\n",
       "      <td>0</td>\n",
       "      <td>1</td>\n",
       "      <td>https://b.thumbs.redditmedia.com/PT5SacNXCW4Hf...</td>\n",
       "      <td>:’)</td>\n",
       "      <td>1.0</td>\n",
       "      <td>https://i.redd.it/21h38yc0c6p81.jpg</td>\n",
       "      <td>1648055394.0</td>\n",
       "      <td>{'author': 'Epickartoffelz', 'created_utc': 16...</td>\n",
       "    </tr>\n",
       "  </tbody>\n",
       "</table>\n",
       "</div>"
      ],
      "text/plain": [
       "   Unnamed: 0            author  created_utc  \\\n",
       "0           0        Us3l3ssZ3D   1648059051   \n",
       "1           1  Key-College-4290   1648059048   \n",
       "2           2        Zoiwillxxx   1648059039   \n",
       "3           3       LuneMiester   1648059036   \n",
       "4           4    Epickartoffelz   1648058994   \n",
       "\n",
       "                                           full_link      id  num_comments  \\\n",
       "0  https://www.reddit.com/r/Eldenring/comments/tl...  tl4xj3             0   \n",
       "1  https://www.reddit.com/r/Eldenring/comments/tl...  tl4xd9             0   \n",
       "2  https://www.reddit.com/r/Eldenring/comments/tl...  tl4wvb             0   \n",
       "3  https://www.reddit.com/r/Eldenring/comments/tl...  tl4wpl             0   \n",
       "4  https://www.reddit.com/r/Eldenring/comments/tl...  tl4vt6             0   \n",
       "\n",
       "   score                                          thumbnail  \\\n",
       "0      1                                               self   \n",
       "1      1                                               self   \n",
       "2      1  https://a.thumbs.redditmedia.com/4Ptpw2_r2JQDM...   \n",
       "3      1                                               self   \n",
       "4      1  https://b.thumbs.redditmedia.com/PT5SacNXCW4Hf...   \n",
       "\n",
       "                                               title upvote_ratio  \\\n",
       "0         Question on how to make my Weapon Stronger          1.0   \n",
       "1  Anyone else get bored after they get to mounta...          1.0   \n",
       "2       Welcome champions, to the Radahn Festival!!!          1.0   \n",
       "3          Can’t find player I invaded now I’m stuck          1.0   \n",
       "4                                                :’)          1.0   \n",
       "\n",
       "                                                 url       created  \\\n",
       "0  https://www.reddit.com/r/Eldenring/comments/tl...  1648055451.0   \n",
       "1  https://www.reddit.com/r/Eldenring/comments/tl...  1648055448.0   \n",
       "2                https://i.redd.it/607ofk61c6p81.jpg  1648055439.0   \n",
       "3  https://www.reddit.com/r/Eldenring/comments/tl...  1648055436.0   \n",
       "4                https://i.redd.it/21h38yc0c6p81.jpg  1648055394.0   \n",
       "\n",
       "                                                  d_  \n",
       "0  {'author': 'Us3l3ssZ3D', 'created_utc': 164805...  \n",
       "1  {'author': 'Key-College-4290', 'created_utc': ...  \n",
       "2  {'author': 'Zoiwillxxx', 'created_utc': 164805...  \n",
       "3  {'author': 'LuneMiester', 'created_utc': 16480...  \n",
       "4  {'author': 'Epickartoffelz', 'created_utc': 16...  "
      ]
     },
     "execution_count": 9,
     "metadata": {},
     "output_type": "execute_result"
    }
   ],
   "source": [
    "\n",
    "posts_df = pd.read_csv(\"posts.csv\")\n",
    "comments_df = pd.read_csv(\"comments.csv\")\n",
    "posts_df.head()"
   ]
  },
  {
   "cell_type": "code",
   "execution_count": 23,
   "metadata": {},
   "outputs": [
    {
     "data": {
      "text/html": [
       "<div>\n",
       "<style scoped>\n",
       "    .dataframe tbody tr th:only-of-type {\n",
       "        vertical-align: middle;\n",
       "    }\n",
       "\n",
       "    .dataframe tbody tr th {\n",
       "        vertical-align: top;\n",
       "    }\n",
       "\n",
       "    .dataframe thead th {\n",
       "        text-align: right;\n",
       "    }\n",
       "</style>\n",
       "<table border=\"1\" class=\"dataframe\">\n",
       "  <thead>\n",
       "    <tr style=\"text-align: right;\">\n",
       "      <th></th>\n",
       "      <th>Unnamed: 0</th>\n",
       "      <th>author</th>\n",
       "      <th>created_utc</th>\n",
       "      <th>id</th>\n",
       "      <th>permalink</th>\n",
       "      <th>score</th>\n",
       "      <th>selftext</th>\n",
       "      <th>title</th>\n",
       "      <th>created</th>\n",
       "      <th>d_</th>\n",
       "    </tr>\n",
       "  </thead>\n",
       "  <tbody>\n",
       "    <tr>\n",
       "      <th>0</th>\n",
       "      <td>0</td>\n",
       "      <td>JordanJames__</td>\n",
       "      <td>1648078335</td>\n",
       "      <td>tllean</td>\n",
       "      <td>/r/Eldenring/comments/tllean/to_those_hackers/</td>\n",
       "      <td>1</td>\n",
       "      <td>Thanks for ruining the Elden Ring experience f...</td>\n",
       "      <td>To THOSE hackers… ❌</td>\n",
       "      <td>1648074735.0</td>\n",
       "      <td>{'author': 'JordanJames__', 'created_utc': 164...</td>\n",
       "    </tr>\n",
       "    <tr>\n",
       "      <th>1</th>\n",
       "      <td>1</td>\n",
       "      <td>oneethan</td>\n",
       "      <td>1648078334</td>\n",
       "      <td>tlle8s</td>\n",
       "      <td>/r/Eldenring/comments/tlle8s/opinion_of_respec...</td>\n",
       "      <td>1</td>\n",
       "      <td>im about halfway through the game ( just befor...</td>\n",
       "      <td>opinion of respecing into arcane</td>\n",
       "      <td>1648074734.0</td>\n",
       "      <td>{'author': 'oneethan', 'created_utc': 16480783...</td>\n",
       "    </tr>\n",
       "    <tr>\n",
       "      <th>2</th>\n",
       "      <td>2</td>\n",
       "      <td>ElPolloLoco391</td>\n",
       "      <td>1648078321</td>\n",
       "      <td>tlldja</td>\n",
       "      <td>/r/Eldenring/comments/tlldja/was_this_suppose_...</td>\n",
       "      <td>1</td>\n",
       "      <td>NaN</td>\n",
       "      <td>Was this suppose happen ?</td>\n",
       "      <td>1648074721.0</td>\n",
       "      <td>{'author': 'ElPolloLoco391', 'created_utc': 16...</td>\n",
       "    </tr>\n",
       "    <tr>\n",
       "      <th>3</th>\n",
       "      <td>3</td>\n",
       "      <td>farron__keep</td>\n",
       "      <td>1648078320</td>\n",
       "      <td>tlldhs</td>\n",
       "      <td>/r/Eldenring/comments/tlldhs/melina_and_millic...</td>\n",
       "      <td>1</td>\n",
       "      <td>spoilers for millicent's questline &amp;amp; frenz...</td>\n",
       "      <td>melina and millicent</td>\n",
       "      <td>1648074720.0</td>\n",
       "      <td>{'author': 'farron__keep', 'created_utc': 1648...</td>\n",
       "    </tr>\n",
       "    <tr>\n",
       "      <th>4</th>\n",
       "      <td>4</td>\n",
       "      <td>SadLittleWizard</td>\n",
       "      <td>1648078319</td>\n",
       "      <td>tlldfk</td>\n",
       "      <td>/r/Eldenring/comments/tlldfk/i_did_a_thing/</td>\n",
       "      <td>1</td>\n",
       "      <td>NaN</td>\n",
       "      <td>I did a thing</td>\n",
       "      <td>1648074719.0</td>\n",
       "      <td>{'author': 'SadLittleWizard', 'created_utc': 1...</td>\n",
       "    </tr>\n",
       "  </tbody>\n",
       "</table>\n",
       "</div>"
      ],
      "text/plain": [
       "   Unnamed: 0           author  created_utc      id  \\\n",
       "0           0    JordanJames__   1648078335  tllean   \n",
       "1           1         oneethan   1648078334  tlle8s   \n",
       "2           2   ElPolloLoco391   1648078321  tlldja   \n",
       "3           3     farron__keep   1648078320  tlldhs   \n",
       "4           4  SadLittleWizard   1648078319  tlldfk   \n",
       "\n",
       "                                           permalink  score  \\\n",
       "0     /r/Eldenring/comments/tllean/to_those_hackers/      1   \n",
       "1  /r/Eldenring/comments/tlle8s/opinion_of_respec...      1   \n",
       "2  /r/Eldenring/comments/tlldja/was_this_suppose_...      1   \n",
       "3  /r/Eldenring/comments/tlldhs/melina_and_millic...      1   \n",
       "4        /r/Eldenring/comments/tlldfk/i_did_a_thing/      1   \n",
       "\n",
       "                                            selftext  \\\n",
       "0  Thanks for ruining the Elden Ring experience f...   \n",
       "1  im about halfway through the game ( just befor...   \n",
       "2                                                NaN   \n",
       "3  spoilers for millicent's questline &amp; frenz...   \n",
       "4                                                NaN   \n",
       "\n",
       "                              title       created  \\\n",
       "0               To THOSE hackers… ❌  1648074735.0   \n",
       "1  opinion of respecing into arcane  1648074734.0   \n",
       "2         Was this suppose happen ?  1648074721.0   \n",
       "3              melina and millicent  1648074720.0   \n",
       "4                     I did a thing  1648074719.0   \n",
       "\n",
       "                                                  d_  \n",
       "0  {'author': 'JordanJames__', 'created_utc': 164...  \n",
       "1  {'author': 'oneethan', 'created_utc': 16480783...  \n",
       "2  {'author': 'ElPolloLoco391', 'created_utc': 16...  \n",
       "3  {'author': 'farron__keep', 'created_utc': 1648...  \n",
       "4  {'author': 'SadLittleWizard', 'created_utc': 1...  "
      ]
     },
     "execution_count": 23,
     "metadata": {},
     "output_type": "execute_result"
    }
   ],
   "source": [
    "comments_df.head()"
   ]
  },
  {
   "cell_type": "code",
   "execution_count": 31,
   "metadata": {},
   "outputs": [
    {
     "data": {
      "text/plain": [
       "Index(['Unnamed: 0', 'author', 'created_utc', 'full_link', 'id',\n",
       "       'num_comments', 'score', 'thumbnail', 'title', 'upvote_ratio', 'url',\n",
       "       'created', 'd_', 'Unnamed: 0_c', 'author_c', 'created_utc_c',\n",
       "       'permalink', 'score_c', 'selftext', 'title_c', 'created_c', 'd__c'],\n",
       "      dtype='object')"
      ]
     },
     "execution_count": 31,
     "metadata": {},
     "output_type": "execute_result"
    }
   ],
   "source": [
    "filter = [\n",
    "        \"id\", \n",
    "        \"author\", \n",
    "        \"created_utc\", \n",
    "        \"url\", # urls starts with https://i.redd.it/ has pictures\n",
    "        \"full_link\", # https://reddit.com/<url>\n",
    "        \"title\",\n",
    "        \"selftext\", # content of post\n",
    "        \"upvote_ratio\",\n",
    "        \"num_comments\",\n",
    "        \"score\" # number of upvotes?\n",
    "        ]\n",
    "# posts_pre = posts_df.join(comments_df.set_index(\"id\"), how=\"left\", on=\"id\", rsuffix=\"_c\")\n",
    "posts_pre.columns\n"
   ]
  },
  {
   "cell_type": "code",
   "execution_count": 37,
   "metadata": {},
   "outputs": [
    {
     "data": {
      "text/plain": [
       "360394"
      ]
     },
     "execution_count": 37,
     "metadata": {},
     "output_type": "execute_result"
    }
   ],
   "source": [
    "len(posts_df)"
   ]
  },
  {
   "cell_type": "code",
   "execution_count": 33,
   "metadata": {},
   "outputs": [],
   "source": [
    "posts_pre = posts_pre[filter]"
   ]
  },
  {
   "cell_type": "code",
   "execution_count": 38,
   "metadata": {},
   "outputs": [
    {
     "name": "stderr",
     "output_type": "stream",
     "text": [
      "/var/folders/c3/kx181pz56w1b4srjcjx18y1c0000gn/T/ipykernel_89172/4011661051.py:1: FutureWarning: The frame.append method is deprecated and will be removed from pandas in a future version. Use pandas.concat instead.\n",
      "  posts = posts_pre.append(df)\n"
     ]
    }
   ],
   "source": [
    "posts = posts_pre.append(df)"
   ]
  },
  {
   "cell_type": "code",
   "execution_count": 41,
   "metadata": {},
   "outputs": [],
   "source": [
    "posts.to_csv(\"posts.csv\", index=None)"
   ]
  },
  {
   "cell_type": "code",
   "execution_count": 10,
   "metadata": {},
   "outputs": [
    {
     "data": {
      "text/html": [
       "<div>\n",
       "<style scoped>\n",
       "    .dataframe tbody tr th:only-of-type {\n",
       "        vertical-align: middle;\n",
       "    }\n",
       "\n",
       "    .dataframe tbody tr th {\n",
       "        vertical-align: top;\n",
       "    }\n",
       "\n",
       "    .dataframe thead th {\n",
       "        text-align: right;\n",
       "    }\n",
       "</style>\n",
       "<table border=\"1\" class=\"dataframe\">\n",
       "  <thead>\n",
       "    <tr style=\"text-align: right;\">\n",
       "      <th></th>\n",
       "      <th>Unnamed: 0</th>\n",
       "      <th>author</th>\n",
       "      <th>created_utc</th>\n",
       "      <th>id</th>\n",
       "      <th>permalink</th>\n",
       "      <th>score</th>\n",
       "      <th>selftext</th>\n",
       "      <th>title</th>\n",
       "      <th>created</th>\n",
       "      <th>d_</th>\n",
       "    </tr>\n",
       "  </thead>\n",
       "  <tbody>\n",
       "    <tr>\n",
       "      <th>0</th>\n",
       "      <td>0</td>\n",
       "      <td>JordanJames__</td>\n",
       "      <td>1648078335</td>\n",
       "      <td>tllean</td>\n",
       "      <td>/r/Eldenring/comments/tllean/to_those_hackers/</td>\n",
       "      <td>1</td>\n",
       "      <td>Thanks for ruining the Elden Ring experience f...</td>\n",
       "      <td>To THOSE hackers… ❌</td>\n",
       "      <td>1648074735.0</td>\n",
       "      <td>{'author': 'JordanJames__', 'created_utc': 164...</td>\n",
       "    </tr>\n",
       "    <tr>\n",
       "      <th>1</th>\n",
       "      <td>1</td>\n",
       "      <td>oneethan</td>\n",
       "      <td>1648078334</td>\n",
       "      <td>tlle8s</td>\n",
       "      <td>/r/Eldenring/comments/tlle8s/opinion_of_respec...</td>\n",
       "      <td>1</td>\n",
       "      <td>im about halfway through the game ( just befor...</td>\n",
       "      <td>opinion of respecing into arcane</td>\n",
       "      <td>1648074734.0</td>\n",
       "      <td>{'author': 'oneethan', 'created_utc': 16480783...</td>\n",
       "    </tr>\n",
       "    <tr>\n",
       "      <th>2</th>\n",
       "      <td>2</td>\n",
       "      <td>ElPolloLoco391</td>\n",
       "      <td>1648078321</td>\n",
       "      <td>tlldja</td>\n",
       "      <td>/r/Eldenring/comments/tlldja/was_this_suppose_...</td>\n",
       "      <td>1</td>\n",
       "      <td>NaN</td>\n",
       "      <td>Was this suppose happen ?</td>\n",
       "      <td>1648074721.0</td>\n",
       "      <td>{'author': 'ElPolloLoco391', 'created_utc': 16...</td>\n",
       "    </tr>\n",
       "    <tr>\n",
       "      <th>3</th>\n",
       "      <td>3</td>\n",
       "      <td>farron__keep</td>\n",
       "      <td>1648078320</td>\n",
       "      <td>tlldhs</td>\n",
       "      <td>/r/Eldenring/comments/tlldhs/melina_and_millic...</td>\n",
       "      <td>1</td>\n",
       "      <td>spoilers for millicent's questline &amp;amp; frenz...</td>\n",
       "      <td>melina and millicent</td>\n",
       "      <td>1648074720.0</td>\n",
       "      <td>{'author': 'farron__keep', 'created_utc': 1648...</td>\n",
       "    </tr>\n",
       "    <tr>\n",
       "      <th>4</th>\n",
       "      <td>4</td>\n",
       "      <td>SadLittleWizard</td>\n",
       "      <td>1648078319</td>\n",
       "      <td>tlldfk</td>\n",
       "      <td>/r/Eldenring/comments/tlldfk/i_did_a_thing/</td>\n",
       "      <td>1</td>\n",
       "      <td>NaN</td>\n",
       "      <td>I did a thing</td>\n",
       "      <td>1648074719.0</td>\n",
       "      <td>{'author': 'SadLittleWizard', 'created_utc': 1...</td>\n",
       "    </tr>\n",
       "  </tbody>\n",
       "</table>\n",
       "</div>"
      ],
      "text/plain": [
       "   Unnamed: 0           author  created_utc      id  \\\n",
       "0           0    JordanJames__   1648078335  tllean   \n",
       "1           1         oneethan   1648078334  tlle8s   \n",
       "2           2   ElPolloLoco391   1648078321  tlldja   \n",
       "3           3     farron__keep   1648078320  tlldhs   \n",
       "4           4  SadLittleWizard   1648078319  tlldfk   \n",
       "\n",
       "                                           permalink  score  \\\n",
       "0     /r/Eldenring/comments/tllean/to_those_hackers/      1   \n",
       "1  /r/Eldenring/comments/tlle8s/opinion_of_respec...      1   \n",
       "2  /r/Eldenring/comments/tlldja/was_this_suppose_...      1   \n",
       "3  /r/Eldenring/comments/tlldhs/melina_and_millic...      1   \n",
       "4        /r/Eldenring/comments/tlldfk/i_did_a_thing/      1   \n",
       "\n",
       "                                            selftext  \\\n",
       "0  Thanks for ruining the Elden Ring experience f...   \n",
       "1  im about halfway through the game ( just befor...   \n",
       "2                                                NaN   \n",
       "3  spoilers for millicent's questline &amp; frenz...   \n",
       "4                                                NaN   \n",
       "\n",
       "                              title       created  \\\n",
       "0               To THOSE hackers… ❌  1648074735.0   \n",
       "1  opinion of respecing into arcane  1648074734.0   \n",
       "2         Was this suppose happen ?  1648074721.0   \n",
       "3              melina and millicent  1648074720.0   \n",
       "4                     I did a thing  1648074719.0   \n",
       "\n",
       "                                                  d_  \n",
       "0  {'author': 'JordanJames__', 'created_utc': 164...  \n",
       "1  {'author': 'oneethan', 'created_utc': 16480783...  \n",
       "2  {'author': 'ElPolloLoco391', 'created_utc': 16...  \n",
       "3  {'author': 'farron__keep', 'created_utc': 1648...  \n",
       "4  {'author': 'SadLittleWizard', 'created_utc': 1...  "
      ]
     },
     "execution_count": 10,
     "metadata": {},
     "output_type": "execute_result"
    }
   ],
   "source": [
    "comments_df.head()"
   ]
  },
  {
   "cell_type": "code",
   "execution_count": 20,
   "metadata": {},
   "outputs": [
    {
     "data": {
      "text/plain": [
       "1648249189"
      ]
     },
     "execution_count": 20,
     "metadata": {},
     "output_type": "execute_result"
    }
   ],
   "source": [
    "max(df[\"created_utc\"])"
   ]
  },
  {
   "cell_type": "code",
   "execution_count": 58,
   "metadata": {},
   "outputs": [
    {
     "data": {
      "text/plain": [
       "1546297200"
      ]
     },
     "execution_count": 58,
     "metadata": {},
     "output_type": "execute_result"
    }
   ],
   "source": [
    "B_A_pairs[0][0]"
   ]
  },
  {
   "cell_type": "code",
   "execution_count": 3,
   "metadata": {},
   "outputs": [
    {
     "name": "stderr",
     "output_type": "stream",
     "text": [
      "/Users/jersey/Library/Caches/pypoetry/virtualenvs/analysis-of-r-eldenring-n2W_eMD4-py3.8/lib/python3.8/site-packages/psaw/PushshiftAPI.py:252: UserWarning: Not all PushShift shards are active. Query results may be incomplete\n",
      "  warnings.warn(shards_down_message)\n"
     ]
    },
    {
     "name": "stdout",
     "output_type": "stream",
     "text": [
      "(1546297200, 1556492400) is finished!\n",
      "(1556492400, 1566687600) is finished!\n"
     ]
    },
    {
     "name": "stderr",
     "output_type": "stream",
     "text": [
      "/Users/jersey/Library/Caches/pypoetry/virtualenvs/analysis-of-r-eldenring-n2W_eMD4-py3.8/lib/python3.8/site-packages/psaw/PushshiftAPI.py:252: UserWarning: Not all PushShift shards are active. Query results may be incomplete\n",
      "  warnings.warn(shards_down_message)\n"
     ]
    },
    {
     "name": "stdout",
     "output_type": "stream",
     "text": [
      "(1566687600, 1576882800) is finished!\n"
     ]
    },
    {
     "name": "stderr",
     "output_type": "stream",
     "text": [
      "/Users/jersey/Library/Caches/pypoetry/virtualenvs/analysis-of-r-eldenring-n2W_eMD4-py3.8/lib/python3.8/site-packages/psaw/PushshiftAPI.py:252: UserWarning: Not all PushShift shards are active. Query results may be incomplete\n",
      "  warnings.warn(shards_down_message)\n"
     ]
    },
    {
     "name": "stdout",
     "output_type": "stream",
     "text": [
      "(1576882800, 1587078000) is finished!\n"
     ]
    },
    {
     "name": "stderr",
     "output_type": "stream",
     "text": [
      "/Users/jersey/Library/Caches/pypoetry/virtualenvs/analysis-of-r-eldenring-n2W_eMD4-py3.8/lib/python3.8/site-packages/psaw/PushshiftAPI.py:252: UserWarning: Not all PushShift shards are active. Query results may be incomplete\n",
      "  warnings.warn(shards_down_message)\n",
      "/Users/jersey/Library/Caches/pypoetry/virtualenvs/analysis-of-r-eldenring-n2W_eMD4-py3.8/lib/python3.8/site-packages/psaw/PushshiftAPI.py:192: UserWarning: Got non 200 code 525\n",
      "  warnings.warn(\"Got non 200 code %s\" % response.status_code)\n",
      "/Users/jersey/Library/Caches/pypoetry/virtualenvs/analysis-of-r-eldenring-n2W_eMD4-py3.8/lib/python3.8/site-packages/psaw/PushshiftAPI.py:180: UserWarning: Unable to connect to pushshift.io. Retrying after backoff.\n",
      "  warnings.warn(\"Unable to connect to pushshift.io. Retrying after backoff.\")\n"
     ]
    },
    {
     "name": "stdout",
     "output_type": "stream",
     "text": [
      "(1587078000, 1597273200) is finished!\n"
     ]
    },
    {
     "name": "stderr",
     "output_type": "stream",
     "text": [
      "/Users/jersey/Library/Caches/pypoetry/virtualenvs/analysis-of-r-eldenring-n2W_eMD4-py3.8/lib/python3.8/site-packages/psaw/PushshiftAPI.py:252: UserWarning: Not all PushShift shards are active. Query results may be incomplete\n",
      "  warnings.warn(shards_down_message)\n",
      "/Users/jersey/Library/Caches/pypoetry/virtualenvs/analysis-of-r-eldenring-n2W_eMD4-py3.8/lib/python3.8/site-packages/psaw/PushshiftAPI.py:192: UserWarning: Got non 200 code 502\n",
      "  warnings.warn(\"Got non 200 code %s\" % response.status_code)\n",
      "/Users/jersey/Library/Caches/pypoetry/virtualenvs/analysis-of-r-eldenring-n2W_eMD4-py3.8/lib/python3.8/site-packages/psaw/PushshiftAPI.py:180: UserWarning: Unable to connect to pushshift.io. Retrying after backoff.\n",
      "  warnings.warn(\"Unable to connect to pushshift.io. Retrying after backoff.\")\n",
      "/Users/jersey/Library/Caches/pypoetry/virtualenvs/analysis-of-r-eldenring-n2W_eMD4-py3.8/lib/python3.8/site-packages/psaw/PushshiftAPI.py:192: UserWarning: Got non 200 code 525\n",
      "  warnings.warn(\"Got non 200 code %s\" % response.status_code)\n"
     ]
    },
    {
     "name": "stdout",
     "output_type": "stream",
     "text": [
      "(1597273200, 1607468400) is finished!\n"
     ]
    },
    {
     "name": "stderr",
     "output_type": "stream",
     "text": [
      "/Users/jersey/Library/Caches/pypoetry/virtualenvs/analysis-of-r-eldenring-n2W_eMD4-py3.8/lib/python3.8/site-packages/psaw/PushshiftAPI.py:192: UserWarning: Got non 200 code 522\n",
      "  warnings.warn(\"Got non 200 code %s\" % response.status_code)\n",
      "/Users/jersey/Library/Caches/pypoetry/virtualenvs/analysis-of-r-eldenring-n2W_eMD4-py3.8/lib/python3.8/site-packages/psaw/PushshiftAPI.py:180: UserWarning: Unable to connect to pushshift.io. Retrying after backoff.\n",
      "  warnings.warn(\"Unable to connect to pushshift.io. Retrying after backoff.\")\n"
     ]
    },
    {
     "name": "stdout",
     "output_type": "stream",
     "text": [
      "(1607468400, 1617663600)\n"
     ]
    },
    {
     "name": "stderr",
     "output_type": "stream",
     "text": [
      "/Users/jersey/Library/Caches/pypoetry/virtualenvs/analysis-of-r-eldenring-n2W_eMD4-py3.8/lib/python3.8/site-packages/psaw/PushshiftAPI.py:192: UserWarning: Got non 200 code 502\n",
      "  warnings.warn(\"Got non 200 code %s\" % response.status_code)\n"
     ]
    },
    {
     "name": "stdout",
     "output_type": "stream",
     "text": [
      "(1617663600, 1627858800)\n",
      "(1627858800, 1638054000)\n"
     ]
    },
    {
     "name": "stderr",
     "output_type": "stream",
     "text": [
      "/Users/jersey/Library/Caches/pypoetry/virtualenvs/analysis-of-r-eldenring-n2W_eMD4-py3.8/lib/python3.8/site-packages/psaw/PushshiftAPI.py:192: UserWarning: Got non 200 code 524\n",
      "  warnings.warn(\"Got non 200 code %s\" % response.status_code)\n"
     ]
    },
    {
     "name": "stdout",
     "output_type": "stream",
     "text": [
      "(1638054000, 1648249200)\n"
     ]
    }
   ],
   "source": [
    "for i in B_A_pairs:\n",
    "    try:\n",
    "        comments = list(api.search_comments(\n",
    "        subreddit = \"eldenring\",\n",
    "        before = i[1],\n",
    "        after = i[0],\n",
    "        filter = [\n",
    "            \"id\", \n",
    "            \"author\", \n",
    "            \"created_utc\", \n",
    "            \"permalink\", # https://reddit.com/<url>\n",
    "            \"body\",\n",
    "            \"score\", # number of upvotes?\n",
    "            ],\n",
    "        # limit =1,\n",
    "        ))\n",
    "        df = pd.DataFrame(comments)\n",
    "        df.to_csv(f\"comments_after_{i[0]}.csv\")\n",
    "\n",
    "        print(f\"{i} is finished!\")\n",
    "    except:\n",
    "        print(i)\n",
    "        pass\n",
    "        "
   ]
  },
  {
   "cell_type": "code",
   "execution_count": 47,
   "metadata": {},
   "outputs": [
    {
     "name": "stderr",
     "output_type": "stream",
     "text": [
      "/Users/jersey/Library/Caches/pypoetry/virtualenvs/analysis-of-r-eldenring-n2W_eMD4-py3.8/lib/python3.8/site-packages/psaw/PushshiftAPI.py:252: UserWarning: Not all PushShift shards are active. Query results may be incomplete\n",
      "  warnings.warn(shards_down_message)\n",
      "/Users/jersey/Library/Caches/pypoetry/virtualenvs/analysis-of-r-eldenring-n2W_eMD4-py3.8/lib/python3.8/site-packages/psaw/PushshiftAPI.py:192: UserWarning: Got non 200 code 524\n",
      "  warnings.warn(\"Got non 200 code %s\" % response.status_code)\n",
      "/Users/jersey/Library/Caches/pypoetry/virtualenvs/analysis-of-r-eldenring-n2W_eMD4-py3.8/lib/python3.8/site-packages/psaw/PushshiftAPI.py:180: UserWarning: Unable to connect to pushshift.io. Retrying after backoff.\n",
      "  warnings.warn(\"Unable to connect to pushshift.io. Retrying after backoff.\")\n",
      "/Users/jersey/Library/Caches/pypoetry/virtualenvs/analysis-of-r-eldenring-n2W_eMD4-py3.8/lib/python3.8/site-packages/psaw/PushshiftAPI.py:192: UserWarning: Got non 200 code 522\n",
      "  warnings.warn(\"Got non 200 code %s\" % response.status_code)\n"
     ]
    },
    {
     "ename": "ChunkedEncodingError",
     "evalue": "(\"Connection broken: InvalidChunkLength(got length b'', 0 bytes read)\", InvalidChunkLength(got length b'', 0 bytes read))",
     "output_type": "error",
     "traceback": [
      "\u001b[0;31m---------------------------------------------------------------------------\u001b[0m",
      "\u001b[0;31mValueError\u001b[0m                                Traceback (most recent call last)",
      "File \u001b[0;32m~/Library/Caches/pypoetry/virtualenvs/analysis-of-r-eldenring-n2W_eMD4-py3.8/lib/python3.8/site-packages/urllib3/response.py:700\u001b[0m, in \u001b[0;36mHTTPResponse._update_chunk_length\u001b[0;34m(self)\u001b[0m\n\u001b[1;32m    <a href='file:///Users/jersey/Library/Caches/pypoetry/virtualenvs/analysis-of-r-eldenring-n2W_eMD4-py3.8/lib/python3.8/site-packages/urllib3/response.py?line=698'>699</a>\u001b[0m \u001b[39mtry\u001b[39;00m:\n\u001b[0;32m--> <a href='file:///Users/jersey/Library/Caches/pypoetry/virtualenvs/analysis-of-r-eldenring-n2W_eMD4-py3.8/lib/python3.8/site-packages/urllib3/response.py?line=699'>700</a>\u001b[0m     \u001b[39mself\u001b[39m\u001b[39m.\u001b[39mchunk_left \u001b[39m=\u001b[39m \u001b[39mint\u001b[39;49m(line, \u001b[39m16\u001b[39;49m)\n\u001b[1;32m    <a href='file:///Users/jersey/Library/Caches/pypoetry/virtualenvs/analysis-of-r-eldenring-n2W_eMD4-py3.8/lib/python3.8/site-packages/urllib3/response.py?line=700'>701</a>\u001b[0m \u001b[39mexcept\u001b[39;00m \u001b[39mValueError\u001b[39;00m:\n\u001b[1;32m    <a href='file:///Users/jersey/Library/Caches/pypoetry/virtualenvs/analysis-of-r-eldenring-n2W_eMD4-py3.8/lib/python3.8/site-packages/urllib3/response.py?line=701'>702</a>\u001b[0m     \u001b[39m# Invalid chunked protocol response, abort.\u001b[39;00m\n",
      "\u001b[0;31mValueError\u001b[0m: invalid literal for int() with base 16: b''",
      "\nDuring handling of the above exception, another exception occurred:\n",
      "\u001b[0;31mInvalidChunkLength\u001b[0m                        Traceback (most recent call last)",
      "File \u001b[0;32m~/Library/Caches/pypoetry/virtualenvs/analysis-of-r-eldenring-n2W_eMD4-py3.8/lib/python3.8/site-packages/urllib3/response.py:441\u001b[0m, in \u001b[0;36mHTTPResponse._error_catcher\u001b[0;34m(self)\u001b[0m\n\u001b[1;32m    <a href='file:///Users/jersey/Library/Caches/pypoetry/virtualenvs/analysis-of-r-eldenring-n2W_eMD4-py3.8/lib/python3.8/site-packages/urllib3/response.py?line=439'>440</a>\u001b[0m \u001b[39mtry\u001b[39;00m:\n\u001b[0;32m--> <a href='file:///Users/jersey/Library/Caches/pypoetry/virtualenvs/analysis-of-r-eldenring-n2W_eMD4-py3.8/lib/python3.8/site-packages/urllib3/response.py?line=440'>441</a>\u001b[0m     \u001b[39myield\u001b[39;00m\n\u001b[1;32m    <a href='file:///Users/jersey/Library/Caches/pypoetry/virtualenvs/analysis-of-r-eldenring-n2W_eMD4-py3.8/lib/python3.8/site-packages/urllib3/response.py?line=442'>443</a>\u001b[0m \u001b[39mexcept\u001b[39;00m SocketTimeout:\n\u001b[1;32m    <a href='file:///Users/jersey/Library/Caches/pypoetry/virtualenvs/analysis-of-r-eldenring-n2W_eMD4-py3.8/lib/python3.8/site-packages/urllib3/response.py?line=443'>444</a>\u001b[0m     \u001b[39m# FIXME: Ideally we'd like to include the url in the ReadTimeoutError but\u001b[39;00m\n\u001b[1;32m    <a href='file:///Users/jersey/Library/Caches/pypoetry/virtualenvs/analysis-of-r-eldenring-n2W_eMD4-py3.8/lib/python3.8/site-packages/urllib3/response.py?line=444'>445</a>\u001b[0m     \u001b[39m# there is yet no clean way to get at it from this context.\u001b[39;00m\n",
      "File \u001b[0;32m~/Library/Caches/pypoetry/virtualenvs/analysis-of-r-eldenring-n2W_eMD4-py3.8/lib/python3.8/site-packages/urllib3/response.py:767\u001b[0m, in \u001b[0;36mHTTPResponse.read_chunked\u001b[0;34m(self, amt, decode_content)\u001b[0m\n\u001b[1;32m    <a href='file:///Users/jersey/Library/Caches/pypoetry/virtualenvs/analysis-of-r-eldenring-n2W_eMD4-py3.8/lib/python3.8/site-packages/urllib3/response.py?line=765'>766</a>\u001b[0m \u001b[39mwhile\u001b[39;00m \u001b[39mTrue\u001b[39;00m:\n\u001b[0;32m--> <a href='file:///Users/jersey/Library/Caches/pypoetry/virtualenvs/analysis-of-r-eldenring-n2W_eMD4-py3.8/lib/python3.8/site-packages/urllib3/response.py?line=766'>767</a>\u001b[0m     \u001b[39mself\u001b[39;49m\u001b[39m.\u001b[39;49m_update_chunk_length()\n\u001b[1;32m    <a href='file:///Users/jersey/Library/Caches/pypoetry/virtualenvs/analysis-of-r-eldenring-n2W_eMD4-py3.8/lib/python3.8/site-packages/urllib3/response.py?line=767'>768</a>\u001b[0m     \u001b[39mif\u001b[39;00m \u001b[39mself\u001b[39m\u001b[39m.\u001b[39mchunk_left \u001b[39m==\u001b[39m \u001b[39m0\u001b[39m:\n",
      "File \u001b[0;32m~/Library/Caches/pypoetry/virtualenvs/analysis-of-r-eldenring-n2W_eMD4-py3.8/lib/python3.8/site-packages/urllib3/response.py:704\u001b[0m, in \u001b[0;36mHTTPResponse._update_chunk_length\u001b[0;34m(self)\u001b[0m\n\u001b[1;32m    <a href='file:///Users/jersey/Library/Caches/pypoetry/virtualenvs/analysis-of-r-eldenring-n2W_eMD4-py3.8/lib/python3.8/site-packages/urllib3/response.py?line=702'>703</a>\u001b[0m \u001b[39mself\u001b[39m\u001b[39m.\u001b[39mclose()\n\u001b[0;32m--> <a href='file:///Users/jersey/Library/Caches/pypoetry/virtualenvs/analysis-of-r-eldenring-n2W_eMD4-py3.8/lib/python3.8/site-packages/urllib3/response.py?line=703'>704</a>\u001b[0m \u001b[39mraise\u001b[39;00m InvalidChunkLength(\u001b[39mself\u001b[39m, line)\n",
      "\u001b[0;31mInvalidChunkLength\u001b[0m: InvalidChunkLength(got length b'', 0 bytes read)",
      "\nDuring handling of the above exception, another exception occurred:\n",
      "\u001b[0;31mProtocolError\u001b[0m                             Traceback (most recent call last)",
      "File \u001b[0;32m~/Library/Caches/pypoetry/virtualenvs/analysis-of-r-eldenring-n2W_eMD4-py3.8/lib/python3.8/site-packages/requests/models.py:760\u001b[0m, in \u001b[0;36mResponse.iter_content.<locals>.generate\u001b[0;34m()\u001b[0m\n\u001b[1;32m    <a href='file:///Users/jersey/Library/Caches/pypoetry/virtualenvs/analysis-of-r-eldenring-n2W_eMD4-py3.8/lib/python3.8/site-packages/requests/models.py?line=758'>759</a>\u001b[0m \u001b[39mtry\u001b[39;00m:\n\u001b[0;32m--> <a href='file:///Users/jersey/Library/Caches/pypoetry/virtualenvs/analysis-of-r-eldenring-n2W_eMD4-py3.8/lib/python3.8/site-packages/requests/models.py?line=759'>760</a>\u001b[0m     \u001b[39mfor\u001b[39;00m chunk \u001b[39min\u001b[39;00m \u001b[39mself\u001b[39m\u001b[39m.\u001b[39mraw\u001b[39m.\u001b[39mstream(chunk_size, decode_content\u001b[39m=\u001b[39m\u001b[39mTrue\u001b[39;00m):\n\u001b[1;32m    <a href='file:///Users/jersey/Library/Caches/pypoetry/virtualenvs/analysis-of-r-eldenring-n2W_eMD4-py3.8/lib/python3.8/site-packages/requests/models.py?line=760'>761</a>\u001b[0m         \u001b[39myield\u001b[39;00m chunk\n",
      "File \u001b[0;32m~/Library/Caches/pypoetry/virtualenvs/analysis-of-r-eldenring-n2W_eMD4-py3.8/lib/python3.8/site-packages/urllib3/response.py:575\u001b[0m, in \u001b[0;36mHTTPResponse.stream\u001b[0;34m(self, amt, decode_content)\u001b[0m\n\u001b[1;32m    <a href='file:///Users/jersey/Library/Caches/pypoetry/virtualenvs/analysis-of-r-eldenring-n2W_eMD4-py3.8/lib/python3.8/site-packages/urllib3/response.py?line=573'>574</a>\u001b[0m \u001b[39mif\u001b[39;00m \u001b[39mself\u001b[39m\u001b[39m.\u001b[39mchunked \u001b[39mand\u001b[39;00m \u001b[39mself\u001b[39m\u001b[39m.\u001b[39msupports_chunked_reads():\n\u001b[0;32m--> <a href='file:///Users/jersey/Library/Caches/pypoetry/virtualenvs/analysis-of-r-eldenring-n2W_eMD4-py3.8/lib/python3.8/site-packages/urllib3/response.py?line=574'>575</a>\u001b[0m     \u001b[39mfor\u001b[39;00m line \u001b[39min\u001b[39;00m \u001b[39mself\u001b[39m\u001b[39m.\u001b[39mread_chunked(amt, decode_content\u001b[39m=\u001b[39mdecode_content):\n\u001b[1;32m    <a href='file:///Users/jersey/Library/Caches/pypoetry/virtualenvs/analysis-of-r-eldenring-n2W_eMD4-py3.8/lib/python3.8/site-packages/urllib3/response.py?line=575'>576</a>\u001b[0m         \u001b[39myield\u001b[39;00m line\n",
      "File \u001b[0;32m~/Library/Caches/pypoetry/virtualenvs/analysis-of-r-eldenring-n2W_eMD4-py3.8/lib/python3.8/site-packages/urllib3/response.py:796\u001b[0m, in \u001b[0;36mHTTPResponse.read_chunked\u001b[0;34m(self, amt, decode_content)\u001b[0m\n\u001b[1;32m    <a href='file:///Users/jersey/Library/Caches/pypoetry/virtualenvs/analysis-of-r-eldenring-n2W_eMD4-py3.8/lib/python3.8/site-packages/urllib3/response.py?line=794'>795</a>\u001b[0m \u001b[39mif\u001b[39;00m \u001b[39mself\u001b[39m\u001b[39m.\u001b[39m_original_response:\n\u001b[0;32m--> <a href='file:///Users/jersey/Library/Caches/pypoetry/virtualenvs/analysis-of-r-eldenring-n2W_eMD4-py3.8/lib/python3.8/site-packages/urllib3/response.py?line=795'>796</a>\u001b[0m     \u001b[39mself\u001b[39m\u001b[39m.\u001b[39m_original_response\u001b[39m.\u001b[39mclose()\n",
      "File \u001b[0;32m/Library/Developer/CommandLineTools/Library/Frameworks/Python3.framework/Versions/3.8/lib/python3.8/contextlib.py:131\u001b[0m, in \u001b[0;36m_GeneratorContextManager.__exit__\u001b[0;34m(self, type, value, traceback)\u001b[0m\n\u001b[1;32m    <a href='file:///Library/Developer/CommandLineTools/Library/Frameworks/Python3.framework/Versions/3.8/lib/python3.8/contextlib.py?line=129'>130</a>\u001b[0m \u001b[39mtry\u001b[39;00m:\n\u001b[0;32m--> <a href='file:///Library/Developer/CommandLineTools/Library/Frameworks/Python3.framework/Versions/3.8/lib/python3.8/contextlib.py?line=130'>131</a>\u001b[0m     \u001b[39mself\u001b[39;49m\u001b[39m.\u001b[39;49mgen\u001b[39m.\u001b[39;49mthrow(\u001b[39mtype\u001b[39;49m, value, traceback)\n\u001b[1;32m    <a href='file:///Library/Developer/CommandLineTools/Library/Frameworks/Python3.framework/Versions/3.8/lib/python3.8/contextlib.py?line=131'>132</a>\u001b[0m \u001b[39mexcept\u001b[39;00m \u001b[39mStopIteration\u001b[39;00m \u001b[39mas\u001b[39;00m exc:\n\u001b[1;32m    <a href='file:///Library/Developer/CommandLineTools/Library/Frameworks/Python3.framework/Versions/3.8/lib/python3.8/contextlib.py?line=132'>133</a>\u001b[0m     \u001b[39m# Suppress StopIteration *unless* it's the same exception that\u001b[39;00m\n\u001b[1;32m    <a href='file:///Library/Developer/CommandLineTools/Library/Frameworks/Python3.framework/Versions/3.8/lib/python3.8/contextlib.py?line=133'>134</a>\u001b[0m     \u001b[39m# was passed to throw().  This prevents a StopIteration\u001b[39;00m\n\u001b[1;32m    <a href='file:///Library/Developer/CommandLineTools/Library/Frameworks/Python3.framework/Versions/3.8/lib/python3.8/contextlib.py?line=134'>135</a>\u001b[0m     \u001b[39m# raised inside the \"with\" statement from being suppressed.\u001b[39;00m\n",
      "File \u001b[0;32m~/Library/Caches/pypoetry/virtualenvs/analysis-of-r-eldenring-n2W_eMD4-py3.8/lib/python3.8/site-packages/urllib3/response.py:458\u001b[0m, in \u001b[0;36mHTTPResponse._error_catcher\u001b[0;34m(self)\u001b[0m\n\u001b[1;32m    <a href='file:///Users/jersey/Library/Caches/pypoetry/virtualenvs/analysis-of-r-eldenring-n2W_eMD4-py3.8/lib/python3.8/site-packages/urllib3/response.py?line=455'>456</a>\u001b[0m \u001b[39mexcept\u001b[39;00m (HTTPException, SocketError) \u001b[39mas\u001b[39;00m e:\n\u001b[1;32m    <a href='file:///Users/jersey/Library/Caches/pypoetry/virtualenvs/analysis-of-r-eldenring-n2W_eMD4-py3.8/lib/python3.8/site-packages/urllib3/response.py?line=456'>457</a>\u001b[0m     \u001b[39m# This includes IncompleteRead.\u001b[39;00m\n\u001b[0;32m--> <a href='file:///Users/jersey/Library/Caches/pypoetry/virtualenvs/analysis-of-r-eldenring-n2W_eMD4-py3.8/lib/python3.8/site-packages/urllib3/response.py?line=457'>458</a>\u001b[0m     \u001b[39mraise\u001b[39;00m ProtocolError(\u001b[39m\"\u001b[39m\u001b[39mConnection broken: \u001b[39m\u001b[39m%r\u001b[39;00m\u001b[39m\"\u001b[39m \u001b[39m%\u001b[39m e, e)\n\u001b[1;32m    <a href='file:///Users/jersey/Library/Caches/pypoetry/virtualenvs/analysis-of-r-eldenring-n2W_eMD4-py3.8/lib/python3.8/site-packages/urllib3/response.py?line=459'>460</a>\u001b[0m \u001b[39m# If no exception is thrown, we should avoid cleaning up\u001b[39;00m\n\u001b[1;32m    <a href='file:///Users/jersey/Library/Caches/pypoetry/virtualenvs/analysis-of-r-eldenring-n2W_eMD4-py3.8/lib/python3.8/site-packages/urllib3/response.py?line=460'>461</a>\u001b[0m \u001b[39m# unnecessarily.\u001b[39;00m\n",
      "\u001b[0;31mProtocolError\u001b[0m: (\"Connection broken: InvalidChunkLength(got length b'', 0 bytes read)\", InvalidChunkLength(got length b'', 0 bytes read))",
      "\nDuring handling of the above exception, another exception occurred:\n",
      "\u001b[0;31mChunkedEncodingError\u001b[0m                      Traceback (most recent call last)",
      "\u001b[1;32m/Users/jersey/Documents/GitHub/analysis-of-r-eldenring/analysis-of-r-eldenring/test.ipynb Cell 13'\u001b[0m in \u001b[0;36m<cell line: 31>\u001b[0;34m()\u001b[0m\n\u001b[1;32m     <a href='vscode-notebook-cell:/Users/jersey/Documents/GitHub/analysis-of-r-eldenring/analysis-of-r-eldenring/test.ipynb#ch0000002?line=27'>28</a>\u001b[0m             \u001b[39melse\u001b[39;00m:\n\u001b[1;32m     <a href='vscode-notebook-cell:/Users/jersey/Documents/GitHub/analysis-of-r-eldenring/analysis-of-r-eldenring/test.ipynb#ch0000002?line=28'>29</a>\u001b[0m                 \u001b[39mraise\u001b[39;00m error\n\u001b[0;32m---> <a href='vscode-notebook-cell:/Users/jersey/Documents/GitHub/analysis-of-r-eldenring/analysis-of-r-eldenring/test.ipynb#ch0000002?line=30'>31</a>\u001b[0m safeIntegerInput()\n",
      "\u001b[1;32m/Users/jersey/Documents/GitHub/analysis-of-r-eldenring/analysis-of-r-eldenring/test.ipynb Cell 13'\u001b[0m in \u001b[0;36msafeIntegerInput\u001b[0;34m(num_retries)\u001b[0m\n\u001b[1;32m      <a href='vscode-notebook-cell:/Users/jersey/Documents/GitHub/analysis-of-r-eldenring/analysis-of-r-eldenring/test.ipynb#ch0000002?line=5'>6</a>\u001b[0m \u001b[39mfor\u001b[39;00m attempt_no \u001b[39min\u001b[39;00m \u001b[39mrange\u001b[39m(num_retries):\n\u001b[1;32m      <a href='vscode-notebook-cell:/Users/jersey/Documents/GitHub/analysis-of-r-eldenring/analysis-of-r-eldenring/test.ipynb#ch0000002?line=6'>7</a>\u001b[0m     \u001b[39mtry\u001b[39;00m:\n\u001b[0;32m----> <a href='vscode-notebook-cell:/Users/jersey/Documents/GitHub/analysis-of-r-eldenring/analysis-of-r-eldenring/test.ipynb#ch0000002?line=7'>8</a>\u001b[0m         comments \u001b[39m=\u001b[39m \u001b[39mlist\u001b[39;49m(api\u001b[39m.\u001b[39;49msearch_comments(\n\u001b[1;32m      <a href='vscode-notebook-cell:/Users/jersey/Documents/GitHub/analysis-of-r-eldenring/analysis-of-r-eldenring/test.ipynb#ch0000002?line=8'>9</a>\u001b[0m         subreddit \u001b[39m=\u001b[39;49m \u001b[39m\"\u001b[39;49m\u001b[39meldenring\u001b[39;49m\u001b[39m\"\u001b[39;49m,\n\u001b[1;32m     <a href='vscode-notebook-cell:/Users/jersey/Documents/GitHub/analysis-of-r-eldenring/analysis-of-r-eldenring/test.ipynb#ch0000002?line=9'>10</a>\u001b[0m         before \u001b[39m=\u001b[39;49m BEFORE,\n\u001b[1;32m     <a href='vscode-notebook-cell:/Users/jersey/Documents/GitHub/analysis-of-r-eldenring/analysis-of-r-eldenring/test.ipynb#ch0000002?line=10'>11</a>\u001b[0m         after \u001b[39m=\u001b[39;49m AFTER,\n\u001b[1;32m     <a href='vscode-notebook-cell:/Users/jersey/Documents/GitHub/analysis-of-r-eldenring/analysis-of-r-eldenring/test.ipynb#ch0000002?line=11'>12</a>\u001b[0m         \u001b[39mfilter\u001b[39;49m \u001b[39m=\u001b[39;49m [\n\u001b[1;32m     <a href='vscode-notebook-cell:/Users/jersey/Documents/GitHub/analysis-of-r-eldenring/analysis-of-r-eldenring/test.ipynb#ch0000002?line=12'>13</a>\u001b[0m             \u001b[39m\"\u001b[39;49m\u001b[39mid\u001b[39;49m\u001b[39m\"\u001b[39;49m, \n\u001b[1;32m     <a href='vscode-notebook-cell:/Users/jersey/Documents/GitHub/analysis-of-r-eldenring/analysis-of-r-eldenring/test.ipynb#ch0000002?line=13'>14</a>\u001b[0m             \u001b[39m\"\u001b[39;49m\u001b[39mauthor\u001b[39;49m\u001b[39m\"\u001b[39;49m, \n\u001b[1;32m     <a href='vscode-notebook-cell:/Users/jersey/Documents/GitHub/analysis-of-r-eldenring/analysis-of-r-eldenring/test.ipynb#ch0000002?line=14'>15</a>\u001b[0m             \u001b[39m\"\u001b[39;49m\u001b[39mcreated_utc\u001b[39;49m\u001b[39m\"\u001b[39;49m, \n\u001b[1;32m     <a href='vscode-notebook-cell:/Users/jersey/Documents/GitHub/analysis-of-r-eldenring/analysis-of-r-eldenring/test.ipynb#ch0000002?line=15'>16</a>\u001b[0m             \u001b[39m\"\u001b[39;49m\u001b[39mpermalink\u001b[39;49m\u001b[39m\"\u001b[39;49m, \u001b[39m# https://reddit.com/<url>\u001b[39;49;00m\n\u001b[1;32m     <a href='vscode-notebook-cell:/Users/jersey/Documents/GitHub/analysis-of-r-eldenring/analysis-of-r-eldenring/test.ipynb#ch0000002?line=16'>17</a>\u001b[0m             \u001b[39m\"\u001b[39;49m\u001b[39mbody\u001b[39;49m\u001b[39m\"\u001b[39;49m,\n\u001b[1;32m     <a href='vscode-notebook-cell:/Users/jersey/Documents/GitHub/analysis-of-r-eldenring/analysis-of-r-eldenring/test.ipynb#ch0000002?line=17'>18</a>\u001b[0m             \u001b[39m\"\u001b[39;49m\u001b[39mscore\u001b[39;49m\u001b[39m\"\u001b[39;49m, \u001b[39m# number of upvotes?\u001b[39;49;00m\n\u001b[1;32m     <a href='vscode-notebook-cell:/Users/jersey/Documents/GitHub/analysis-of-r-eldenring/analysis-of-r-eldenring/test.ipynb#ch0000002?line=18'>19</a>\u001b[0m             ],\n\u001b[1;32m     <a href='vscode-notebook-cell:/Users/jersey/Documents/GitHub/analysis-of-r-eldenring/analysis-of-r-eldenring/test.ipynb#ch0000002?line=19'>20</a>\u001b[0m         \u001b[39m# limit =1,\u001b[39;49;00m\n\u001b[1;32m     <a href='vscode-notebook-cell:/Users/jersey/Documents/GitHub/analysis-of-r-eldenring/analysis-of-r-eldenring/test.ipynb#ch0000002?line=20'>21</a>\u001b[0m     ))\n\u001b[1;32m     <a href='vscode-notebook-cell:/Users/jersey/Documents/GitHub/analysis-of-r-eldenring/analysis-of-r-eldenring/test.ipynb#ch0000002?line=21'>22</a>\u001b[0m         df \u001b[39m=\u001b[39m pd\u001b[39m.\u001b[39mDataFrame(comments)\n\u001b[1;32m     <a href='vscode-notebook-cell:/Users/jersey/Documents/GitHub/analysis-of-r-eldenring/analysis-of-r-eldenring/test.ipynb#ch0000002?line=22'>23</a>\u001b[0m         df\u001b[39m.\u001b[39mto_csv(\u001b[39m\"\u001b[39m\u001b[39mcomments.csv\u001b[39m\u001b[39m\"\u001b[39m)\n",
      "File \u001b[0;32m~/Library/Caches/pypoetry/virtualenvs/analysis-of-r-eldenring-n2W_eMD4-py3.8/lib/python3.8/site-packages/psaw/PushshiftAPI.py:238\u001b[0m, in \u001b[0;36mPushshiftAPIMinimal._search\u001b[0;34m(self, kind, stop_condition, return_batch, dataset, **kwargs)\u001b[0m\n\u001b[1;32m    <a href='file:///Users/jersey/Library/Caches/pypoetry/virtualenvs/analysis-of-r-eldenring-n2W_eMD4-py3.8/lib/python3.8/site-packages/psaw/PushshiftAPI.py?line=235'>236</a>\u001b[0m endpoint \u001b[39m=\u001b[39m \u001b[39m'\u001b[39m\u001b[39m{dataset}\u001b[39;00m\u001b[39m/\u001b[39m\u001b[39m{kind}\u001b[39;00m\u001b[39m/search\u001b[39m\u001b[39m'\u001b[39m\u001b[39m.\u001b[39mformat(dataset\u001b[39m=\u001b[39mdataset, kind\u001b[39m=\u001b[39mkind)\n\u001b[1;32m    <a href='file:///Users/jersey/Library/Caches/pypoetry/virtualenvs/analysis-of-r-eldenring-n2W_eMD4-py3.8/lib/python3.8/site-packages/psaw/PushshiftAPI.py?line=236'>237</a>\u001b[0m url \u001b[39m=\u001b[39m \u001b[39mself\u001b[39m\u001b[39m.\u001b[39mbase_url\u001b[39m.\u001b[39mformat(endpoint\u001b[39m=\u001b[39mendpoint)\n\u001b[0;32m--> <a href='file:///Users/jersey/Library/Caches/pypoetry/virtualenvs/analysis-of-r-eldenring-n2W_eMD4-py3.8/lib/python3.8/site-packages/psaw/PushshiftAPI.py?line=237'>238</a>\u001b[0m \u001b[39mfor\u001b[39;00m response \u001b[39min\u001b[39;00m \u001b[39mself\u001b[39m\u001b[39m.\u001b[39m_handle_paging(url):\n\u001b[1;32m    <a href='file:///Users/jersey/Library/Caches/pypoetry/virtualenvs/analysis-of-r-eldenring-n2W_eMD4-py3.8/lib/python3.8/site-packages/psaw/PushshiftAPI.py?line=238'>239</a>\u001b[0m     \u001b[39mif\u001b[39;00m \u001b[39m'\u001b[39m\u001b[39maggs\u001b[39m\u001b[39m'\u001b[39m \u001b[39min\u001b[39;00m response:\n\u001b[1;32m    <a href='file:///Users/jersey/Library/Caches/pypoetry/virtualenvs/analysis-of-r-eldenring-n2W_eMD4-py3.8/lib/python3.8/site-packages/psaw/PushshiftAPI.py?line=239'>240</a>\u001b[0m         \u001b[39myield\u001b[39;00m response[\u001b[39m'\u001b[39m\u001b[39maggs\u001b[39m\u001b[39m'\u001b[39m]\n",
      "File \u001b[0;32m~/Library/Caches/pypoetry/virtualenvs/analysis-of-r-eldenring-n2W_eMD4-py3.8/lib/python3.8/site-packages/psaw/PushshiftAPI.py:215\u001b[0m, in \u001b[0;36mPushshiftAPIMinimal._handle_paging\u001b[0;34m(self, url)\u001b[0m\n\u001b[1;32m    <a href='file:///Users/jersey/Library/Caches/pypoetry/virtualenvs/analysis-of-r-eldenring-n2W_eMD4-py3.8/lib/python3.8/site-packages/psaw/PushshiftAPI.py?line=211'>212</a>\u001b[0m         \u001b[39mraise\u001b[39;00m \u001b[39mNotImplementedError\u001b[39;00m(err_msg\u001b[39m.\u001b[39mformat(\u001b[39mself\u001b[39m\u001b[39m.\u001b[39mmax_results_per_request))\n\u001b[1;32m    <a href='file:///Users/jersey/Library/Caches/pypoetry/virtualenvs/analysis-of-r-eldenring-n2W_eMD4-py3.8/lib/python3.8/site-packages/psaw/PushshiftAPI.py?line=212'>213</a>\u001b[0m \u001b[39mself\u001b[39m\u001b[39m.\u001b[39m_add_nec_args(\u001b[39mself\u001b[39m\u001b[39m.\u001b[39mpayload)\n\u001b[0;32m--> <a href='file:///Users/jersey/Library/Caches/pypoetry/virtualenvs/analysis-of-r-eldenring-n2W_eMD4-py3.8/lib/python3.8/site-packages/psaw/PushshiftAPI.py?line=214'>215</a>\u001b[0m data \u001b[39m=\u001b[39m \u001b[39mself\u001b[39;49m\u001b[39m.\u001b[39;49m_get(url, \u001b[39mself\u001b[39;49m\u001b[39m.\u001b[39;49mpayload)\n\u001b[1;32m    <a href='file:///Users/jersey/Library/Caches/pypoetry/virtualenvs/analysis-of-r-eldenring-n2W_eMD4-py3.8/lib/python3.8/site-packages/psaw/PushshiftAPI.py?line=215'>216</a>\u001b[0m \u001b[39myield\u001b[39;00m data\n\u001b[1;32m    <a href='file:///Users/jersey/Library/Caches/pypoetry/virtualenvs/analysis-of-r-eldenring-n2W_eMD4-py3.8/lib/python3.8/site-packages/psaw/PushshiftAPI.py?line=216'>217</a>\u001b[0m \u001b[39mif\u001b[39;00m limit \u001b[39mis\u001b[39;00m \u001b[39mnot\u001b[39;00m \u001b[39mNone\u001b[39;00m:\n",
      "File \u001b[0;32m~/Library/Caches/pypoetry/virtualenvs/analysis-of-r-eldenring-n2W_eMD4-py3.8/lib/python3.8/site-packages/psaw/PushshiftAPI.py:184\u001b[0m, in \u001b[0;36mPushshiftAPIMinimal._get\u001b[0;34m(self, url, payload)\u001b[0m\n\u001b[1;32m    <a href='file:///Users/jersey/Library/Caches/pypoetry/virtualenvs/analysis-of-r-eldenring-n2W_eMD4-py3.8/lib/python3.8/site-packages/psaw/PushshiftAPI.py?line=181'>182</a>\u001b[0m i\u001b[39m+\u001b[39m\u001b[39m=\u001b[39m\u001b[39m1\u001b[39m\n\u001b[1;32m    <a href='file:///Users/jersey/Library/Caches/pypoetry/virtualenvs/analysis-of-r-eldenring-n2W_eMD4-py3.8/lib/python3.8/site-packages/psaw/PushshiftAPI.py?line=182'>183</a>\u001b[0m \u001b[39mtry\u001b[39;00m:\n\u001b[0;32m--> <a href='file:///Users/jersey/Library/Caches/pypoetry/virtualenvs/analysis-of-r-eldenring-n2W_eMD4-py3.8/lib/python3.8/site-packages/psaw/PushshiftAPI.py?line=183'>184</a>\u001b[0m     response \u001b[39m=\u001b[39m requests\u001b[39m.\u001b[39;49mget(url, params\u001b[39m=\u001b[39;49mpayload, proxies\u001b[39m=\u001b[39;49m\u001b[39mself\u001b[39;49m\u001b[39m.\u001b[39;49mproxies)\n\u001b[1;32m    <a href='file:///Users/jersey/Library/Caches/pypoetry/virtualenvs/analysis-of-r-eldenring-n2W_eMD4-py3.8/lib/python3.8/site-packages/psaw/PushshiftAPI.py?line=184'>185</a>\u001b[0m     log\u001b[39m.\u001b[39minfo(response\u001b[39m.\u001b[39murl)\n\u001b[1;32m    <a href='file:///Users/jersey/Library/Caches/pypoetry/virtualenvs/analysis-of-r-eldenring-n2W_eMD4-py3.8/lib/python3.8/site-packages/psaw/PushshiftAPI.py?line=185'>186</a>\u001b[0m     log\u001b[39m.\u001b[39mdebug(\u001b[39m'\u001b[39m\u001b[39mResponse status code: \u001b[39m\u001b[39m%s\u001b[39;00m\u001b[39m'\u001b[39m \u001b[39m%\u001b[39m response\u001b[39m.\u001b[39mstatus_code)\n",
      "File \u001b[0;32m~/Library/Caches/pypoetry/virtualenvs/analysis-of-r-eldenring-n2W_eMD4-py3.8/lib/python3.8/site-packages/requests/api.py:75\u001b[0m, in \u001b[0;36mget\u001b[0;34m(url, params, **kwargs)\u001b[0m\n\u001b[1;32m     <a href='file:///Users/jersey/Library/Caches/pypoetry/virtualenvs/analysis-of-r-eldenring-n2W_eMD4-py3.8/lib/python3.8/site-packages/requests/api.py?line=63'>64</a>\u001b[0m \u001b[39mdef\u001b[39;00m \u001b[39mget\u001b[39m(url, params\u001b[39m=\u001b[39m\u001b[39mNone\u001b[39;00m, \u001b[39m*\u001b[39m\u001b[39m*\u001b[39mkwargs):\n\u001b[1;32m     <a href='file:///Users/jersey/Library/Caches/pypoetry/virtualenvs/analysis-of-r-eldenring-n2W_eMD4-py3.8/lib/python3.8/site-packages/requests/api.py?line=64'>65</a>\u001b[0m     \u001b[39mr\u001b[39m\u001b[39m\"\"\"Sends a GET request.\u001b[39;00m\n\u001b[1;32m     <a href='file:///Users/jersey/Library/Caches/pypoetry/virtualenvs/analysis-of-r-eldenring-n2W_eMD4-py3.8/lib/python3.8/site-packages/requests/api.py?line=65'>66</a>\u001b[0m \n\u001b[1;32m     <a href='file:///Users/jersey/Library/Caches/pypoetry/virtualenvs/analysis-of-r-eldenring-n2W_eMD4-py3.8/lib/python3.8/site-packages/requests/api.py?line=66'>67</a>\u001b[0m \u001b[39m    :param url: URL for the new :class:`Request` object.\u001b[39;00m\n\u001b[0;32m   (...)\u001b[0m\n\u001b[1;32m     <a href='file:///Users/jersey/Library/Caches/pypoetry/virtualenvs/analysis-of-r-eldenring-n2W_eMD4-py3.8/lib/python3.8/site-packages/requests/api.py?line=71'>72</a>\u001b[0m \u001b[39m    :rtype: requests.Response\u001b[39;00m\n\u001b[1;32m     <a href='file:///Users/jersey/Library/Caches/pypoetry/virtualenvs/analysis-of-r-eldenring-n2W_eMD4-py3.8/lib/python3.8/site-packages/requests/api.py?line=72'>73</a>\u001b[0m \u001b[39m    \"\"\"\u001b[39;00m\n\u001b[0;32m---> <a href='file:///Users/jersey/Library/Caches/pypoetry/virtualenvs/analysis-of-r-eldenring-n2W_eMD4-py3.8/lib/python3.8/site-packages/requests/api.py?line=74'>75</a>\u001b[0m     \u001b[39mreturn\u001b[39;00m request(\u001b[39m'\u001b[39;49m\u001b[39mget\u001b[39;49m\u001b[39m'\u001b[39;49m, url, params\u001b[39m=\u001b[39;49mparams, \u001b[39m*\u001b[39;49m\u001b[39m*\u001b[39;49mkwargs)\n",
      "File \u001b[0;32m~/Library/Caches/pypoetry/virtualenvs/analysis-of-r-eldenring-n2W_eMD4-py3.8/lib/python3.8/site-packages/requests/api.py:61\u001b[0m, in \u001b[0;36mrequest\u001b[0;34m(method, url, **kwargs)\u001b[0m\n\u001b[1;32m     <a href='file:///Users/jersey/Library/Caches/pypoetry/virtualenvs/analysis-of-r-eldenring-n2W_eMD4-py3.8/lib/python3.8/site-packages/requests/api.py?line=56'>57</a>\u001b[0m \u001b[39m# By using the 'with' statement we are sure the session is closed, thus we\u001b[39;00m\n\u001b[1;32m     <a href='file:///Users/jersey/Library/Caches/pypoetry/virtualenvs/analysis-of-r-eldenring-n2W_eMD4-py3.8/lib/python3.8/site-packages/requests/api.py?line=57'>58</a>\u001b[0m \u001b[39m# avoid leaving sockets open which can trigger a ResourceWarning in some\u001b[39;00m\n\u001b[1;32m     <a href='file:///Users/jersey/Library/Caches/pypoetry/virtualenvs/analysis-of-r-eldenring-n2W_eMD4-py3.8/lib/python3.8/site-packages/requests/api.py?line=58'>59</a>\u001b[0m \u001b[39m# cases, and look like a memory leak in others.\u001b[39;00m\n\u001b[1;32m     <a href='file:///Users/jersey/Library/Caches/pypoetry/virtualenvs/analysis-of-r-eldenring-n2W_eMD4-py3.8/lib/python3.8/site-packages/requests/api.py?line=59'>60</a>\u001b[0m \u001b[39mwith\u001b[39;00m sessions\u001b[39m.\u001b[39mSession() \u001b[39mas\u001b[39;00m session:\n\u001b[0;32m---> <a href='file:///Users/jersey/Library/Caches/pypoetry/virtualenvs/analysis-of-r-eldenring-n2W_eMD4-py3.8/lib/python3.8/site-packages/requests/api.py?line=60'>61</a>\u001b[0m     \u001b[39mreturn\u001b[39;00m session\u001b[39m.\u001b[39;49mrequest(method\u001b[39m=\u001b[39;49mmethod, url\u001b[39m=\u001b[39;49murl, \u001b[39m*\u001b[39;49m\u001b[39m*\u001b[39;49mkwargs)\n",
      "File \u001b[0;32m~/Library/Caches/pypoetry/virtualenvs/analysis-of-r-eldenring-n2W_eMD4-py3.8/lib/python3.8/site-packages/requests/sessions.py:529\u001b[0m, in \u001b[0;36mSession.request\u001b[0;34m(self, method, url, params, data, headers, cookies, files, auth, timeout, allow_redirects, proxies, hooks, stream, verify, cert, json)\u001b[0m\n\u001b[1;32m    <a href='file:///Users/jersey/Library/Caches/pypoetry/virtualenvs/analysis-of-r-eldenring-n2W_eMD4-py3.8/lib/python3.8/site-packages/requests/sessions.py?line=523'>524</a>\u001b[0m send_kwargs \u001b[39m=\u001b[39m {\n\u001b[1;32m    <a href='file:///Users/jersey/Library/Caches/pypoetry/virtualenvs/analysis-of-r-eldenring-n2W_eMD4-py3.8/lib/python3.8/site-packages/requests/sessions.py?line=524'>525</a>\u001b[0m     \u001b[39m'\u001b[39m\u001b[39mtimeout\u001b[39m\u001b[39m'\u001b[39m: timeout,\n\u001b[1;32m    <a href='file:///Users/jersey/Library/Caches/pypoetry/virtualenvs/analysis-of-r-eldenring-n2W_eMD4-py3.8/lib/python3.8/site-packages/requests/sessions.py?line=525'>526</a>\u001b[0m     \u001b[39m'\u001b[39m\u001b[39mallow_redirects\u001b[39m\u001b[39m'\u001b[39m: allow_redirects,\n\u001b[1;32m    <a href='file:///Users/jersey/Library/Caches/pypoetry/virtualenvs/analysis-of-r-eldenring-n2W_eMD4-py3.8/lib/python3.8/site-packages/requests/sessions.py?line=526'>527</a>\u001b[0m }\n\u001b[1;32m    <a href='file:///Users/jersey/Library/Caches/pypoetry/virtualenvs/analysis-of-r-eldenring-n2W_eMD4-py3.8/lib/python3.8/site-packages/requests/sessions.py?line=527'>528</a>\u001b[0m send_kwargs\u001b[39m.\u001b[39mupdate(settings)\n\u001b[0;32m--> <a href='file:///Users/jersey/Library/Caches/pypoetry/virtualenvs/analysis-of-r-eldenring-n2W_eMD4-py3.8/lib/python3.8/site-packages/requests/sessions.py?line=528'>529</a>\u001b[0m resp \u001b[39m=\u001b[39m \u001b[39mself\u001b[39;49m\u001b[39m.\u001b[39;49msend(prep, \u001b[39m*\u001b[39;49m\u001b[39m*\u001b[39;49msend_kwargs)\n\u001b[1;32m    <a href='file:///Users/jersey/Library/Caches/pypoetry/virtualenvs/analysis-of-r-eldenring-n2W_eMD4-py3.8/lib/python3.8/site-packages/requests/sessions.py?line=530'>531</a>\u001b[0m \u001b[39mreturn\u001b[39;00m resp\n",
      "File \u001b[0;32m~/Library/Caches/pypoetry/virtualenvs/analysis-of-r-eldenring-n2W_eMD4-py3.8/lib/python3.8/site-packages/requests/sessions.py:687\u001b[0m, in \u001b[0;36mSession.send\u001b[0;34m(self, request, **kwargs)\u001b[0m\n\u001b[1;32m    <a href='file:///Users/jersey/Library/Caches/pypoetry/virtualenvs/analysis-of-r-eldenring-n2W_eMD4-py3.8/lib/python3.8/site-packages/requests/sessions.py?line=683'>684</a>\u001b[0m         \u001b[39mpass\u001b[39;00m\n\u001b[1;32m    <a href='file:///Users/jersey/Library/Caches/pypoetry/virtualenvs/analysis-of-r-eldenring-n2W_eMD4-py3.8/lib/python3.8/site-packages/requests/sessions.py?line=685'>686</a>\u001b[0m \u001b[39mif\u001b[39;00m \u001b[39mnot\u001b[39;00m stream:\n\u001b[0;32m--> <a href='file:///Users/jersey/Library/Caches/pypoetry/virtualenvs/analysis-of-r-eldenring-n2W_eMD4-py3.8/lib/python3.8/site-packages/requests/sessions.py?line=686'>687</a>\u001b[0m     r\u001b[39m.\u001b[39;49mcontent\n\u001b[1;32m    <a href='file:///Users/jersey/Library/Caches/pypoetry/virtualenvs/analysis-of-r-eldenring-n2W_eMD4-py3.8/lib/python3.8/site-packages/requests/sessions.py?line=688'>689</a>\u001b[0m \u001b[39mreturn\u001b[39;00m r\n",
      "File \u001b[0;32m~/Library/Caches/pypoetry/virtualenvs/analysis-of-r-eldenring-n2W_eMD4-py3.8/lib/python3.8/site-packages/requests/models.py:838\u001b[0m, in \u001b[0;36mResponse.content\u001b[0;34m(self)\u001b[0m\n\u001b[1;32m    <a href='file:///Users/jersey/Library/Caches/pypoetry/virtualenvs/analysis-of-r-eldenring-n2W_eMD4-py3.8/lib/python3.8/site-packages/requests/models.py?line=835'>836</a>\u001b[0m         \u001b[39mself\u001b[39m\u001b[39m.\u001b[39m_content \u001b[39m=\u001b[39m \u001b[39mNone\u001b[39;00m\n\u001b[1;32m    <a href='file:///Users/jersey/Library/Caches/pypoetry/virtualenvs/analysis-of-r-eldenring-n2W_eMD4-py3.8/lib/python3.8/site-packages/requests/models.py?line=836'>837</a>\u001b[0m     \u001b[39melse\u001b[39;00m:\n\u001b[0;32m--> <a href='file:///Users/jersey/Library/Caches/pypoetry/virtualenvs/analysis-of-r-eldenring-n2W_eMD4-py3.8/lib/python3.8/site-packages/requests/models.py?line=837'>838</a>\u001b[0m         \u001b[39mself\u001b[39m\u001b[39m.\u001b[39m_content \u001b[39m=\u001b[39m \u001b[39mb\u001b[39;49m\u001b[39m'\u001b[39;49m\u001b[39m'\u001b[39;49m\u001b[39m.\u001b[39;49mjoin(\u001b[39mself\u001b[39;49m\u001b[39m.\u001b[39;49miter_content(CONTENT_CHUNK_SIZE)) \u001b[39mor\u001b[39;00m \u001b[39mb\u001b[39m\u001b[39m'\u001b[39m\u001b[39m'\u001b[39m\n\u001b[1;32m    <a href='file:///Users/jersey/Library/Caches/pypoetry/virtualenvs/analysis-of-r-eldenring-n2W_eMD4-py3.8/lib/python3.8/site-packages/requests/models.py?line=839'>840</a>\u001b[0m \u001b[39mself\u001b[39m\u001b[39m.\u001b[39m_content_consumed \u001b[39m=\u001b[39m \u001b[39mTrue\u001b[39;00m\n\u001b[1;32m    <a href='file:///Users/jersey/Library/Caches/pypoetry/virtualenvs/analysis-of-r-eldenring-n2W_eMD4-py3.8/lib/python3.8/site-packages/requests/models.py?line=840'>841</a>\u001b[0m \u001b[39m# don't need to release the connection; that's been handled by urllib3\u001b[39;00m\n\u001b[1;32m    <a href='file:///Users/jersey/Library/Caches/pypoetry/virtualenvs/analysis-of-r-eldenring-n2W_eMD4-py3.8/lib/python3.8/site-packages/requests/models.py?line=841'>842</a>\u001b[0m \u001b[39m# since we exhausted the data.\u001b[39;00m\n",
      "File \u001b[0;32m~/Library/Caches/pypoetry/virtualenvs/analysis-of-r-eldenring-n2W_eMD4-py3.8/lib/python3.8/site-packages/requests/models.py:763\u001b[0m, in \u001b[0;36mResponse.iter_content.<locals>.generate\u001b[0;34m()\u001b[0m\n\u001b[1;32m    <a href='file:///Users/jersey/Library/Caches/pypoetry/virtualenvs/analysis-of-r-eldenring-n2W_eMD4-py3.8/lib/python3.8/site-packages/requests/models.py?line=760'>761</a>\u001b[0m         \u001b[39myield\u001b[39;00m chunk\n\u001b[1;32m    <a href='file:///Users/jersey/Library/Caches/pypoetry/virtualenvs/analysis-of-r-eldenring-n2W_eMD4-py3.8/lib/python3.8/site-packages/requests/models.py?line=761'>762</a>\u001b[0m \u001b[39mexcept\u001b[39;00m ProtocolError \u001b[39mas\u001b[39;00m e:\n\u001b[0;32m--> <a href='file:///Users/jersey/Library/Caches/pypoetry/virtualenvs/analysis-of-r-eldenring-n2W_eMD4-py3.8/lib/python3.8/site-packages/requests/models.py?line=762'>763</a>\u001b[0m     \u001b[39mraise\u001b[39;00m ChunkedEncodingError(e)\n\u001b[1;32m    <a href='file:///Users/jersey/Library/Caches/pypoetry/virtualenvs/analysis-of-r-eldenring-n2W_eMD4-py3.8/lib/python3.8/site-packages/requests/models.py?line=763'>764</a>\u001b[0m \u001b[39mexcept\u001b[39;00m DecodeError \u001b[39mas\u001b[39;00m e:\n\u001b[1;32m    <a href='file:///Users/jersey/Library/Caches/pypoetry/virtualenvs/analysis-of-r-eldenring-n2W_eMD4-py3.8/lib/python3.8/site-packages/requests/models.py?line=764'>765</a>\u001b[0m     \u001b[39mraise\u001b[39;00m ContentDecodingError(e)\n",
      "\u001b[0;31mChunkedEncodingError\u001b[0m: (\"Connection broken: InvalidChunkLength(got length b'', 0 bytes read)\", InvalidChunkLength(got length b'', 0 bytes read))"
     ]
    }
   ],
   "source": [
    "import datetime as dt\n",
    "# import ValueError\n",
    "# from psaw.PushshiftAPI\n",
    "\n",
    "for i in B_A_pairs:\n",
    "    try:\n",
    "\n",
    "def safeIntegerInput(num_retries = 5):\n",
    "    for attempt_no in range(num_retries):\n",
    "        try:\n",
    "            comments = list(api.search_comments(\n",
    "            subreddit = \"eldenring\",\n",
    "            before = BEFORE,\n",
    "            after = AFTER,\n",
    "            filter = [\n",
    "                \"id\", \n",
    "                \"author\", \n",
    "                \"created_utc\", \n",
    "                \"permalink\", # https://reddit.com/<url>\n",
    "                \"body\",\n",
    "                \"score\", # number of upvotes?\n",
    "                ],\n",
    "            # limit =1,\n",
    "        ))\n",
    "            df = pd.DataFrame(comments)\n",
    "            df.to_csv(\"comments.csv\")\n",
    "\n",
    "        except ValueError as error:\n",
    "            if attempt_no<(num_retries-1):\n",
    "                print(\"ValueError, connection broke\")\n",
    "            else:\n",
    "                raise error\n",
    "\n",
    "safeIntegerInput()\n"
   ]
  },
  {
   "cell_type": "code",
   "execution_count": 80,
   "metadata": {},
   "outputs": [],
   "source": [
    "pd.DataFrame(comments).to_clipboard()"
   ]
  },
  {
   "cell_type": "code",
   "execution_count": 76,
   "metadata": {},
   "outputs": [],
   "source": [
    "df = pd.read_csv(\"comments.csv\")\n",
    "df.head().to_clipboard()"
   ]
  },
  {
   "cell_type": "code",
   "execution_count": 65,
   "metadata": {},
   "outputs": [
    {
     "data": {
      "text/html": [
       "<div>\n",
       "<style scoped>\n",
       "    .dataframe tbody tr th:only-of-type {\n",
       "        vertical-align: middle;\n",
       "    }\n",
       "\n",
       "    .dataframe tbody tr th {\n",
       "        vertical-align: top;\n",
       "    }\n",
       "\n",
       "    .dataframe thead th {\n",
       "        text-align: right;\n",
       "    }\n",
       "</style>\n",
       "<table border=\"1\" class=\"dataframe\">\n",
       "  <thead>\n",
       "    <tr style=\"text-align: right;\">\n",
       "      <th></th>\n",
       "      <th>Unnamed: 0</th>\n",
       "      <th>author</th>\n",
       "      <th>created_utc</th>\n",
       "      <th>full_link</th>\n",
       "      <th>id</th>\n",
       "      <th>num_comments</th>\n",
       "      <th>score</th>\n",
       "      <th>thumbnail</th>\n",
       "      <th>title</th>\n",
       "      <th>upvote_ratio</th>\n",
       "      <th>url</th>\n",
       "      <th>created</th>\n",
       "      <th>d_</th>\n",
       "      <th>create_date</th>\n",
       "    </tr>\n",
       "  </thead>\n",
       "  <tbody>\n",
       "    <tr>\n",
       "      <th>0</th>\n",
       "      <td>0</td>\n",
       "      <td>Us3l3ssZ3D</td>\n",
       "      <td>1648059051</td>\n",
       "      <td>https://www.reddit.com/r/Eldenring/comments/tl...</td>\n",
       "      <td>tl4xj3</td>\n",
       "      <td>0</td>\n",
       "      <td>1</td>\n",
       "      <td>self</td>\n",
       "      <td>Question on how to make my Weapon Stronger</td>\n",
       "      <td>1.0</td>\n",
       "      <td>https://www.reddit.com/r/Eldenring/comments/tl...</td>\n",
       "      <td>1648055451.0</td>\n",
       "      <td>{'author': 'Us3l3ssZ3D', 'created_utc': 164805...</td>\n",
       "      <td>23-03-2022</td>\n",
       "    </tr>\n",
       "    <tr>\n",
       "      <th>1</th>\n",
       "      <td>1</td>\n",
       "      <td>Key-College-4290</td>\n",
       "      <td>1648059048</td>\n",
       "      <td>https://www.reddit.com/r/Eldenring/comments/tl...</td>\n",
       "      <td>tl4xd9</td>\n",
       "      <td>0</td>\n",
       "      <td>1</td>\n",
       "      <td>self</td>\n",
       "      <td>Anyone else get bored after they get to mounta...</td>\n",
       "      <td>1.0</td>\n",
       "      <td>https://www.reddit.com/r/Eldenring/comments/tl...</td>\n",
       "      <td>1648055448.0</td>\n",
       "      <td>{'author': 'Key-College-4290', 'created_utc': ...</td>\n",
       "      <td>23-03-2022</td>\n",
       "    </tr>\n",
       "    <tr>\n",
       "      <th>2</th>\n",
       "      <td>2</td>\n",
       "      <td>Zoiwillxxx</td>\n",
       "      <td>1648059039</td>\n",
       "      <td>https://www.reddit.com/r/Eldenring/comments/tl...</td>\n",
       "      <td>tl4wvb</td>\n",
       "      <td>0</td>\n",
       "      <td>1</td>\n",
       "      <td>https://a.thumbs.redditmedia.com/4Ptpw2_r2JQDM...</td>\n",
       "      <td>Welcome champions, to the Radahn Festival!!!</td>\n",
       "      <td>1.0</td>\n",
       "      <td>https://i.redd.it/607ofk61c6p81.jpg</td>\n",
       "      <td>1648055439.0</td>\n",
       "      <td>{'author': 'Zoiwillxxx', 'created_utc': 164805...</td>\n",
       "      <td>23-03-2022</td>\n",
       "    </tr>\n",
       "    <tr>\n",
       "      <th>3</th>\n",
       "      <td>3</td>\n",
       "      <td>LuneMiester</td>\n",
       "      <td>1648059036</td>\n",
       "      <td>https://www.reddit.com/r/Eldenring/comments/tl...</td>\n",
       "      <td>tl4wpl</td>\n",
       "      <td>0</td>\n",
       "      <td>1</td>\n",
       "      <td>self</td>\n",
       "      <td>Can’t find player I invaded now I’m stuck</td>\n",
       "      <td>1.0</td>\n",
       "      <td>https://www.reddit.com/r/Eldenring/comments/tl...</td>\n",
       "      <td>1648055436.0</td>\n",
       "      <td>{'author': 'LuneMiester', 'created_utc': 16480...</td>\n",
       "      <td>23-03-2022</td>\n",
       "    </tr>\n",
       "    <tr>\n",
       "      <th>4</th>\n",
       "      <td>4</td>\n",
       "      <td>Epickartoffelz</td>\n",
       "      <td>1648058994</td>\n",
       "      <td>https://www.reddit.com/r/Eldenring/comments/tl...</td>\n",
       "      <td>tl4vt6</td>\n",
       "      <td>0</td>\n",
       "      <td>1</td>\n",
       "      <td>https://b.thumbs.redditmedia.com/PT5SacNXCW4Hf...</td>\n",
       "      <td>:’)</td>\n",
       "      <td>1.0</td>\n",
       "      <td>https://i.redd.it/21h38yc0c6p81.jpg</td>\n",
       "      <td>1648055394.0</td>\n",
       "      <td>{'author': 'Epickartoffelz', 'created_utc': 16...</td>\n",
       "      <td>23-03-2022</td>\n",
       "    </tr>\n",
       "  </tbody>\n",
       "</table>\n",
       "</div>"
      ],
      "text/plain": [
       "   Unnamed: 0            author  created_utc  \\\n",
       "0           0        Us3l3ssZ3D   1648059051   \n",
       "1           1  Key-College-4290   1648059048   \n",
       "2           2        Zoiwillxxx   1648059039   \n",
       "3           3       LuneMiester   1648059036   \n",
       "4           4    Epickartoffelz   1648058994   \n",
       "\n",
       "                                           full_link      id  num_comments  \\\n",
       "0  https://www.reddit.com/r/Eldenring/comments/tl...  tl4xj3             0   \n",
       "1  https://www.reddit.com/r/Eldenring/comments/tl...  tl4xd9             0   \n",
       "2  https://www.reddit.com/r/Eldenring/comments/tl...  tl4wvb             0   \n",
       "3  https://www.reddit.com/r/Eldenring/comments/tl...  tl4wpl             0   \n",
       "4  https://www.reddit.com/r/Eldenring/comments/tl...  tl4vt6             0   \n",
       "\n",
       "   score                                          thumbnail  \\\n",
       "0      1                                               self   \n",
       "1      1                                               self   \n",
       "2      1  https://a.thumbs.redditmedia.com/4Ptpw2_r2JQDM...   \n",
       "3      1                                               self   \n",
       "4      1  https://b.thumbs.redditmedia.com/PT5SacNXCW4Hf...   \n",
       "\n",
       "                                               title upvote_ratio  \\\n",
       "0         Question on how to make my Weapon Stronger          1.0   \n",
       "1  Anyone else get bored after they get to mounta...          1.0   \n",
       "2       Welcome champions, to the Radahn Festival!!!          1.0   \n",
       "3          Can’t find player I invaded now I’m stuck          1.0   \n",
       "4                                                :’)          1.0   \n",
       "\n",
       "                                                 url       created  \\\n",
       "0  https://www.reddit.com/r/Eldenring/comments/tl...  1648055451.0   \n",
       "1  https://www.reddit.com/r/Eldenring/comments/tl...  1648055448.0   \n",
       "2                https://i.redd.it/607ofk61c6p81.jpg  1648055439.0   \n",
       "3  https://www.reddit.com/r/Eldenring/comments/tl...  1648055436.0   \n",
       "4                https://i.redd.it/21h38yc0c6p81.jpg  1648055394.0   \n",
       "\n",
       "                                                  d_ create_date  \n",
       "0  {'author': 'Us3l3ssZ3D', 'created_utc': 164805...  23-03-2022  \n",
       "1  {'author': 'Key-College-4290', 'created_utc': ...  23-03-2022  \n",
       "2  {'author': 'Zoiwillxxx', 'created_utc': 164805...  23-03-2022  \n",
       "3  {'author': 'LuneMiester', 'created_utc': 16480...  23-03-2022  \n",
       "4  {'author': 'Epickartoffelz', 'created_utc': 16...  23-03-2022  "
      ]
     },
     "execution_count": 65,
     "metadata": {},
     "output_type": "execute_result"
    }
   ],
   "source": [
    "def utc_to_date_string(utc):\n",
    "    date = dt.datetime.fromtimestamp(utc).date()\n",
    "    return date.strftime(\"%d-%m-%Y\")\n",
    "\n",
    "df[\"create_date\"] = df[\"created_utc\"].apply(utc_to_date_string)\n",
    "df.head()"
   ]
  },
  {
   "cell_type": "code",
   "execution_count": 74,
   "metadata": {},
   "outputs": [
    {
     "data": {
      "text/plain": [
       "<AxesSubplot:xlabel='create_date'>"
      ]
     },
     "execution_count": 74,
     "metadata": {},
     "output_type": "execute_result"
    },
    {
     "data": {
      "image/png": "[encoded data removed]",
      "text/plain": [
       "<Figure size 432x288 with 1 Axes>"
      ]
     },
     "metadata": {
      "needs_background": "light"
     },
     "output_type": "display_data"
    }
   ],
   "source": [
    "from matplotlib import pyplot as plt\n",
    "\n",
    "df.groupby(\"create_date\").count().plot(y=\"id\")\n",
    "plt.xlim()"
   ]
  },
  {
   "cell_type": "code",
   "execution_count": 63,
   "metadata": {},
   "outputs": [
    {
     "data": {
      "text/plain": [
       "'23-03-2022'"
      ]
     },
     "execution_count": 63,
     "metadata": {},
     "output_type": "execute_result"
    }
   ],
   "source": [
    "a = 1648059051\n",
    "dt.datetime.fromtimestamp(a).date().strftime(\"%d-%m-%Y\")\n"
   ]
  },
  {
   "cell_type": "code",
   "execution_count": 24,
   "metadata": {},
   "outputs": [
    {
     "name": "stderr",
     "output_type": "stream",
     "text": [
      "/Users/jersey/Library/Caches/pypoetry/virtualenvs/analysis-of-r-eldenring-n2W_eMD4-py3.8/lib/python3.8/site-packages/psaw/PushshiftAPI.py:252: UserWarning: Not all PushShift shards are active. Query results may be incomplete\n",
      "  warnings.warn(shards_down_message)\n"
     ]
    },
    {
     "data": {
      "text/plain": [
       "comment(all_awardings=[], archived=False, associated_award=None, author='Rascally_Dog', author_flair_background_color=None, author_flair_css_class=None, author_flair_richtext=[], author_flair_template_id=None, author_flair_text=None, author_flair_text_color=None, author_flair_type='text', author_fullname='t2_5b60acr0', author_patreon_flair=False, author_premium=False, body='Me too &gt;.&gt;;', body_sha1='1054a3f80437a71df4a39d0aff0c65bf976b3aa8', can_gild=True, collapsed=False, collapsed_because_crowd_control=None, collapsed_reason=None, collapsed_reason_code=None, comment_type=None, controversiality=0, created_utc=1648052063, distinguished=None, gilded=0, gildings={}, id='i1t7zy0', is_submitter=False, link_id='t3_t7cfvr', locked=False, no_follow=True, parent_id='t1_i1qfbbk', permalink='/r/Eldenring/comments/t7cfvr/anyone_know_where_to_find_the_item_deathbed_smalls/i1t7zy0/', retrieved_utc=1648052074, score=1, score_hidden=False, send_replies=True, stickied=False, subreddit='Eldenring', subreddit_id='t5_122hf1', subreddit_name_prefixed='r/Eldenring', subreddit_type='public', top_awarded_type=None, total_awards_received=0, treatment_tags=[], unrepliable_reason=None, created=1648048463.0, d_={'all_awardings': [], 'archived': False, 'associated_award': None, 'author': 'Rascally_Dog', 'author_flair_background_color': None, 'author_flair_css_class': None, 'author_flair_richtext': [], 'author_flair_template_id': None, 'author_flair_text': None, 'author_flair_text_color': None, 'author_flair_type': 'text', 'author_fullname': 't2_5b60acr0', 'author_patreon_flair': False, 'author_premium': False, 'body': 'Me too &gt;.&gt;;', 'body_sha1': '1054a3f80437a71df4a39d0aff0c65bf976b3aa8', 'can_gild': True, 'collapsed': False, 'collapsed_because_crowd_control': None, 'collapsed_reason': None, 'collapsed_reason_code': None, 'comment_type': None, 'controversiality': 0, 'created_utc': 1648052063, 'distinguished': None, 'gilded': 0, 'gildings': {}, 'id': 'i1t7zy0', 'is_submitter': False, 'link_id': 't3_t7cfvr', 'locked': False, 'no_follow': True, 'parent_id': 't1_i1qfbbk', 'permalink': '/r/Eldenring/comments/t7cfvr/anyone_know_where_to_find_the_item_deathbed_smalls/i1t7zy0/', 'retrieved_utc': 1648052074, 'score': 1, 'score_hidden': False, 'send_replies': True, 'stickied': False, 'subreddit': 'Eldenring', 'subreddit_id': 't5_122hf1', 'subreddit_name_prefixed': 'r/Eldenring', 'subreddit_type': 'public', 'top_awarded_type': None, 'total_awards_received': 0, 'treatment_tags': [], 'unrepliable_reason': None, 'created': 1648048463.0})"
      ]
     },
     "execution_count": 24,
     "metadata": {},
     "output_type": "execute_result"
    }
   ],
   "source": [
    "df.groupby([])"
   ]
  },
  {
   "cell_type": "code",
   "execution_count": 28,
   "metadata": {},
   "outputs": [],
   "source": [
    "import pandas as pd\n",
    "\n",
    "pd.DataFrame(posts).to_clipboard()"
   ]
  },
  {
   "cell_type": "code",
   "execution_count": 11,
   "metadata": {},
   "outputs": [
    {
     "data": {
      "text/plain": [
       "submission(all_awardings=[], allow_live_comments=False, author='MinerGFX', author_flair_css_class=None, author_flair_richtext=[], author_flair_text=None, author_flair_type='text', author_fullname='t2_8w4fp6tp', author_is_blocked=False, author_patreon_flair=False, author_premium=False, awarders=[], can_mod_post=False, contest_mode=False, created_utc=1648051143, domain='self.Eldenring', full_link='https://www.reddit.com/r/Eldenring/comments/tkxjuw/best_robustness_armor_in_the_game/', gildings={}, id='tkxjuw', is_created_from_ads_ui=False, is_crosspostable=True, is_meta=False, is_original_content=False, is_reddit_media_domain=False, is_robot_indexable=True, is_self=True, is_video=False, link_flair_background_color='#ff66ac', link_flair_richtext=[{'e': 'text', 't': 'Game Help'}], link_flair_template_id='56473fd2-9649-11ec-bef4-1edf0f12e8db', link_flair_text='Game Help', link_flair_text_color='dark', link_flair_type='richtext', locked=False, media_only=False, no_follow=True, num_comments=0, num_crossposts=0, over_18=False, parent_whitelist_status='all_ads', permalink='/r/Eldenring/comments/tkxjuw/best_robustness_armor_in_the_game/', pinned=False, pwls=6, retrieved_on=1648051153, score=1, selftext='Title says it all, does anyone know what the best robustness stat slated armor is in the game? tryna get a good kit together for pvp', send_replies=True, spoiler=False, stickied=False, subreddit='Eldenring', subreddit_id='t5_122hf1', subreddit_subscribers=985415, subreddit_type='public', thumbnail='self', title='Best robustness armor in the game?', total_awards_received=0, treatment_tags=[], upvote_ratio=1.0, url='https://www.reddit.com/r/Eldenring/comments/tkxjuw/best_robustness_armor_in_the_game/', whitelist_status='all_ads', wls=6, created=1648047543.0, d_={'all_awardings': [], 'allow_live_comments': False, 'author': 'MinerGFX', 'author_flair_css_class': None, 'author_flair_richtext': [], 'author_flair_text': None, 'author_flair_type': 'text', 'author_fullname': 't2_8w4fp6tp', 'author_is_blocked': False, 'author_patreon_flair': False, 'author_premium': False, 'awarders': [], 'can_mod_post': False, 'contest_mode': False, 'created_utc': 1648051143, 'domain': 'self.Eldenring', 'full_link': 'https://www.reddit.com/r/Eldenring/comments/tkxjuw/best_robustness_armor_in_the_game/', 'gildings': {}, 'id': 'tkxjuw', 'is_created_from_ads_ui': False, 'is_crosspostable': True, 'is_meta': False, 'is_original_content': False, 'is_reddit_media_domain': False, 'is_robot_indexable': True, 'is_self': True, 'is_video': False, 'link_flair_background_color': '#ff66ac', 'link_flair_richtext': [{'e': 'text', 't': 'Game Help'}], 'link_flair_template_id': '56473fd2-9649-11ec-bef4-1edf0f12e8db', 'link_flair_text': 'Game Help', 'link_flair_text_color': 'dark', 'link_flair_type': 'richtext', 'locked': False, 'media_only': False, 'no_follow': True, 'num_comments': 0, 'num_crossposts': 0, 'over_18': False, 'parent_whitelist_status': 'all_ads', 'permalink': '/r/Eldenring/comments/tkxjuw/best_robustness_armor_in_the_game/', 'pinned': False, 'pwls': 6, 'retrieved_on': 1648051153, 'score': 1, 'selftext': 'Title says it all, does anyone know what the best robustness stat slated armor is in the game? tryna get a good kit together for pvp', 'send_replies': True, 'spoiler': False, 'stickied': False, 'subreddit': 'Eldenring', 'subreddit_id': 't5_122hf1', 'subreddit_subscribers': 985415, 'subreddit_type': 'public', 'thumbnail': 'self', 'title': 'Best robustness armor in the game?', 'total_awards_received': 0, 'treatment_tags': [], 'upvote_ratio': 1.0, 'url': 'https://www.reddit.com/r/Eldenring/comments/tkxjuw/best_robustness_armor_in_the_game/', 'whitelist_status': 'all_ads', 'wls': 6, 'created': 1648047543.0})"
      ]
     },
     "execution_count": 11,
     "metadata": {},
     "output_type": "execute_result"
    }
   ],
   "source": [
    "posts[0]"
   ]
  }
 ],
 "metadata": {
  "interpreter": {
   "hash": "31f2aee4e71d21fbe5cf8b01ff0e069b9275f58929596ceb00d14d90e3e16cd6"
  },
  "kernelspec": {
   "display_name": "kernel-poetry-eldenring",
   "language": "python",
   "name": "kernel-poetry-eldenring"
  },
  "language_info": {
   "codemirror_mode": {
    "name": "ipython",
    "version": 3
   },
   "file_extension": ".py",
   "mimetype": "text/x-python",
   "name": "python",
   "nbconvert_exporter": "python",
   "pygments_lexer": "ipython3",
   "version": "3.8.9"
  },
  "orig_nbformat": 4
 },
 "nbformat": 4,
 "nbformat_minor": 2
}
